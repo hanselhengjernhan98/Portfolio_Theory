{
 "cells": [
  {
   "cell_type": "markdown",
   "metadata": {},
   "source": [
    "# Portfolio Optimization: Theory and practical Pitfalls\n",
    "\n",
    "\n",
    "\n",
    "Key Learnings:\n",
    "\n",
    "1. -> No Diversification Effect only if assets are __prefectly correlated__. If not, Portfolio Risk is __below weighted average Risk__!\n",
    "\n",
    "\n",
    "If __all risky assets__ (that exist) are included:\n",
    "- __Capital Market Line (CML)__ is the new __Efficient Frontier__ with all efficient Portfolios. \n",
    "- -> The __MSRP__ is the only __efficient risky Portfolio__. \n",
    "- -> __CML__ can be interpreted as set of __Portfolios consisting of Rf and MSRP__\n",
    "- -> Every Investor should hold a __combination of Rf and MSRP__ (Two-Fund-Theorem).\n",
    "- -> MSRP also called __Market Portfolio__ (MP). "
   ]
  },
  {
   "cell_type": "markdown",
   "metadata": {},
   "source": [
    "## Getting Started"
   ]
  },
  {
   "cell_type": "code",
   "execution_count": 49,
   "metadata": {},
   "outputs": [
    {
     "name": "stderr",
     "output_type": "stream",
     "text": [
      "[*********************100%%**********************]  8 of 8 completed\n"
     ]
    },
    {
     "data": {
      "text/html": [
       "<div>\n",
       "<style scoped>\n",
       "    .dataframe tbody tr th:only-of-type {\n",
       "        vertical-align: middle;\n",
       "    }\n",
       "\n",
       "    .dataframe tbody tr th {\n",
       "        vertical-align: top;\n",
       "    }\n",
       "\n",
       "    .dataframe thead th {\n",
       "        text-align: right;\n",
       "    }\n",
       "</style>\n",
       "<table border=\"1\" class=\"dataframe\">\n",
       "  <thead>\n",
       "    <tr style=\"text-align: right;\">\n",
       "      <th>Ticker</th>\n",
       "      <th>AAPL</th>\n",
       "      <th>BA</th>\n",
       "      <th>DIS</th>\n",
       "      <th>GE</th>\n",
       "      <th>JPM</th>\n",
       "      <th>MSFT</th>\n",
       "      <th>TSLA</th>\n",
       "      <th>WMT</th>\n",
       "    </tr>\n",
       "    <tr>\n",
       "      <th>Date</th>\n",
       "      <th></th>\n",
       "      <th></th>\n",
       "      <th></th>\n",
       "      <th></th>\n",
       "      <th></th>\n",
       "      <th></th>\n",
       "      <th></th>\n",
       "      <th></th>\n",
       "    </tr>\n",
       "  </thead>\n",
       "  <tbody>\n",
       "    <tr>\n",
       "      <th>2019-09-09</th>\n",
       "      <td>53.54</td>\n",
       "      <td>358.78</td>\n",
       "      <td>138.83</td>\n",
       "      <td>44.66</td>\n",
       "      <td>115.40</td>\n",
       "      <td>137.52</td>\n",
       "      <td>15.45</td>\n",
       "      <td>38.78</td>\n",
       "    </tr>\n",
       "    <tr>\n",
       "      <th>2019-09-10</th>\n",
       "      <td>54.17</td>\n",
       "      <td>369.49</td>\n",
       "      <td>135.79</td>\n",
       "      <td>45.55</td>\n",
       "      <td>116.87</td>\n",
       "      <td>136.08</td>\n",
       "      <td>15.70</td>\n",
       "      <td>38.68</td>\n",
       "    </tr>\n",
       "    <tr>\n",
       "      <th>2019-09-11</th>\n",
       "      <td>55.90</td>\n",
       "      <td>382.94</td>\n",
       "      <td>136.19</td>\n",
       "      <td>46.65</td>\n",
       "      <td>117.19</td>\n",
       "      <td>136.12</td>\n",
       "      <td>16.47</td>\n",
       "      <td>38.67</td>\n",
       "    </tr>\n",
       "    <tr>\n",
       "      <th>2019-09-12</th>\n",
       "      <td>55.77</td>\n",
       "      <td>375.63</td>\n",
       "      <td>137.50</td>\n",
       "      <td>46.15</td>\n",
       "      <td>117.91</td>\n",
       "      <td>137.52</td>\n",
       "      <td>16.39</td>\n",
       "      <td>38.97</td>\n",
       "    </tr>\n",
       "    <tr>\n",
       "      <th>2019-09-13</th>\n",
       "      <td>54.69</td>\n",
       "      <td>379.76</td>\n",
       "      <td>138.02</td>\n",
       "      <td>46.55</td>\n",
       "      <td>120.23</td>\n",
       "      <td>137.32</td>\n",
       "      <td>16.35</td>\n",
       "      <td>39.14</td>\n",
       "    </tr>\n",
       "    <tr>\n",
       "      <th>...</th>\n",
       "      <td>...</td>\n",
       "      <td>...</td>\n",
       "      <td>...</td>\n",
       "      <td>...</td>\n",
       "      <td>...</td>\n",
       "      <td>...</td>\n",
       "      <td>...</td>\n",
       "      <td>...</td>\n",
       "    </tr>\n",
       "    <tr>\n",
       "      <th>2024-08-30</th>\n",
       "      <td>229.00</td>\n",
       "      <td>173.74</td>\n",
       "      <td>90.38</td>\n",
       "      <td>174.62</td>\n",
       "      <td>224.80</td>\n",
       "      <td>417.14</td>\n",
       "      <td>214.11</td>\n",
       "      <td>77.23</td>\n",
       "    </tr>\n",
       "    <tr>\n",
       "      <th>2024-09-03</th>\n",
       "      <td>222.77</td>\n",
       "      <td>161.02</td>\n",
       "      <td>89.13</td>\n",
       "      <td>164.21</td>\n",
       "      <td>220.30</td>\n",
       "      <td>409.44</td>\n",
       "      <td>210.60</td>\n",
       "      <td>77.17</td>\n",
       "    </tr>\n",
       "    <tr>\n",
       "      <th>2024-09-04</th>\n",
       "      <td>220.85</td>\n",
       "      <td>163.22</td>\n",
       "      <td>89.25</td>\n",
       "      <td>166.36</td>\n",
       "      <td>219.33</td>\n",
       "      <td>408.90</td>\n",
       "      <td>219.41</td>\n",
       "      <td>77.24</td>\n",
       "    </tr>\n",
       "    <tr>\n",
       "      <th>2024-09-05</th>\n",
       "      <td>222.38</td>\n",
       "      <td>162.15</td>\n",
       "      <td>88.65</td>\n",
       "      <td>163.85</td>\n",
       "      <td>217.63</td>\n",
       "      <td>408.39</td>\n",
       "      <td>230.17</td>\n",
       "      <td>76.96</td>\n",
       "    </tr>\n",
       "    <tr>\n",
       "      <th>2024-09-06</th>\n",
       "      <td>220.82</td>\n",
       "      <td>157.62</td>\n",
       "      <td>87.94</td>\n",
       "      <td>161.23</td>\n",
       "      <td>212.46</td>\n",
       "      <td>401.70</td>\n",
       "      <td>210.73</td>\n",
       "      <td>76.64</td>\n",
       "    </tr>\n",
       "  </tbody>\n",
       "</table>\n",
       "<p>1258 rows × 8 columns</p>\n",
       "</div>"
      ],
      "text/plain": [
       "Ticker       AAPL     BA    DIS     GE    JPM   MSFT   TSLA   WMT\n",
       "Date                                                             \n",
       "2019-09-09  53.54 358.78 138.83  44.66 115.40 137.52  15.45 38.78\n",
       "2019-09-10  54.17 369.49 135.79  45.55 116.87 136.08  15.70 38.68\n",
       "2019-09-11  55.90 382.94 136.19  46.65 117.19 136.12  16.47 38.67\n",
       "2019-09-12  55.77 375.63 137.50  46.15 117.91 137.52  16.39 38.97\n",
       "2019-09-13  54.69 379.76 138.02  46.55 120.23 137.32  16.35 39.14\n",
       "...           ...    ...    ...    ...    ...    ...    ...   ...\n",
       "2024-08-30 229.00 173.74  90.38 174.62 224.80 417.14 214.11 77.23\n",
       "2024-09-03 222.77 161.02  89.13 164.21 220.30 409.44 210.60 77.17\n",
       "2024-09-04 220.85 163.22  89.25 166.36 219.33 408.90 219.41 77.24\n",
       "2024-09-05 222.38 162.15  88.65 163.85 217.63 408.39 230.17 76.96\n",
       "2024-09-06 220.82 157.62  87.94 161.23 212.46 401.70 210.73 76.64\n",
       "\n",
       "[1258 rows x 8 columns]"
      ]
     },
     "execution_count": 49,
     "metadata": {},
     "output_type": "execute_result"
    }
   ],
   "source": [
    "import pandas as pd\n",
    "import numpy as np\n",
    "import matplotlib.pyplot as plt\n",
    "import yfinance as yf\n",
    "pd.set_option('display.float_format', lambda x: '%.2f' % x)\n",
    "\n",
    "#5 year past data\n",
    "start = '2019-09-09'\n",
    "end = '2024-09-09'\n",
    "symbol = ['AAPL', 'BA', 'DIS', 'GE', 'JPM', 'MSFT', 'TSLA', 'WMT']\n",
    "df = yf.download(symbol, start, end ).Close\n",
    "df"
   ]
  },
  {
   "cell_type": "code",
   "execution_count": 51,
   "metadata": {},
   "outputs": [
    {
     "data": {
      "text/html": [
       "<div>\n",
       "<style scoped>\n",
       "    .dataframe tbody tr th:only-of-type {\n",
       "        vertical-align: middle;\n",
       "    }\n",
       "\n",
       "    .dataframe tbody tr th {\n",
       "        vertical-align: top;\n",
       "    }\n",
       "\n",
       "    .dataframe thead th {\n",
       "        text-align: right;\n",
       "    }\n",
       "</style>\n",
       "<table border=\"1\" class=\"dataframe\">\n",
       "  <thead>\n",
       "    <tr style=\"text-align: right;\">\n",
       "      <th>Ticker</th>\n",
       "      <th>AAPL</th>\n",
       "      <th>BA</th>\n",
       "      <th>DIS</th>\n",
       "      <th>GE</th>\n",
       "      <th>JPM</th>\n",
       "      <th>MSFT</th>\n",
       "      <th>TSLA</th>\n",
       "      <th>WMT</th>\n",
       "    </tr>\n",
       "    <tr>\n",
       "      <th>Date</th>\n",
       "      <th></th>\n",
       "      <th></th>\n",
       "      <th></th>\n",
       "      <th></th>\n",
       "      <th></th>\n",
       "      <th></th>\n",
       "      <th></th>\n",
       "      <th></th>\n",
       "    </tr>\n",
       "  </thead>\n",
       "  <tbody>\n",
       "    <tr>\n",
       "      <th>2019-09-09</th>\n",
       "      <td>NaN</td>\n",
       "      <td>NaN</td>\n",
       "      <td>NaN</td>\n",
       "      <td>NaN</td>\n",
       "      <td>NaN</td>\n",
       "      <td>NaN</td>\n",
       "      <td>NaN</td>\n",
       "      <td>NaN</td>\n",
       "    </tr>\n",
       "    <tr>\n",
       "      <th>2019-09-10</th>\n",
       "      <td>0.01</td>\n",
       "      <td>0.03</td>\n",
       "      <td>-0.02</td>\n",
       "      <td>0.02</td>\n",
       "      <td>0.01</td>\n",
       "      <td>-0.01</td>\n",
       "      <td>0.02</td>\n",
       "      <td>-0.00</td>\n",
       "    </tr>\n",
       "    <tr>\n",
       "      <th>2019-09-11</th>\n",
       "      <td>0.03</td>\n",
       "      <td>0.04</td>\n",
       "      <td>0.00</td>\n",
       "      <td>0.02</td>\n",
       "      <td>0.00</td>\n",
       "      <td>0.00</td>\n",
       "      <td>0.05</td>\n",
       "      <td>-0.00</td>\n",
       "    </tr>\n",
       "    <tr>\n",
       "      <th>2019-09-12</th>\n",
       "      <td>-0.00</td>\n",
       "      <td>-0.02</td>\n",
       "      <td>0.01</td>\n",
       "      <td>-0.01</td>\n",
       "      <td>0.01</td>\n",
       "      <td>0.01</td>\n",
       "      <td>-0.00</td>\n",
       "      <td>0.01</td>\n",
       "    </tr>\n",
       "    <tr>\n",
       "      <th>2019-09-13</th>\n",
       "      <td>-0.02</td>\n",
       "      <td>0.01</td>\n",
       "      <td>0.00</td>\n",
       "      <td>0.01</td>\n",
       "      <td>0.02</td>\n",
       "      <td>-0.00</td>\n",
       "      <td>-0.00</td>\n",
       "      <td>0.00</td>\n",
       "    </tr>\n",
       "    <tr>\n",
       "      <th>...</th>\n",
       "      <td>...</td>\n",
       "      <td>...</td>\n",
       "      <td>...</td>\n",
       "      <td>...</td>\n",
       "      <td>...</td>\n",
       "      <td>...</td>\n",
       "      <td>...</td>\n",
       "      <td>...</td>\n",
       "    </tr>\n",
       "    <tr>\n",
       "      <th>2024-08-30</th>\n",
       "      <td>-0.00</td>\n",
       "      <td>0.01</td>\n",
       "      <td>0.01</td>\n",
       "      <td>0.01</td>\n",
       "      <td>0.01</td>\n",
       "      <td>0.01</td>\n",
       "      <td>0.04</td>\n",
       "      <td>0.01</td>\n",
       "    </tr>\n",
       "    <tr>\n",
       "      <th>2024-09-03</th>\n",
       "      <td>-0.03</td>\n",
       "      <td>-0.07</td>\n",
       "      <td>-0.01</td>\n",
       "      <td>-0.06</td>\n",
       "      <td>-0.02</td>\n",
       "      <td>-0.02</td>\n",
       "      <td>-0.02</td>\n",
       "      <td>-0.00</td>\n",
       "    </tr>\n",
       "    <tr>\n",
       "      <th>2024-09-04</th>\n",
       "      <td>-0.01</td>\n",
       "      <td>0.01</td>\n",
       "      <td>0.00</td>\n",
       "      <td>0.01</td>\n",
       "      <td>-0.00</td>\n",
       "      <td>-0.00</td>\n",
       "      <td>0.04</td>\n",
       "      <td>0.00</td>\n",
       "    </tr>\n",
       "    <tr>\n",
       "      <th>2024-09-05</th>\n",
       "      <td>0.01</td>\n",
       "      <td>-0.01</td>\n",
       "      <td>-0.01</td>\n",
       "      <td>-0.02</td>\n",
       "      <td>-0.01</td>\n",
       "      <td>-0.00</td>\n",
       "      <td>0.05</td>\n",
       "      <td>-0.00</td>\n",
       "    </tr>\n",
       "    <tr>\n",
       "      <th>2024-09-06</th>\n",
       "      <td>-0.01</td>\n",
       "      <td>-0.03</td>\n",
       "      <td>-0.01</td>\n",
       "      <td>-0.02</td>\n",
       "      <td>-0.02</td>\n",
       "      <td>-0.02</td>\n",
       "      <td>-0.08</td>\n",
       "      <td>-0.00</td>\n",
       "    </tr>\n",
       "  </tbody>\n",
       "</table>\n",
       "<p>1258 rows × 8 columns</p>\n",
       "</div>"
      ],
      "text/plain": [
       "Ticker      AAPL    BA   DIS    GE   JPM  MSFT  TSLA   WMT\n",
       "Date                                                      \n",
       "2019-09-09   NaN   NaN   NaN   NaN   NaN   NaN   NaN   NaN\n",
       "2019-09-10  0.01  0.03 -0.02  0.02  0.01 -0.01  0.02 -0.00\n",
       "2019-09-11  0.03  0.04  0.00  0.02  0.00  0.00  0.05 -0.00\n",
       "2019-09-12 -0.00 -0.02  0.01 -0.01  0.01  0.01 -0.00  0.01\n",
       "2019-09-13 -0.02  0.01  0.00  0.01  0.02 -0.00 -0.00  0.00\n",
       "...          ...   ...   ...   ...   ...   ...   ...   ...\n",
       "2024-08-30 -0.00  0.01  0.01  0.01  0.01  0.01  0.04  0.01\n",
       "2024-09-03 -0.03 -0.07 -0.01 -0.06 -0.02 -0.02 -0.02 -0.00\n",
       "2024-09-04 -0.01  0.01  0.00  0.01 -0.00 -0.00  0.04  0.00\n",
       "2024-09-05  0.01 -0.01 -0.01 -0.02 -0.01 -0.00  0.05 -0.00\n",
       "2024-09-06 -0.01 -0.03 -0.01 -0.02 -0.02 -0.02 -0.08 -0.00\n",
       "\n",
       "[1258 rows x 8 columns]"
      ]
     },
     "execution_count": 51,
     "metadata": {},
     "output_type": "execute_result"
    }
   ],
   "source": [
    "returns = df.pct_change()\n",
    "returns"
   ]
  },
  {
   "cell_type": "code",
   "execution_count": 53,
   "metadata": {},
   "outputs": [],
   "source": [
    "def ann_risk_return(returns_df): # assumes simple returns as input\n",
    "    summary = pd.DataFrame(index = returns_df.columns)\n",
    "    summary[\"ann. Risk\"] = returns_df.std() * np.sqrt(252)\n",
    "    log_returns = np.log(returns_df + 1)\n",
    "    summary[\"CAGR\"] = np.exp(log_returns.mean() * 252) - 1\n",
    "    return summary"
   ]
  },
  {
   "cell_type": "code",
   "execution_count": 55,
   "metadata": {},
   "outputs": [
    {
     "data": {
      "text/html": [
       "<div>\n",
       "<style scoped>\n",
       "    .dataframe tbody tr th:only-of-type {\n",
       "        vertical-align: middle;\n",
       "    }\n",
       "\n",
       "    .dataframe tbody tr th {\n",
       "        vertical-align: top;\n",
       "    }\n",
       "\n",
       "    .dataframe thead th {\n",
       "        text-align: right;\n",
       "    }\n",
       "</style>\n",
       "<table border=\"1\" class=\"dataframe\">\n",
       "  <thead>\n",
       "    <tr style=\"text-align: right;\">\n",
       "      <th></th>\n",
       "      <th>ann. Risk</th>\n",
       "      <th>CAGR</th>\n",
       "    </tr>\n",
       "    <tr>\n",
       "      <th>Ticker</th>\n",
       "      <th></th>\n",
       "      <th></th>\n",
       "    </tr>\n",
       "  </thead>\n",
       "  <tbody>\n",
       "    <tr>\n",
       "      <th>AAPL</th>\n",
       "      <td>0.32</td>\n",
       "      <td>0.33</td>\n",
       "    </tr>\n",
       "    <tr>\n",
       "      <th>BA</th>\n",
       "      <td>0.51</td>\n",
       "      <td>-0.15</td>\n",
       "    </tr>\n",
       "    <tr>\n",
       "      <th>DIS</th>\n",
       "      <td>0.34</td>\n",
       "      <td>-0.09</td>\n",
       "    </tr>\n",
       "    <tr>\n",
       "      <th>GE</th>\n",
       "      <td>0.40</td>\n",
       "      <td>0.29</td>\n",
       "    </tr>\n",
       "    <tr>\n",
       "      <th>JPM</th>\n",
       "      <td>0.32</td>\n",
       "      <td>0.13</td>\n",
       "    </tr>\n",
       "    <tr>\n",
       "      <th>MSFT</th>\n",
       "      <td>0.30</td>\n",
       "      <td>0.24</td>\n",
       "    </tr>\n",
       "    <tr>\n",
       "      <th>TSLA</th>\n",
       "      <td>0.66</td>\n",
       "      <td>0.69</td>\n",
       "    </tr>\n",
       "    <tr>\n",
       "      <th>WMT</th>\n",
       "      <td>0.22</td>\n",
       "      <td>0.15</td>\n",
       "    </tr>\n",
       "  </tbody>\n",
       "</table>\n",
       "</div>"
      ],
      "text/plain": [
       "        ann. Risk  CAGR\n",
       "Ticker                 \n",
       "AAPL         0.32  0.33\n",
       "BA           0.51 -0.15\n",
       "DIS          0.34 -0.09\n",
       "GE           0.40  0.29\n",
       "JPM          0.32  0.13\n",
       "MSFT         0.30  0.24\n",
       "TSLA         0.66  0.69\n",
       "WMT          0.22  0.15"
      ]
     },
     "execution_count": 55,
     "metadata": {},
     "output_type": "execute_result"
    }
   ],
   "source": [
    "summary = ann_risk_return(returns)\n",
    "summary"
   ]
  },
  {
   "cell_type": "code",
   "execution_count": 57,
   "metadata": {},
   "outputs": [
    {
     "data": {
      "image/png": "[encoded data removed]",
      "text/plain": [
       "<Figure size 1500x1200 with 1 Axes>"
      ]
     },
     "metadata": {},
     "output_type": "display_data"
    }
   ],
   "source": [
    "summary.plot(kind = \"scatter\", x = \"ann. Risk\", y = \"CAGR\", figsize = (15,12), s = 50, fontsize = 15)\n",
    "for i in summary.index:\n",
    "    plt.annotate(i, xy=(summary.loc[i, \"ann. Risk\"]+0.005, summary.loc[i, \"CAGR\"]+0.005), size = 10)\n",
    "plt.xlabel(\"ann. Risk (std)\", fontsize = 15)\n",
    "plt.ylabel(\"CAGR\", fontsize = 15)\n",
    "plt.title(\"Risk-Return Analysis\", fontsize = 20)\n",
    "plt.show()"
   ]
  },
  {
   "cell_type": "code",
   "execution_count": null,
   "metadata": {},
   "outputs": [],
   "source": []
  },
  {
   "cell_type": "markdown",
   "metadata": {},
   "source": [
    "## 2-Asset-Case (Intro)"
   ]
  },
  {
   "cell_type": "code",
   "execution_count": 59,
   "metadata": {},
   "outputs": [
    {
     "data": {
      "text/html": [
       "<div>\n",
       "<style scoped>\n",
       "    .dataframe tbody tr th:only-of-type {\n",
       "        vertical-align: middle;\n",
       "    }\n",
       "\n",
       "    .dataframe tbody tr th {\n",
       "        vertical-align: top;\n",
       "    }\n",
       "\n",
       "    .dataframe thead th {\n",
       "        text-align: right;\n",
       "    }\n",
       "</style>\n",
       "<table border=\"1\" class=\"dataframe\">\n",
       "  <thead>\n",
       "    <tr style=\"text-align: right;\">\n",
       "      <th></th>\n",
       "      <th>ann. Risk</th>\n",
       "      <th>CAGR</th>\n",
       "    </tr>\n",
       "    <tr>\n",
       "      <th>Ticker</th>\n",
       "      <th></th>\n",
       "      <th></th>\n",
       "    </tr>\n",
       "  </thead>\n",
       "  <tbody>\n",
       "    <tr>\n",
       "      <th>AAPL</th>\n",
       "      <td>0.32</td>\n",
       "      <td>0.33</td>\n",
       "    </tr>\n",
       "    <tr>\n",
       "      <th>BA</th>\n",
       "      <td>0.51</td>\n",
       "      <td>-0.15</td>\n",
       "    </tr>\n",
       "    <tr>\n",
       "      <th>DIS</th>\n",
       "      <td>0.34</td>\n",
       "      <td>-0.09</td>\n",
       "    </tr>\n",
       "    <tr>\n",
       "      <th>GE</th>\n",
       "      <td>0.40</td>\n",
       "      <td>0.29</td>\n",
       "    </tr>\n",
       "    <tr>\n",
       "      <th>JPM</th>\n",
       "      <td>0.32</td>\n",
       "      <td>0.13</td>\n",
       "    </tr>\n",
       "    <tr>\n",
       "      <th>MSFT</th>\n",
       "      <td>0.30</td>\n",
       "      <td>0.24</td>\n",
       "    </tr>\n",
       "    <tr>\n",
       "      <th>TSLA</th>\n",
       "      <td>0.66</td>\n",
       "      <td>0.69</td>\n",
       "    </tr>\n",
       "    <tr>\n",
       "      <th>WMT</th>\n",
       "      <td>0.22</td>\n",
       "      <td>0.15</td>\n",
       "    </tr>\n",
       "  </tbody>\n",
       "</table>\n",
       "</div>"
      ],
      "text/plain": [
       "        ann. Risk  CAGR\n",
       "Ticker                 \n",
       "AAPL         0.32  0.33\n",
       "BA           0.51 -0.15\n",
       "DIS          0.34 -0.09\n",
       "GE           0.40  0.29\n",
       "JPM          0.32  0.13\n",
       "MSFT         0.30  0.24\n",
       "TSLA         0.66  0.69\n",
       "WMT          0.22  0.15"
      ]
     },
     "execution_count": 59,
     "metadata": {},
     "output_type": "execute_result"
    }
   ],
   "source": [
    "summary"
   ]
  },
  {
   "cell_type": "code",
   "execution_count": 61,
   "metadata": {},
   "outputs": [],
   "source": [
    "assets = [\"WMT\", \"AAPL\"]"
   ]
  },
  {
   "cell_type": "code",
   "execution_count": 63,
   "metadata": {},
   "outputs": [
    {
     "data": {
      "text/html": [
       "<div>\n",
       "<style scoped>\n",
       "    .dataframe tbody tr th:only-of-type {\n",
       "        vertical-align: middle;\n",
       "    }\n",
       "\n",
       "    .dataframe tbody tr th {\n",
       "        vertical-align: top;\n",
       "    }\n",
       "\n",
       "    .dataframe thead th {\n",
       "        text-align: right;\n",
       "    }\n",
       "</style>\n",
       "<table border=\"1\" class=\"dataframe\">\n",
       "  <thead>\n",
       "    <tr style=\"text-align: right;\">\n",
       "      <th></th>\n",
       "      <th>ann. Risk</th>\n",
       "      <th>CAGR</th>\n",
       "    </tr>\n",
       "    <tr>\n",
       "      <th>Ticker</th>\n",
       "      <th></th>\n",
       "      <th></th>\n",
       "    </tr>\n",
       "  </thead>\n",
       "  <tbody>\n",
       "    <tr>\n",
       "      <th>WMT</th>\n",
       "      <td>0.22</td>\n",
       "      <td>0.15</td>\n",
       "    </tr>\n",
       "    <tr>\n",
       "      <th>AAPL</th>\n",
       "      <td>0.32</td>\n",
       "      <td>0.33</td>\n",
       "    </tr>\n",
       "  </tbody>\n",
       "</table>\n",
       "</div>"
      ],
      "text/plain": [
       "        ann. Risk  CAGR\n",
       "Ticker                 \n",
       "WMT          0.22  0.15\n",
       "AAPL         0.32  0.33"
      ]
     },
     "execution_count": 63,
     "metadata": {},
     "output_type": "execute_result"
    }
   ],
   "source": [
    "subset = summary.loc[assets]\n",
    "subset"
   ]
  },
  {
   "cell_type": "code",
   "execution_count": 65,
   "metadata": {},
   "outputs": [
    {
     "data": {
      "text/html": [
       "<div>\n",
       "<style scoped>\n",
       "    .dataframe tbody tr th:only-of-type {\n",
       "        vertical-align: middle;\n",
       "    }\n",
       "\n",
       "    .dataframe tbody tr th {\n",
       "        vertical-align: top;\n",
       "    }\n",
       "\n",
       "    .dataframe thead th {\n",
       "        text-align: right;\n",
       "    }\n",
       "</style>\n",
       "<table border=\"1\" class=\"dataframe\">\n",
       "  <thead>\n",
       "    <tr style=\"text-align: right;\">\n",
       "      <th></th>\n",
       "      <th>Risk</th>\n",
       "      <th>Return</th>\n",
       "    </tr>\n",
       "    <tr>\n",
       "      <th>Ticker</th>\n",
       "      <th></th>\n",
       "      <th></th>\n",
       "    </tr>\n",
       "  </thead>\n",
       "  <tbody>\n",
       "    <tr>\n",
       "      <th>WMT</th>\n",
       "      <td>0.22</td>\n",
       "      <td>0.15</td>\n",
       "    </tr>\n",
       "    <tr>\n",
       "      <th>AAPL</th>\n",
       "      <td>0.32</td>\n",
       "      <td>0.33</td>\n",
       "    </tr>\n",
       "  </tbody>\n",
       "</table>\n",
       "</div>"
      ],
      "text/plain": [
       "        Risk  Return\n",
       "Ticker              \n",
       "WMT     0.22    0.15\n",
       "AAPL    0.32    0.33"
      ]
     },
     "execution_count": 65,
     "metadata": {},
     "output_type": "execute_result"
    }
   ],
   "source": [
    "subset.columns = [\"Risk\", \"Return\"]\n",
    "subset"
   ]
  },
  {
   "cell_type": "code",
   "execution_count": 67,
   "metadata": {},
   "outputs": [
    {
     "data": {
      "image/png": "[encoded data removed]",
      "text/plain": [
       "<Figure size 1500x900 with 1 Axes>"
      ]
     },
     "metadata": {},
     "output_type": "display_data"
    }
   ],
   "source": [
    "plt.figure(figsize = (15, 9))\n",
    "plt.scatter(subset.loc[:, \"Risk\"], subset.loc[:, \"Return\"], s= 50, color = \"black\", marker = \"D\")\n",
    "for i in subset.index:\n",
    "    plt.annotate(i, xy=(subset.loc[i, \"Risk\"]+0.005, subset.loc[i, \"Return\"] + 0.005), size = 15)\n",
    "plt.xlim(0, 0.4)\n",
    "plt.ylim(0, 0.4)\n",
    "plt.xlabel(\"ann. Risk (std)\", fontsize = 15)\n",
    "plt.ylabel(\"CAGR\", fontsize = 15)\n",
    "plt.title(\"Risk/Return\", fontsize = 20)\n",
    "plt.show()"
   ]
  },
  {
   "cell_type": "code",
   "execution_count": null,
   "metadata": {},
   "outputs": [],
   "source": []
  },
  {
   "cell_type": "markdown",
   "metadata": {},
   "source": [
    "## Portfolio Return (2-Asset-Case)"
   ]
  },
  {
   "cell_type": "code",
   "execution_count": 71,
   "metadata": {},
   "outputs": [],
   "source": [
    "nop = 100"
   ]
  },
  {
   "cell_type": "code",
   "execution_count": 73,
   "metadata": {},
   "outputs": [
    {
     "data": {
      "text/plain": [
       "array([0.        , 0.01010101, 0.02020202, 0.03030303, 0.04040404,\n",
       "       0.05050505, 0.06060606, 0.07070707, 0.08080808, 0.09090909,\n",
       "       0.1010101 , 0.11111111, 0.12121212, 0.13131313, 0.14141414,\n",
       "       0.15151515, 0.16161616, 0.17171717, 0.18181818, 0.19191919,\n",
       "       0.2020202 , 0.21212121, 0.22222222, 0.23232323, 0.24242424,\n",
       "       0.25252525, 0.26262626, 0.27272727, 0.28282828, 0.29292929,\n",
       "       0.3030303 , 0.31313131, 0.32323232, 0.33333333, 0.34343434,\n",
       "       0.35353535, 0.36363636, 0.37373737, 0.38383838, 0.39393939,\n",
       "       0.4040404 , 0.41414141, 0.42424242, 0.43434343, 0.44444444,\n",
       "       0.45454545, 0.46464646, 0.47474747, 0.48484848, 0.49494949,\n",
       "       0.50505051, 0.51515152, 0.52525253, 0.53535354, 0.54545455,\n",
       "       0.55555556, 0.56565657, 0.57575758, 0.58585859, 0.5959596 ,\n",
       "       0.60606061, 0.61616162, 0.62626263, 0.63636364, 0.64646465,\n",
       "       0.65656566, 0.66666667, 0.67676768, 0.68686869, 0.6969697 ,\n",
       "       0.70707071, 0.71717172, 0.72727273, 0.73737374, 0.74747475,\n",
       "       0.75757576, 0.76767677, 0.77777778, 0.78787879, 0.7979798 ,\n",
       "       0.80808081, 0.81818182, 0.82828283, 0.83838384, 0.84848485,\n",
       "       0.85858586, 0.86868687, 0.87878788, 0.88888889, 0.8989899 ,\n",
       "       0.90909091, 0.91919192, 0.92929293, 0.93939394, 0.94949495,\n",
       "       0.95959596, 0.96969697, 0.97979798, 0.98989899, 1.        ])"
      ]
     },
     "execution_count": 73,
     "metadata": {},
     "output_type": "execute_result"
    }
   ],
   "source": [
    "w_A = np.linspace(0, 1, nop)\n",
    "w_A"
   ]
  },
  {
   "cell_type": "code",
   "execution_count": 75,
   "metadata": {},
   "outputs": [
    {
     "data": {
      "text/plain": [
       "array([1.        , 0.98989899, 0.97979798, 0.96969697, 0.95959596,\n",
       "       0.94949495, 0.93939394, 0.92929293, 0.91919192, 0.90909091,\n",
       "       0.8989899 , 0.88888889, 0.87878788, 0.86868687, 0.85858586,\n",
       "       0.84848485, 0.83838384, 0.82828283, 0.81818182, 0.80808081,\n",
       "       0.7979798 , 0.78787879, 0.77777778, 0.76767677, 0.75757576,\n",
       "       0.74747475, 0.73737374, 0.72727273, 0.71717172, 0.70707071,\n",
       "       0.6969697 , 0.68686869, 0.67676768, 0.66666667, 0.65656566,\n",
       "       0.64646465, 0.63636364, 0.62626263, 0.61616162, 0.60606061,\n",
       "       0.5959596 , 0.58585859, 0.57575758, 0.56565657, 0.55555556,\n",
       "       0.54545455, 0.53535354, 0.52525253, 0.51515152, 0.50505051,\n",
       "       0.49494949, 0.48484848, 0.47474747, 0.46464646, 0.45454545,\n",
       "       0.44444444, 0.43434343, 0.42424242, 0.41414141, 0.4040404 ,\n",
       "       0.39393939, 0.38383838, 0.37373737, 0.36363636, 0.35353535,\n",
       "       0.34343434, 0.33333333, 0.32323232, 0.31313131, 0.3030303 ,\n",
       "       0.29292929, 0.28282828, 0.27272727, 0.26262626, 0.25252525,\n",
       "       0.24242424, 0.23232323, 0.22222222, 0.21212121, 0.2020202 ,\n",
       "       0.19191919, 0.18181818, 0.17171717, 0.16161616, 0.15151515,\n",
       "       0.14141414, 0.13131313, 0.12121212, 0.11111111, 0.1010101 ,\n",
       "       0.09090909, 0.08080808, 0.07070707, 0.06060606, 0.05050505,\n",
       "       0.04040404, 0.03030303, 0.02020202, 0.01010101, 0.        ])"
      ]
     },
     "execution_count": 75,
     "metadata": {},
     "output_type": "execute_result"
    }
   ],
   "source": [
    "w_B = 1 - w_A\n",
    "w_B"
   ]
  },
  {
   "cell_type": "code",
   "execution_count": 77,
   "metadata": {},
   "outputs": [
    {
     "data": {
      "text/plain": [
       "array([[0.        , 1.        ],\n",
       "       [0.01010101, 0.98989899],\n",
       "       [0.02020202, 0.97979798],\n",
       "       [0.03030303, 0.96969697],\n",
       "       [0.04040404, 0.95959596],\n",
       "       [0.05050505, 0.94949495],\n",
       "       [0.06060606, 0.93939394],\n",
       "       [0.07070707, 0.92929293],\n",
       "       [0.08080808, 0.91919192],\n",
       "       [0.09090909, 0.90909091],\n",
       "       [0.1010101 , 0.8989899 ],\n",
       "       [0.11111111, 0.88888889],\n",
       "       [0.12121212, 0.87878788],\n",
       "       [0.13131313, 0.86868687],\n",
       "       [0.14141414, 0.85858586],\n",
       "       [0.15151515, 0.84848485],\n",
       "       [0.16161616, 0.83838384],\n",
       "       [0.17171717, 0.82828283],\n",
       "       [0.18181818, 0.81818182],\n",
       "       [0.19191919, 0.80808081],\n",
       "       [0.2020202 , 0.7979798 ],\n",
       "       [0.21212121, 0.78787879],\n",
       "       [0.22222222, 0.77777778],\n",
       "       [0.23232323, 0.76767677],\n",
       "       [0.24242424, 0.75757576],\n",
       "       [0.25252525, 0.74747475],\n",
       "       [0.26262626, 0.73737374],\n",
       "       [0.27272727, 0.72727273],\n",
       "       [0.28282828, 0.71717172],\n",
       "       [0.29292929, 0.70707071],\n",
       "       [0.3030303 , 0.6969697 ],\n",
       "       [0.31313131, 0.68686869],\n",
       "       [0.32323232, 0.67676768],\n",
       "       [0.33333333, 0.66666667],\n",
       "       [0.34343434, 0.65656566],\n",
       "       [0.35353535, 0.64646465],\n",
       "       [0.36363636, 0.63636364],\n",
       "       [0.37373737, 0.62626263],\n",
       "       [0.38383838, 0.61616162],\n",
       "       [0.39393939, 0.60606061],\n",
       "       [0.4040404 , 0.5959596 ],\n",
       "       [0.41414141, 0.58585859],\n",
       "       [0.42424242, 0.57575758],\n",
       "       [0.43434343, 0.56565657],\n",
       "       [0.44444444, 0.55555556],\n",
       "       [0.45454545, 0.54545455],\n",
       "       [0.46464646, 0.53535354],\n",
       "       [0.47474747, 0.52525253],\n",
       "       [0.48484848, 0.51515152],\n",
       "       [0.49494949, 0.50505051],\n",
       "       [0.50505051, 0.49494949],\n",
       "       [0.51515152, 0.48484848],\n",
       "       [0.52525253, 0.47474747],\n",
       "       [0.53535354, 0.46464646],\n",
       "       [0.54545455, 0.45454545],\n",
       "       [0.55555556, 0.44444444],\n",
       "       [0.56565657, 0.43434343],\n",
       "       [0.57575758, 0.42424242],\n",
       "       [0.58585859, 0.41414141],\n",
       "       [0.5959596 , 0.4040404 ],\n",
       "       [0.60606061, 0.39393939],\n",
       "       [0.61616162, 0.38383838],\n",
       "       [0.62626263, 0.37373737],\n",
       "       [0.63636364, 0.36363636],\n",
       "       [0.64646465, 0.35353535],\n",
       "       [0.65656566, 0.34343434],\n",
       "       [0.66666667, 0.33333333],\n",
       "       [0.67676768, 0.32323232],\n",
       "       [0.68686869, 0.31313131],\n",
       "       [0.6969697 , 0.3030303 ],\n",
       "       [0.70707071, 0.29292929],\n",
       "       [0.71717172, 0.28282828],\n",
       "       [0.72727273, 0.27272727],\n",
       "       [0.73737374, 0.26262626],\n",
       "       [0.74747475, 0.25252525],\n",
       "       [0.75757576, 0.24242424],\n",
       "       [0.76767677, 0.23232323],\n",
       "       [0.77777778, 0.22222222],\n",
       "       [0.78787879, 0.21212121],\n",
       "       [0.7979798 , 0.2020202 ],\n",
       "       [0.80808081, 0.19191919],\n",
       "       [0.81818182, 0.18181818],\n",
       "       [0.82828283, 0.17171717],\n",
       "       [0.83838384, 0.16161616],\n",
       "       [0.84848485, 0.15151515],\n",
       "       [0.85858586, 0.14141414],\n",
       "       [0.86868687, 0.13131313],\n",
       "       [0.87878788, 0.12121212],\n",
       "       [0.88888889, 0.11111111],\n",
       "       [0.8989899 , 0.1010101 ],\n",
       "       [0.90909091, 0.09090909],\n",
       "       [0.91919192, 0.08080808],\n",
       "       [0.92929293, 0.07070707],\n",
       "       [0.93939394, 0.06060606],\n",
       "       [0.94949495, 0.05050505],\n",
       "       [0.95959596, 0.04040404],\n",
       "       [0.96969697, 0.03030303],\n",
       "       [0.97979798, 0.02020202],\n",
       "       [0.98989899, 0.01010101],\n",
       "       [1.        , 0.        ]])"
      ]
     },
     "execution_count": 77,
     "metadata": {},
     "output_type": "execute_result"
    }
   ],
   "source": [
    "weights = np.vstack((w_A, w_B)).T\n",
    "weights"
   ]
  },
  {
   "cell_type": "code",
   "execution_count": 79,
   "metadata": {},
   "outputs": [
    {
     "data": {
      "text/plain": [
       "array([0.01010101, 0.98989899])"
      ]
     },
     "execution_count": 79,
     "metadata": {},
     "output_type": "execute_result"
    }
   ],
   "source": [
    "w2 = weights[1]\n",
    "w2"
   ]
  },
  {
   "cell_type": "code",
   "execution_count": 81,
   "metadata": {},
   "outputs": [
    {
     "data": {
      "text/html": [
       "<div>\n",
       "<style scoped>\n",
       "    .dataframe tbody tr th:only-of-type {\n",
       "        vertical-align: middle;\n",
       "    }\n",
       "\n",
       "    .dataframe tbody tr th {\n",
       "        vertical-align: top;\n",
       "    }\n",
       "\n",
       "    .dataframe thead th {\n",
       "        text-align: right;\n",
       "    }\n",
       "</style>\n",
       "<table border=\"1\" class=\"dataframe\">\n",
       "  <thead>\n",
       "    <tr style=\"text-align: right;\">\n",
       "      <th></th>\n",
       "      <th>Risk</th>\n",
       "      <th>Return</th>\n",
       "    </tr>\n",
       "    <tr>\n",
       "      <th>Ticker</th>\n",
       "      <th></th>\n",
       "      <th></th>\n",
       "    </tr>\n",
       "  </thead>\n",
       "  <tbody>\n",
       "    <tr>\n",
       "      <th>WMT</th>\n",
       "      <td>0.22</td>\n",
       "      <td>0.15</td>\n",
       "    </tr>\n",
       "    <tr>\n",
       "      <th>AAPL</th>\n",
       "      <td>0.32</td>\n",
       "      <td>0.33</td>\n",
       "    </tr>\n",
       "  </tbody>\n",
       "</table>\n",
       "</div>"
      ],
      "text/plain": [
       "        Risk  Return\n",
       "Ticker              \n",
       "WMT     0.22    0.15\n",
       "AAPL    0.32    0.33"
      ]
     },
     "execution_count": 81,
     "metadata": {},
     "output_type": "execute_result"
    }
   ],
   "source": [
    "subset"
   ]
  },
  {
   "cell_type": "code",
   "execution_count": 114,
   "metadata": {},
   "outputs": [
    {
     "data": {
      "text/plain": [
       "0.32666047642163604"
      ]
     },
     "execution_count": 114,
     "metadata": {},
     "output_type": "execute_result"
    }
   ],
   "source": [
    "# formula\n",
    "r2 = w2[0] * subset.loc[\"WMT\", \"Return\"] + w2[1] * subset.loc[\"AAPL\", \"Return\"]\n",
    "r2"
   ]
  },
  {
   "cell_type": "code",
   "execution_count": 116,
   "metadata": {},
   "outputs": [
    {
     "data": {
      "text/plain": [
       "0.326660476421636"
      ]
     },
     "execution_count": 116,
     "metadata": {},
     "output_type": "execute_result"
    }
   ],
   "source": [
    "# vectorized\n",
    "r2 = subset.Return.dot(w2)\n",
    "r2"
   ]
  },
  {
   "cell_type": "code",
   "execution_count": 118,
   "metadata": {},
   "outputs": [
    {
     "data": {
      "text/plain": [
       "array([0.32850035, 0.32666048, 0.3248206 , 0.32298072, 0.32114085,\n",
       "       0.31930097, 0.3174611 , 0.31562122, 0.31378134, 0.31194147,\n",
       "       0.31010159, 0.30826172, 0.30642184, 0.30458197, 0.30274209,\n",
       "       0.30090221, 0.29906234, 0.29722246, 0.29538259, 0.29354271,\n",
       "       0.29170283, 0.28986296, 0.28802308, 0.28618321, 0.28434333,\n",
       "       0.28250345, 0.28066358, 0.2788237 , 0.27698383, 0.27514395,\n",
       "       0.27330407, 0.2714642 , 0.26962432, 0.26778445, 0.26594457,\n",
       "       0.26410469, 0.26226482, 0.26042494, 0.25858507, 0.25674519,\n",
       "       0.25490531, 0.25306544, 0.25122556, 0.24938569, 0.24754581,\n",
       "       0.24570594, 0.24386606, 0.24202618, 0.24018631, 0.23834643,\n",
       "       0.23650656, 0.23466668, 0.2328268 , 0.23098693, 0.22914705,\n",
       "       0.22730718, 0.2254673 , 0.22362742, 0.22178755, 0.21994767,\n",
       "       0.2181078 , 0.21626792, 0.21442804, 0.21258817, 0.21074829,\n",
       "       0.20890842, 0.20706854, 0.20522866, 0.20338879, 0.20154891,\n",
       "       0.19970904, 0.19786916, 0.19602929, 0.19418941, 0.19234953,\n",
       "       0.19050966, 0.18866978, 0.18682991, 0.18499003, 0.18315015,\n",
       "       0.18131028, 0.1794704 , 0.17763053, 0.17579065, 0.17395077,\n",
       "       0.1721109 , 0.17027102, 0.16843115, 0.16659127, 0.16475139,\n",
       "       0.16291152, 0.16107164, 0.15923177, 0.15739189, 0.15555201,\n",
       "       0.15371214, 0.15187226, 0.15003239, 0.14819251, 0.14635263])"
      ]
     },
     "execution_count": 118,
     "metadata": {},
     "output_type": "execute_result"
    }
   ],
   "source": [
    "# vectorized for many portfolios\n",
    "port_ret = subset.Return.dot(weights.T)\n",
    "port_ret"
   ]
  },
  {
   "cell_type": "code",
   "execution_count": null,
   "metadata": {},
   "outputs": [],
   "source": []
  },
  {
   "cell_type": "markdown",
   "metadata": {},
   "source": [
    "## Covariance and Correlation (Part 1)"
   ]
  },
  {
   "cell_type": "code",
   "execution_count": 122,
   "metadata": {},
   "outputs": [
    {
     "data": {
      "text/html": [
       "<div>\n",
       "<style scoped>\n",
       "    .dataframe tbody tr th:only-of-type {\n",
       "        vertical-align: middle;\n",
       "    }\n",
       "\n",
       "    .dataframe tbody tr th {\n",
       "        vertical-align: top;\n",
       "    }\n",
       "\n",
       "    .dataframe thead th {\n",
       "        text-align: right;\n",
       "    }\n",
       "</style>\n",
       "<table border=\"1\" class=\"dataframe\">\n",
       "  <thead>\n",
       "    <tr style=\"text-align: right;\">\n",
       "      <th>Ticker</th>\n",
       "      <th>AAPL</th>\n",
       "      <th>BA</th>\n",
       "      <th>DIS</th>\n",
       "      <th>GE</th>\n",
       "      <th>JPM</th>\n",
       "      <th>MSFT</th>\n",
       "      <th>TSLA</th>\n",
       "      <th>WMT</th>\n",
       "      <th>WMT_neg</th>\n",
       "    </tr>\n",
       "    <tr>\n",
       "      <th>Date</th>\n",
       "      <th></th>\n",
       "      <th></th>\n",
       "      <th></th>\n",
       "      <th></th>\n",
       "      <th></th>\n",
       "      <th></th>\n",
       "      <th></th>\n",
       "      <th></th>\n",
       "      <th></th>\n",
       "    </tr>\n",
       "  </thead>\n",
       "  <tbody>\n",
       "    <tr>\n",
       "      <th>2019-09-09</th>\n",
       "      <td>NaN</td>\n",
       "      <td>NaN</td>\n",
       "      <td>NaN</td>\n",
       "      <td>NaN</td>\n",
       "      <td>NaN</td>\n",
       "      <td>NaN</td>\n",
       "      <td>NaN</td>\n",
       "      <td>NaN</td>\n",
       "      <td>NaN</td>\n",
       "    </tr>\n",
       "    <tr>\n",
       "      <th>2019-09-10</th>\n",
       "      <td>0.01</td>\n",
       "      <td>0.03</td>\n",
       "      <td>-0.02</td>\n",
       "      <td>0.02</td>\n",
       "      <td>0.01</td>\n",
       "      <td>-0.01</td>\n",
       "      <td>0.02</td>\n",
       "      <td>-0.00</td>\n",
       "      <td>0.00</td>\n",
       "    </tr>\n",
       "    <tr>\n",
       "      <th>2019-09-11</th>\n",
       "      <td>0.03</td>\n",
       "      <td>0.04</td>\n",
       "      <td>0.00</td>\n",
       "      <td>0.02</td>\n",
       "      <td>0.00</td>\n",
       "      <td>0.00</td>\n",
       "      <td>0.05</td>\n",
       "      <td>-0.00</td>\n",
       "      <td>0.00</td>\n",
       "    </tr>\n",
       "    <tr>\n",
       "      <th>2019-09-12</th>\n",
       "      <td>-0.00</td>\n",
       "      <td>-0.02</td>\n",
       "      <td>0.01</td>\n",
       "      <td>-0.01</td>\n",
       "      <td>0.01</td>\n",
       "      <td>0.01</td>\n",
       "      <td>-0.00</td>\n",
       "      <td>0.01</td>\n",
       "      <td>-0.01</td>\n",
       "    </tr>\n",
       "    <tr>\n",
       "      <th>2019-09-13</th>\n",
       "      <td>-0.02</td>\n",
       "      <td>0.01</td>\n",
       "      <td>0.00</td>\n",
       "      <td>0.01</td>\n",
       "      <td>0.02</td>\n",
       "      <td>-0.00</td>\n",
       "      <td>-0.00</td>\n",
       "      <td>0.00</td>\n",
       "      <td>-0.00</td>\n",
       "    </tr>\n",
       "    <tr>\n",
       "      <th>...</th>\n",
       "      <td>...</td>\n",
       "      <td>...</td>\n",
       "      <td>...</td>\n",
       "      <td>...</td>\n",
       "      <td>...</td>\n",
       "      <td>...</td>\n",
       "      <td>...</td>\n",
       "      <td>...</td>\n",
       "      <td>...</td>\n",
       "    </tr>\n",
       "    <tr>\n",
       "      <th>2024-08-30</th>\n",
       "      <td>-0.00</td>\n",
       "      <td>0.01</td>\n",
       "      <td>0.01</td>\n",
       "      <td>0.01</td>\n",
       "      <td>0.01</td>\n",
       "      <td>0.01</td>\n",
       "      <td>0.04</td>\n",
       "      <td>0.01</td>\n",
       "      <td>-0.01</td>\n",
       "    </tr>\n",
       "    <tr>\n",
       "      <th>2024-09-03</th>\n",
       "      <td>-0.03</td>\n",
       "      <td>-0.07</td>\n",
       "      <td>-0.01</td>\n",
       "      <td>-0.06</td>\n",
       "      <td>-0.02</td>\n",
       "      <td>-0.02</td>\n",
       "      <td>-0.02</td>\n",
       "      <td>-0.00</td>\n",
       "      <td>0.00</td>\n",
       "    </tr>\n",
       "    <tr>\n",
       "      <th>2024-09-04</th>\n",
       "      <td>-0.01</td>\n",
       "      <td>0.01</td>\n",
       "      <td>0.00</td>\n",
       "      <td>0.01</td>\n",
       "      <td>-0.00</td>\n",
       "      <td>-0.00</td>\n",
       "      <td>0.04</td>\n",
       "      <td>0.00</td>\n",
       "      <td>-0.00</td>\n",
       "    </tr>\n",
       "    <tr>\n",
       "      <th>2024-09-05</th>\n",
       "      <td>0.01</td>\n",
       "      <td>-0.01</td>\n",
       "      <td>-0.01</td>\n",
       "      <td>-0.02</td>\n",
       "      <td>-0.01</td>\n",
       "      <td>-0.00</td>\n",
       "      <td>0.05</td>\n",
       "      <td>-0.00</td>\n",
       "      <td>0.00</td>\n",
       "    </tr>\n",
       "    <tr>\n",
       "      <th>2024-09-06</th>\n",
       "      <td>-0.01</td>\n",
       "      <td>-0.03</td>\n",
       "      <td>-0.01</td>\n",
       "      <td>-0.02</td>\n",
       "      <td>-0.02</td>\n",
       "      <td>-0.02</td>\n",
       "      <td>-0.08</td>\n",
       "      <td>-0.00</td>\n",
       "      <td>0.00</td>\n",
       "    </tr>\n",
       "  </tbody>\n",
       "</table>\n",
       "<p>1258 rows × 9 columns</p>\n",
       "</div>"
      ],
      "text/plain": [
       "Ticker      AAPL    BA   DIS    GE   JPM  MSFT  TSLA   WMT  WMT_neg\n",
       "Date                                                               \n",
       "2019-09-09   NaN   NaN   NaN   NaN   NaN   NaN   NaN   NaN      NaN\n",
       "2019-09-10  0.01  0.03 -0.02  0.02  0.01 -0.01  0.02 -0.00     0.00\n",
       "2019-09-11  0.03  0.04  0.00  0.02  0.00  0.00  0.05 -0.00     0.00\n",
       "2019-09-12 -0.00 -0.02  0.01 -0.01  0.01  0.01 -0.00  0.01    -0.01\n",
       "2019-09-13 -0.02  0.01  0.00  0.01  0.02 -0.00 -0.00  0.00    -0.00\n",
       "...          ...   ...   ...   ...   ...   ...   ...   ...      ...\n",
       "2024-08-30 -0.00  0.01  0.01  0.01  0.01  0.01  0.04  0.01    -0.01\n",
       "2024-09-03 -0.03 -0.07 -0.01 -0.06 -0.02 -0.02 -0.02 -0.00     0.00\n",
       "2024-09-04 -0.01  0.01  0.00  0.01 -0.00 -0.00  0.04  0.00    -0.00\n",
       "2024-09-05  0.01 -0.01 -0.01 -0.02 -0.01 -0.00  0.05 -0.00     0.00\n",
       "2024-09-06 -0.01 -0.03 -0.01 -0.02 -0.02 -0.02 -0.08 -0.00     0.00\n",
       "\n",
       "[1258 rows x 9 columns]"
      ]
     },
     "execution_count": 122,
     "metadata": {},
     "output_type": "execute_result"
    }
   ],
   "source": [
    "returns"
   ]
  },
  {
   "cell_type": "code",
   "execution_count": 124,
   "metadata": {},
   "outputs": [
    {
     "data": {
      "text/html": [
       "<div>\n",
       "<style scoped>\n",
       "    .dataframe tbody tr th:only-of-type {\n",
       "        vertical-align: middle;\n",
       "    }\n",
       "\n",
       "    .dataframe tbody tr th {\n",
       "        vertical-align: top;\n",
       "    }\n",
       "\n",
       "    .dataframe thead th {\n",
       "        text-align: right;\n",
       "    }\n",
       "</style>\n",
       "<table border=\"1\" class=\"dataframe\">\n",
       "  <thead>\n",
       "    <tr style=\"text-align: right;\">\n",
       "      <th>Ticker</th>\n",
       "      <th>AAPL</th>\n",
       "      <th>BA</th>\n",
       "      <th>DIS</th>\n",
       "      <th>GE</th>\n",
       "      <th>JPM</th>\n",
       "      <th>MSFT</th>\n",
       "      <th>TSLA</th>\n",
       "      <th>WMT</th>\n",
       "      <th>WMT_neg</th>\n",
       "    </tr>\n",
       "    <tr>\n",
       "      <th>Date</th>\n",
       "      <th></th>\n",
       "      <th></th>\n",
       "      <th></th>\n",
       "      <th></th>\n",
       "      <th></th>\n",
       "      <th></th>\n",
       "      <th></th>\n",
       "      <th></th>\n",
       "      <th></th>\n",
       "    </tr>\n",
       "  </thead>\n",
       "  <tbody>\n",
       "    <tr>\n",
       "      <th>2019-09-09</th>\n",
       "      <td>NaN</td>\n",
       "      <td>NaN</td>\n",
       "      <td>NaN</td>\n",
       "      <td>NaN</td>\n",
       "      <td>NaN</td>\n",
       "      <td>NaN</td>\n",
       "      <td>NaN</td>\n",
       "      <td>NaN</td>\n",
       "      <td>NaN</td>\n",
       "    </tr>\n",
       "    <tr>\n",
       "      <th>2019-09-10</th>\n",
       "      <td>0.01</td>\n",
       "      <td>0.03</td>\n",
       "      <td>-0.02</td>\n",
       "      <td>0.02</td>\n",
       "      <td>0.01</td>\n",
       "      <td>-0.01</td>\n",
       "      <td>0.02</td>\n",
       "      <td>-0.00</td>\n",
       "      <td>0.00</td>\n",
       "    </tr>\n",
       "    <tr>\n",
       "      <th>2019-09-11</th>\n",
       "      <td>0.03</td>\n",
       "      <td>0.04</td>\n",
       "      <td>0.00</td>\n",
       "      <td>0.02</td>\n",
       "      <td>0.00</td>\n",
       "      <td>0.00</td>\n",
       "      <td>0.05</td>\n",
       "      <td>-0.00</td>\n",
       "      <td>0.00</td>\n",
       "    </tr>\n",
       "    <tr>\n",
       "      <th>2019-09-12</th>\n",
       "      <td>-0.00</td>\n",
       "      <td>-0.02</td>\n",
       "      <td>0.01</td>\n",
       "      <td>-0.01</td>\n",
       "      <td>0.01</td>\n",
       "      <td>0.01</td>\n",
       "      <td>-0.00</td>\n",
       "      <td>0.01</td>\n",
       "      <td>-0.01</td>\n",
       "    </tr>\n",
       "    <tr>\n",
       "      <th>2019-09-13</th>\n",
       "      <td>-0.02</td>\n",
       "      <td>0.01</td>\n",
       "      <td>0.00</td>\n",
       "      <td>0.01</td>\n",
       "      <td>0.02</td>\n",
       "      <td>-0.00</td>\n",
       "      <td>-0.00</td>\n",
       "      <td>0.00</td>\n",
       "      <td>-0.00</td>\n",
       "    </tr>\n",
       "    <tr>\n",
       "      <th>...</th>\n",
       "      <td>...</td>\n",
       "      <td>...</td>\n",
       "      <td>...</td>\n",
       "      <td>...</td>\n",
       "      <td>...</td>\n",
       "      <td>...</td>\n",
       "      <td>...</td>\n",
       "      <td>...</td>\n",
       "      <td>...</td>\n",
       "    </tr>\n",
       "    <tr>\n",
       "      <th>2024-08-30</th>\n",
       "      <td>-0.00</td>\n",
       "      <td>0.01</td>\n",
       "      <td>0.01</td>\n",
       "      <td>0.01</td>\n",
       "      <td>0.01</td>\n",
       "      <td>0.01</td>\n",
       "      <td>0.04</td>\n",
       "      <td>0.01</td>\n",
       "      <td>-0.01</td>\n",
       "    </tr>\n",
       "    <tr>\n",
       "      <th>2024-09-03</th>\n",
       "      <td>-0.03</td>\n",
       "      <td>-0.07</td>\n",
       "      <td>-0.01</td>\n",
       "      <td>-0.06</td>\n",
       "      <td>-0.02</td>\n",
       "      <td>-0.02</td>\n",
       "      <td>-0.02</td>\n",
       "      <td>-0.00</td>\n",
       "      <td>0.00</td>\n",
       "    </tr>\n",
       "    <tr>\n",
       "      <th>2024-09-04</th>\n",
       "      <td>-0.01</td>\n",
       "      <td>0.01</td>\n",
       "      <td>0.00</td>\n",
       "      <td>0.01</td>\n",
       "      <td>-0.00</td>\n",
       "      <td>-0.00</td>\n",
       "      <td>0.04</td>\n",
       "      <td>0.00</td>\n",
       "      <td>-0.00</td>\n",
       "    </tr>\n",
       "    <tr>\n",
       "      <th>2024-09-05</th>\n",
       "      <td>0.01</td>\n",
       "      <td>-0.01</td>\n",
       "      <td>-0.01</td>\n",
       "      <td>-0.02</td>\n",
       "      <td>-0.01</td>\n",
       "      <td>-0.00</td>\n",
       "      <td>0.05</td>\n",
       "      <td>-0.00</td>\n",
       "      <td>0.00</td>\n",
       "    </tr>\n",
       "    <tr>\n",
       "      <th>2024-09-06</th>\n",
       "      <td>-0.01</td>\n",
       "      <td>-0.03</td>\n",
       "      <td>-0.01</td>\n",
       "      <td>-0.02</td>\n",
       "      <td>-0.02</td>\n",
       "      <td>-0.02</td>\n",
       "      <td>-0.08</td>\n",
       "      <td>-0.00</td>\n",
       "      <td>0.00</td>\n",
       "    </tr>\n",
       "  </tbody>\n",
       "</table>\n",
       "<p>1258 rows × 9 columns</p>\n",
       "</div>"
      ],
      "text/plain": [
       "Ticker      AAPL    BA   DIS    GE   JPM  MSFT  TSLA   WMT  WMT_neg\n",
       "Date                                                               \n",
       "2019-09-09   NaN   NaN   NaN   NaN   NaN   NaN   NaN   NaN      NaN\n",
       "2019-09-10  0.01  0.03 -0.02  0.02  0.01 -0.01  0.02 -0.00     0.00\n",
       "2019-09-11  0.03  0.04  0.00  0.02  0.00  0.00  0.05 -0.00     0.00\n",
       "2019-09-12 -0.00 -0.02  0.01 -0.01  0.01  0.01 -0.00  0.01    -0.01\n",
       "2019-09-13 -0.02  0.01  0.00  0.01  0.02 -0.00 -0.00  0.00    -0.00\n",
       "...          ...   ...   ...   ...   ...   ...   ...   ...      ...\n",
       "2024-08-30 -0.00  0.01  0.01  0.01  0.01  0.01  0.04  0.01    -0.01\n",
       "2024-09-03 -0.03 -0.07 -0.01 -0.06 -0.02 -0.02 -0.02 -0.00     0.00\n",
       "2024-09-04 -0.01  0.01  0.00  0.01 -0.00 -0.00  0.04  0.00    -0.00\n",
       "2024-09-05  0.01 -0.01 -0.01 -0.02 -0.01 -0.00  0.05 -0.00     0.00\n",
       "2024-09-06 -0.01 -0.03 -0.01 -0.02 -0.02 -0.02 -0.08 -0.00     0.00\n",
       "\n",
       "[1258 rows x 9 columns]"
      ]
     },
     "execution_count": 124,
     "metadata": {},
     "output_type": "execute_result"
    }
   ],
   "source": [
    "returns[\"WMT_neg\"] = -returns.WMT\n",
    "returns"
   ]
  },
  {
   "cell_type": "code",
   "execution_count": 126,
   "metadata": {},
   "outputs": [
    {
     "data": {
      "text/html": [
       "<div>\n",
       "<style scoped>\n",
       "    .dataframe tbody tr th:only-of-type {\n",
       "        vertical-align: middle;\n",
       "    }\n",
       "\n",
       "    .dataframe tbody tr th {\n",
       "        vertical-align: top;\n",
       "    }\n",
       "\n",
       "    .dataframe thead th {\n",
       "        text-align: right;\n",
       "    }\n",
       "</style>\n",
       "<table border=\"1\" class=\"dataframe\">\n",
       "  <thead>\n",
       "    <tr style=\"text-align: right;\">\n",
       "      <th>Ticker</th>\n",
       "      <th>AAPL</th>\n",
       "      <th>BA</th>\n",
       "      <th>DIS</th>\n",
       "      <th>GE</th>\n",
       "      <th>JPM</th>\n",
       "      <th>MSFT</th>\n",
       "      <th>TSLA</th>\n",
       "      <th>WMT</th>\n",
       "      <th>WMT_neg</th>\n",
       "    </tr>\n",
       "    <tr>\n",
       "      <th>Ticker</th>\n",
       "      <th></th>\n",
       "      <th></th>\n",
       "      <th></th>\n",
       "      <th></th>\n",
       "      <th></th>\n",
       "      <th></th>\n",
       "      <th></th>\n",
       "      <th></th>\n",
       "      <th></th>\n",
       "    </tr>\n",
       "  </thead>\n",
       "  <tbody>\n",
       "    <tr>\n",
       "      <th>AAPL</th>\n",
       "      <td>1.00</td>\n",
       "      <td>0.41</td>\n",
       "      <td>0.44</td>\n",
       "      <td>0.37</td>\n",
       "      <td>0.42</td>\n",
       "      <td>0.75</td>\n",
       "      <td>0.49</td>\n",
       "      <td>0.37</td>\n",
       "      <td>-0.37</td>\n",
       "    </tr>\n",
       "    <tr>\n",
       "      <th>BA</th>\n",
       "      <td>0.41</td>\n",
       "      <td>1.00</td>\n",
       "      <td>0.51</td>\n",
       "      <td>0.62</td>\n",
       "      <td>0.59</td>\n",
       "      <td>0.37</td>\n",
       "      <td>0.32</td>\n",
       "      <td>0.16</td>\n",
       "      <td>-0.16</td>\n",
       "    </tr>\n",
       "    <tr>\n",
       "      <th>DIS</th>\n",
       "      <td>0.44</td>\n",
       "      <td>0.51</td>\n",
       "      <td>1.00</td>\n",
       "      <td>0.48</td>\n",
       "      <td>0.57</td>\n",
       "      <td>0.48</td>\n",
       "      <td>0.32</td>\n",
       "      <td>0.24</td>\n",
       "      <td>-0.24</td>\n",
       "    </tr>\n",
       "    <tr>\n",
       "      <th>GE</th>\n",
       "      <td>0.37</td>\n",
       "      <td>0.62</td>\n",
       "      <td>0.48</td>\n",
       "      <td>1.00</td>\n",
       "      <td>0.63</td>\n",
       "      <td>0.37</td>\n",
       "      <td>0.23</td>\n",
       "      <td>0.17</td>\n",
       "      <td>-0.17</td>\n",
       "    </tr>\n",
       "    <tr>\n",
       "      <th>JPM</th>\n",
       "      <td>0.42</td>\n",
       "      <td>0.59</td>\n",
       "      <td>0.57</td>\n",
       "      <td>0.63</td>\n",
       "      <td>1.00</td>\n",
       "      <td>0.43</td>\n",
       "      <td>0.27</td>\n",
       "      <td>0.25</td>\n",
       "      <td>-0.25</td>\n",
       "    </tr>\n",
       "    <tr>\n",
       "      <th>MSFT</th>\n",
       "      <td>0.75</td>\n",
       "      <td>0.37</td>\n",
       "      <td>0.48</td>\n",
       "      <td>0.37</td>\n",
       "      <td>0.43</td>\n",
       "      <td>1.00</td>\n",
       "      <td>0.45</td>\n",
       "      <td>0.38</td>\n",
       "      <td>-0.38</td>\n",
       "    </tr>\n",
       "    <tr>\n",
       "      <th>TSLA</th>\n",
       "      <td>0.49</td>\n",
       "      <td>0.32</td>\n",
       "      <td>0.32</td>\n",
       "      <td>0.23</td>\n",
       "      <td>0.27</td>\n",
       "      <td>0.45</td>\n",
       "      <td>1.00</td>\n",
       "      <td>0.15</td>\n",
       "      <td>-0.15</td>\n",
       "    </tr>\n",
       "    <tr>\n",
       "      <th>WMT</th>\n",
       "      <td>0.37</td>\n",
       "      <td>0.16</td>\n",
       "      <td>0.24</td>\n",
       "      <td>0.17</td>\n",
       "      <td>0.25</td>\n",
       "      <td>0.38</td>\n",
       "      <td>0.15</td>\n",
       "      <td>1.00</td>\n",
       "      <td>-1.00</td>\n",
       "    </tr>\n",
       "    <tr>\n",
       "      <th>WMT_neg</th>\n",
       "      <td>-0.37</td>\n",
       "      <td>-0.16</td>\n",
       "      <td>-0.24</td>\n",
       "      <td>-0.17</td>\n",
       "      <td>-0.25</td>\n",
       "      <td>-0.38</td>\n",
       "      <td>-0.15</td>\n",
       "      <td>-1.00</td>\n",
       "      <td>1.00</td>\n",
       "    </tr>\n",
       "  </tbody>\n",
       "</table>\n",
       "</div>"
      ],
      "text/plain": [
       "Ticker   AAPL    BA   DIS    GE   JPM  MSFT  TSLA   WMT  WMT_neg\n",
       "Ticker                                                          \n",
       "AAPL     1.00  0.41  0.44  0.37  0.42  0.75  0.49  0.37    -0.37\n",
       "BA       0.41  1.00  0.51  0.62  0.59  0.37  0.32  0.16    -0.16\n",
       "DIS      0.44  0.51  1.00  0.48  0.57  0.48  0.32  0.24    -0.24\n",
       "GE       0.37  0.62  0.48  1.00  0.63  0.37  0.23  0.17    -0.17\n",
       "JPM      0.42  0.59  0.57  0.63  1.00  0.43  0.27  0.25    -0.25\n",
       "MSFT     0.75  0.37  0.48  0.37  0.43  1.00  0.45  0.38    -0.38\n",
       "TSLA     0.49  0.32  0.32  0.23  0.27  0.45  1.00  0.15    -0.15\n",
       "WMT      0.37  0.16  0.24  0.17  0.25  0.38  0.15  1.00    -1.00\n",
       "WMT_neg -0.37 -0.16 -0.24 -0.17 -0.25 -0.38 -0.15 -1.00     1.00"
      ]
     },
     "execution_count": 126,
     "metadata": {},
     "output_type": "execute_result"
    }
   ],
   "source": [
    "corr_matrix = returns.corr()\n",
    "corr_matrix"
   ]
  },
  {
   "cell_type": "code",
   "execution_count": 128,
   "metadata": {},
   "outputs": [
    {
     "data": {
      "text/html": [
       "<div>\n",
       "<style scoped>\n",
       "    .dataframe tbody tr th:only-of-type {\n",
       "        vertical-align: middle;\n",
       "    }\n",
       "\n",
       "    .dataframe tbody tr th {\n",
       "        vertical-align: top;\n",
       "    }\n",
       "\n",
       "    .dataframe thead th {\n",
       "        text-align: right;\n",
       "    }\n",
       "</style>\n",
       "<table border=\"1\" class=\"dataframe\">\n",
       "  <thead>\n",
       "    <tr style=\"text-align: right;\">\n",
       "      <th>Ticker</th>\n",
       "      <th>AAPL</th>\n",
       "      <th>BA</th>\n",
       "      <th>DIS</th>\n",
       "      <th>GE</th>\n",
       "      <th>JPM</th>\n",
       "      <th>MSFT</th>\n",
       "      <th>TSLA</th>\n",
       "      <th>WMT</th>\n",
       "      <th>WMT_neg</th>\n",
       "    </tr>\n",
       "    <tr>\n",
       "      <th>Ticker</th>\n",
       "      <th></th>\n",
       "      <th></th>\n",
       "      <th></th>\n",
       "      <th></th>\n",
       "      <th></th>\n",
       "      <th></th>\n",
       "      <th></th>\n",
       "      <th></th>\n",
       "      <th></th>\n",
       "    </tr>\n",
       "  </thead>\n",
       "  <tbody>\n",
       "    <tr>\n",
       "      <th>AAPL</th>\n",
       "      <td>0.00</td>\n",
       "      <td>0.00</td>\n",
       "      <td>0.00</td>\n",
       "      <td>0.00</td>\n",
       "      <td>0.00</td>\n",
       "      <td>0.00</td>\n",
       "      <td>0.00</td>\n",
       "      <td>0.00</td>\n",
       "      <td>-0.00</td>\n",
       "    </tr>\n",
       "    <tr>\n",
       "      <th>BA</th>\n",
       "      <td>0.00</td>\n",
       "      <td>0.00</td>\n",
       "      <td>0.00</td>\n",
       "      <td>0.00</td>\n",
       "      <td>0.00</td>\n",
       "      <td>0.00</td>\n",
       "      <td>0.00</td>\n",
       "      <td>0.00</td>\n",
       "      <td>-0.00</td>\n",
       "    </tr>\n",
       "    <tr>\n",
       "      <th>DIS</th>\n",
       "      <td>0.00</td>\n",
       "      <td>0.00</td>\n",
       "      <td>0.00</td>\n",
       "      <td>0.00</td>\n",
       "      <td>0.00</td>\n",
       "      <td>0.00</td>\n",
       "      <td>0.00</td>\n",
       "      <td>0.00</td>\n",
       "      <td>-0.00</td>\n",
       "    </tr>\n",
       "    <tr>\n",
       "      <th>GE</th>\n",
       "      <td>0.00</td>\n",
       "      <td>0.00</td>\n",
       "      <td>0.00</td>\n",
       "      <td>0.00</td>\n",
       "      <td>0.00</td>\n",
       "      <td>0.00</td>\n",
       "      <td>0.00</td>\n",
       "      <td>0.00</td>\n",
       "      <td>-0.00</td>\n",
       "    </tr>\n",
       "    <tr>\n",
       "      <th>JPM</th>\n",
       "      <td>0.00</td>\n",
       "      <td>0.00</td>\n",
       "      <td>0.00</td>\n",
       "      <td>0.00</td>\n",
       "      <td>0.00</td>\n",
       "      <td>0.00</td>\n",
       "      <td>0.00</td>\n",
       "      <td>0.00</td>\n",
       "      <td>-0.00</td>\n",
       "    </tr>\n",
       "    <tr>\n",
       "      <th>MSFT</th>\n",
       "      <td>0.00</td>\n",
       "      <td>0.00</td>\n",
       "      <td>0.00</td>\n",
       "      <td>0.00</td>\n",
       "      <td>0.00</td>\n",
       "      <td>0.00</td>\n",
       "      <td>0.00</td>\n",
       "      <td>0.00</td>\n",
       "      <td>-0.00</td>\n",
       "    </tr>\n",
       "    <tr>\n",
       "      <th>TSLA</th>\n",
       "      <td>0.00</td>\n",
       "      <td>0.00</td>\n",
       "      <td>0.00</td>\n",
       "      <td>0.00</td>\n",
       "      <td>0.00</td>\n",
       "      <td>0.00</td>\n",
       "      <td>0.00</td>\n",
       "      <td>0.00</td>\n",
       "      <td>-0.00</td>\n",
       "    </tr>\n",
       "    <tr>\n",
       "      <th>WMT</th>\n",
       "      <td>0.00</td>\n",
       "      <td>0.00</td>\n",
       "      <td>0.00</td>\n",
       "      <td>0.00</td>\n",
       "      <td>0.00</td>\n",
       "      <td>0.00</td>\n",
       "      <td>0.00</td>\n",
       "      <td>0.00</td>\n",
       "      <td>-0.00</td>\n",
       "    </tr>\n",
       "    <tr>\n",
       "      <th>WMT_neg</th>\n",
       "      <td>-0.00</td>\n",
       "      <td>-0.00</td>\n",
       "      <td>-0.00</td>\n",
       "      <td>-0.00</td>\n",
       "      <td>-0.00</td>\n",
       "      <td>-0.00</td>\n",
       "      <td>-0.00</td>\n",
       "      <td>-0.00</td>\n",
       "      <td>0.00</td>\n",
       "    </tr>\n",
       "  </tbody>\n",
       "</table>\n",
       "</div>"
      ],
      "text/plain": [
       "Ticker   AAPL    BA   DIS    GE   JPM  MSFT  TSLA   WMT  WMT_neg\n",
       "Ticker                                                          \n",
       "AAPL     0.00  0.00  0.00  0.00  0.00  0.00  0.00  0.00    -0.00\n",
       "BA       0.00  0.00  0.00  0.00  0.00  0.00  0.00  0.00    -0.00\n",
       "DIS      0.00  0.00  0.00  0.00  0.00  0.00  0.00  0.00    -0.00\n",
       "GE       0.00  0.00  0.00  0.00  0.00  0.00  0.00  0.00    -0.00\n",
       "JPM      0.00  0.00  0.00  0.00  0.00  0.00  0.00  0.00    -0.00\n",
       "MSFT     0.00  0.00  0.00  0.00  0.00  0.00  0.00  0.00    -0.00\n",
       "TSLA     0.00  0.00  0.00  0.00  0.00  0.00  0.00  0.00    -0.00\n",
       "WMT      0.00  0.00  0.00  0.00  0.00  0.00  0.00  0.00    -0.00\n",
       "WMT_neg -0.00 -0.00 -0.00 -0.00 -0.00 -0.00 -0.00 -0.00     0.00"
      ]
     },
     "execution_count": 128,
     "metadata": {},
     "output_type": "execute_result"
    }
   ],
   "source": [
    "cov_matrix = returns.cov()\n",
    "cov_matrix"
   ]
  },
  {
   "cell_type": "code",
   "execution_count": 130,
   "metadata": {},
   "outputs": [
    {
     "data": {
      "text/plain": [
       "0.00019722348854377705"
      ]
     },
     "execution_count": 130,
     "metadata": {},
     "output_type": "execute_result"
    }
   ],
   "source": [
    "returns.WMT.var()"
   ]
  },
  {
   "cell_type": "code",
   "execution_count": 132,
   "metadata": {},
   "outputs": [
    {
     "data": {
      "text/html": [
       "<div>\n",
       "<style scoped>\n",
       "    .dataframe tbody tr th:only-of-type {\n",
       "        vertical-align: middle;\n",
       "    }\n",
       "\n",
       "    .dataframe tbody tr th {\n",
       "        vertical-align: top;\n",
       "    }\n",
       "\n",
       "    .dataframe thead th {\n",
       "        text-align: right;\n",
       "    }\n",
       "</style>\n",
       "<table border=\"1\" class=\"dataframe\">\n",
       "  <thead>\n",
       "    <tr style=\"text-align: right;\">\n",
       "      <th>Ticker</th>\n",
       "      <th>AAPL</th>\n",
       "      <th>BA</th>\n",
       "      <th>DIS</th>\n",
       "      <th>GE</th>\n",
       "      <th>JPM</th>\n",
       "      <th>MSFT</th>\n",
       "      <th>TSLA</th>\n",
       "      <th>WMT</th>\n",
       "    </tr>\n",
       "    <tr>\n",
       "      <th>Date</th>\n",
       "      <th></th>\n",
       "      <th></th>\n",
       "      <th></th>\n",
       "      <th></th>\n",
       "      <th></th>\n",
       "      <th></th>\n",
       "      <th></th>\n",
       "      <th></th>\n",
       "    </tr>\n",
       "  </thead>\n",
       "  <tbody>\n",
       "    <tr>\n",
       "      <th>2019-09-09</th>\n",
       "      <td>NaN</td>\n",
       "      <td>NaN</td>\n",
       "      <td>NaN</td>\n",
       "      <td>NaN</td>\n",
       "      <td>NaN</td>\n",
       "      <td>NaN</td>\n",
       "      <td>NaN</td>\n",
       "      <td>NaN</td>\n",
       "    </tr>\n",
       "    <tr>\n",
       "      <th>2019-09-10</th>\n",
       "      <td>0.01</td>\n",
       "      <td>0.03</td>\n",
       "      <td>-0.02</td>\n",
       "      <td>0.02</td>\n",
       "      <td>0.01</td>\n",
       "      <td>-0.01</td>\n",
       "      <td>0.02</td>\n",
       "      <td>-0.00</td>\n",
       "    </tr>\n",
       "    <tr>\n",
       "      <th>2019-09-11</th>\n",
       "      <td>0.03</td>\n",
       "      <td>0.04</td>\n",
       "      <td>0.00</td>\n",
       "      <td>0.02</td>\n",
       "      <td>0.00</td>\n",
       "      <td>0.00</td>\n",
       "      <td>0.05</td>\n",
       "      <td>-0.00</td>\n",
       "    </tr>\n",
       "    <tr>\n",
       "      <th>2019-09-12</th>\n",
       "      <td>-0.00</td>\n",
       "      <td>-0.02</td>\n",
       "      <td>0.01</td>\n",
       "      <td>-0.01</td>\n",
       "      <td>0.01</td>\n",
       "      <td>0.01</td>\n",
       "      <td>-0.00</td>\n",
       "      <td>0.01</td>\n",
       "    </tr>\n",
       "    <tr>\n",
       "      <th>2019-09-13</th>\n",
       "      <td>-0.02</td>\n",
       "      <td>0.01</td>\n",
       "      <td>0.00</td>\n",
       "      <td>0.01</td>\n",
       "      <td>0.02</td>\n",
       "      <td>-0.00</td>\n",
       "      <td>-0.00</td>\n",
       "      <td>0.00</td>\n",
       "    </tr>\n",
       "    <tr>\n",
       "      <th>...</th>\n",
       "      <td>...</td>\n",
       "      <td>...</td>\n",
       "      <td>...</td>\n",
       "      <td>...</td>\n",
       "      <td>...</td>\n",
       "      <td>...</td>\n",
       "      <td>...</td>\n",
       "      <td>...</td>\n",
       "    </tr>\n",
       "    <tr>\n",
       "      <th>2024-08-30</th>\n",
       "      <td>-0.00</td>\n",
       "      <td>0.01</td>\n",
       "      <td>0.01</td>\n",
       "      <td>0.01</td>\n",
       "      <td>0.01</td>\n",
       "      <td>0.01</td>\n",
       "      <td>0.04</td>\n",
       "      <td>0.01</td>\n",
       "    </tr>\n",
       "    <tr>\n",
       "      <th>2024-09-03</th>\n",
       "      <td>-0.03</td>\n",
       "      <td>-0.07</td>\n",
       "      <td>-0.01</td>\n",
       "      <td>-0.06</td>\n",
       "      <td>-0.02</td>\n",
       "      <td>-0.02</td>\n",
       "      <td>-0.02</td>\n",
       "      <td>-0.00</td>\n",
       "    </tr>\n",
       "    <tr>\n",
       "      <th>2024-09-04</th>\n",
       "      <td>-0.01</td>\n",
       "      <td>0.01</td>\n",
       "      <td>0.00</td>\n",
       "      <td>0.01</td>\n",
       "      <td>-0.00</td>\n",
       "      <td>-0.00</td>\n",
       "      <td>0.04</td>\n",
       "      <td>0.00</td>\n",
       "    </tr>\n",
       "    <tr>\n",
       "      <th>2024-09-05</th>\n",
       "      <td>0.01</td>\n",
       "      <td>-0.01</td>\n",
       "      <td>-0.01</td>\n",
       "      <td>-0.02</td>\n",
       "      <td>-0.01</td>\n",
       "      <td>-0.00</td>\n",
       "      <td>0.05</td>\n",
       "      <td>-0.00</td>\n",
       "    </tr>\n",
       "    <tr>\n",
       "      <th>2024-09-06</th>\n",
       "      <td>-0.01</td>\n",
       "      <td>-0.03</td>\n",
       "      <td>-0.01</td>\n",
       "      <td>-0.02</td>\n",
       "      <td>-0.02</td>\n",
       "      <td>-0.02</td>\n",
       "      <td>-0.08</td>\n",
       "      <td>-0.00</td>\n",
       "    </tr>\n",
       "  </tbody>\n",
       "</table>\n",
       "<p>1258 rows × 8 columns</p>\n",
       "</div>"
      ],
      "text/plain": [
       "Ticker      AAPL    BA   DIS    GE   JPM  MSFT  TSLA   WMT\n",
       "Date                                                      \n",
       "2019-09-09   NaN   NaN   NaN   NaN   NaN   NaN   NaN   NaN\n",
       "2019-09-10  0.01  0.03 -0.02  0.02  0.01 -0.01  0.02 -0.00\n",
       "2019-09-11  0.03  0.04  0.00  0.02  0.00  0.00  0.05 -0.00\n",
       "2019-09-12 -0.00 -0.02  0.01 -0.01  0.01  0.01 -0.00  0.01\n",
       "2019-09-13 -0.02  0.01  0.00  0.01  0.02 -0.00 -0.00  0.00\n",
       "...          ...   ...   ...   ...   ...   ...   ...   ...\n",
       "2024-08-30 -0.00  0.01  0.01  0.01  0.01  0.01  0.04  0.01\n",
       "2024-09-03 -0.03 -0.07 -0.01 -0.06 -0.02 -0.02 -0.02 -0.00\n",
       "2024-09-04 -0.01  0.01  0.00  0.01 -0.00 -0.00  0.04  0.00\n",
       "2024-09-05  0.01 -0.01 -0.01 -0.02 -0.01 -0.00  0.05 -0.00\n",
       "2024-09-06 -0.01 -0.03 -0.01 -0.02 -0.02 -0.02 -0.08 -0.00\n",
       "\n",
       "[1258 rows x 8 columns]"
      ]
     },
     "execution_count": 132,
     "metadata": {},
     "output_type": "execute_result"
    }
   ],
   "source": [
    "returns.drop(\"WMT_neg\", axis = 1, inplace = True)\n",
    "returns"
   ]
  },
  {
   "cell_type": "code",
   "execution_count": null,
   "metadata": {},
   "outputs": [],
   "source": []
  },
  {
   "cell_type": "markdown",
   "metadata": {},
   "source": [
    "## Crash Course Statistics: Covariance and Correlation (Part 2)"
   ]
  },
  {
   "cell_type": "code",
   "execution_count": 323,
   "metadata": {},
   "outputs": [
    {
     "data": {
      "text/html": [
       "<div>\n",
       "<style scoped>\n",
       "    .dataframe tbody tr th:only-of-type {\n",
       "        vertical-align: middle;\n",
       "    }\n",
       "\n",
       "    .dataframe tbody tr th {\n",
       "        vertical-align: top;\n",
       "    }\n",
       "\n",
       "    .dataframe thead th {\n",
       "        text-align: right;\n",
       "    }\n",
       "</style>\n",
       "<table border=\"1\" class=\"dataframe\">\n",
       "  <thead>\n",
       "    <tr style=\"text-align: right;\">\n",
       "      <th></th>\n",
       "      <th>WMT</th>\n",
       "      <th>AAPL</th>\n",
       "    </tr>\n",
       "    <tr>\n",
       "      <th>Date</th>\n",
       "      <th></th>\n",
       "      <th></th>\n",
       "    </tr>\n",
       "  </thead>\n",
       "  <tbody>\n",
       "    <tr>\n",
       "      <th>2017-07-03</th>\n",
       "      <td>NaN</td>\n",
       "      <td>NaN</td>\n",
       "    </tr>\n",
       "    <tr>\n",
       "      <th>2017-07-05</th>\n",
       "      <td>-0.000531</td>\n",
       "      <td>0.004111</td>\n",
       "    </tr>\n",
       "    <tr>\n",
       "      <th>2017-07-06</th>\n",
       "      <td>0.001992</td>\n",
       "      <td>-0.009439</td>\n",
       "    </tr>\n",
       "    <tr>\n",
       "      <th>2017-07-07</th>\n",
       "      <td>-0.001855</td>\n",
       "      <td>0.010159</td>\n",
       "    </tr>\n",
       "    <tr>\n",
       "      <th>2017-07-10</th>\n",
       "      <td>-0.027877</td>\n",
       "      <td>0.006104</td>\n",
       "    </tr>\n",
       "    <tr>\n",
       "      <th>...</th>\n",
       "      <td>...</td>\n",
       "      <td>...</td>\n",
       "    </tr>\n",
       "    <tr>\n",
       "      <th>2022-06-24</th>\n",
       "      <td>0.000809</td>\n",
       "      <td>0.024517</td>\n",
       "    </tr>\n",
       "    <tr>\n",
       "      <th>2022-06-27</th>\n",
       "      <td>0.003233</td>\n",
       "      <td>0.000000</td>\n",
       "    </tr>\n",
       "    <tr>\n",
       "      <th>2022-06-28</th>\n",
       "      <td>-0.014099</td>\n",
       "      <td>-0.029790</td>\n",
       "    </tr>\n",
       "    <tr>\n",
       "      <th>2022-06-29</th>\n",
       "      <td>-0.003677</td>\n",
       "      <td>0.013024</td>\n",
       "    </tr>\n",
       "    <tr>\n",
       "      <th>2022-06-30</th>\n",
       "      <td>-0.002789</td>\n",
       "      <td>-0.018028</td>\n",
       "    </tr>\n",
       "  </tbody>\n",
       "</table>\n",
       "<p>1258 rows × 2 columns</p>\n",
       "</div>"
      ],
      "text/plain": [
       "                 WMT      AAPL\n",
       "Date                          \n",
       "2017-07-03       NaN       NaN\n",
       "2017-07-05 -0.000531  0.004111\n",
       "2017-07-06  0.001992 -0.009439\n",
       "2017-07-07 -0.001855  0.010159\n",
       "2017-07-10 -0.027877  0.006104\n",
       "...              ...       ...\n",
       "2022-06-24  0.000809  0.024517\n",
       "2022-06-27  0.003233  0.000000\n",
       "2022-06-28 -0.014099 -0.029790\n",
       "2022-06-29 -0.003677  0.013024\n",
       "2022-06-30 -0.002789 -0.018028\n",
       "\n",
       "[1258 rows x 2 columns]"
      ]
     },
     "execution_count": 323,
     "metadata": {},
     "output_type": "execute_result"
    }
   ],
   "source": [
    "returns"
   ]
  },
  {
   "cell_type": "code",
   "execution_count": 325,
   "metadata": {},
   "outputs": [
    {
     "data": {
      "text/html": [
       "<div>\n",
       "<style scoped>\n",
       "    .dataframe tbody tr th:only-of-type {\n",
       "        vertical-align: middle;\n",
       "    }\n",
       "\n",
       "    .dataframe tbody tr th {\n",
       "        vertical-align: top;\n",
       "    }\n",
       "\n",
       "    .dataframe thead th {\n",
       "        text-align: right;\n",
       "    }\n",
       "</style>\n",
       "<table border=\"1\" class=\"dataframe\">\n",
       "  <thead>\n",
       "    <tr style=\"text-align: right;\">\n",
       "      <th></th>\n",
       "      <th>WMT</th>\n",
       "      <th>AAPL</th>\n",
       "    </tr>\n",
       "  </thead>\n",
       "  <tbody>\n",
       "    <tr>\n",
       "      <th>WMT</th>\n",
       "      <td>0.000212</td>\n",
       "      <td>0.000105</td>\n",
       "    </tr>\n",
       "    <tr>\n",
       "      <th>AAPL</th>\n",
       "      <td>0.000105</td>\n",
       "      <td>0.000408</td>\n",
       "    </tr>\n",
       "  </tbody>\n",
       "</table>\n",
       "</div>"
      ],
      "text/plain": [
       "          WMT     AAPL\n",
       "WMT  0.000212 0.000105\n",
       "AAPL 0.000105 0.000408"
      ]
     },
     "execution_count": 325,
     "metadata": {},
     "output_type": "execute_result"
    }
   ],
   "source": [
    "cov_matrix = returns.cov()\n",
    "cov_matrix"
   ]
  },
  {
   "cell_type": "code",
   "execution_count": 327,
   "metadata": {},
   "outputs": [
    {
     "data": {
      "text/html": [
       "<div>\n",
       "<style scoped>\n",
       "    .dataframe tbody tr th:only-of-type {\n",
       "        vertical-align: middle;\n",
       "    }\n",
       "\n",
       "    .dataframe tbody tr th {\n",
       "        vertical-align: top;\n",
       "    }\n",
       "\n",
       "    .dataframe thead th {\n",
       "        text-align: right;\n",
       "    }\n",
       "</style>\n",
       "<table border=\"1\" class=\"dataframe\">\n",
       "  <thead>\n",
       "    <tr style=\"text-align: right;\">\n",
       "      <th></th>\n",
       "      <th>WMT</th>\n",
       "      <th>AAPL</th>\n",
       "    </tr>\n",
       "  </thead>\n",
       "  <tbody>\n",
       "    <tr>\n",
       "      <th>WMT</th>\n",
       "      <td>1.000000</td>\n",
       "      <td>0.356524</td>\n",
       "    </tr>\n",
       "    <tr>\n",
       "      <th>AAPL</th>\n",
       "      <td>0.356524</td>\n",
       "      <td>1.000000</td>\n",
       "    </tr>\n",
       "  </tbody>\n",
       "</table>\n",
       "</div>"
      ],
      "text/plain": [
       "          WMT     AAPL\n",
       "WMT  1.000000 0.356524\n",
       "AAPL 0.356524 1.000000"
      ]
     },
     "execution_count": 327,
     "metadata": {},
     "output_type": "execute_result"
    }
   ],
   "source": [
    "corr_matrix = returns.corr()\n",
    "corr_matrix"
   ]
  },
  {
   "cell_type": "markdown",
   "metadata": {},
   "source": [
    "__Relationship between Correlation and Covariance__"
   ]
  },
  {
   "attachments": {
    "image.png": {
     "image/png": "[encoded data removed]"
    }
   },
   "cell_type": "markdown",
   "metadata": {},
   "source": [
    "![image.png](attachment:image.png)"
   ]
  },
  {
   "cell_type": "code",
   "execution_count": 136,
   "metadata": {},
   "outputs": [
    {
     "data": {
      "text/plain": [
       "0.00010354025020297424"
      ]
     },
     "execution_count": 136,
     "metadata": {},
     "output_type": "execute_result"
    }
   ],
   "source": [
    "corr_matrix.loc[\"WMT\", \"AAPL\"] * np.sqrt(cov_matrix.loc[\"WMT\", \"WMT\"]) * np.sqrt(cov_matrix.loc[\"AAPL\", \"AAPL\"])"
   ]
  },
  {
   "cell_type": "code",
   "execution_count": 138,
   "metadata": {},
   "outputs": [
    {
     "data": {
      "text/plain": [
       "0.00010354025020297424"
      ]
     },
     "execution_count": 138,
     "metadata": {},
     "output_type": "execute_result"
    }
   ],
   "source": [
    "cov_matrix.loc[\"WMT\", \"AAPL\"]"
   ]
  },
  {
   "attachments": {
    "image.png": {
     "image/png": "[encoded data removed]"
    }
   },
   "cell_type": "markdown",
   "metadata": {},
   "source": [
    "![image.png](attachment:image.png)"
   ]
  },
  {
   "cell_type": "code",
   "execution_count": 141,
   "metadata": {},
   "outputs": [
    {
     "data": {
      "text/plain": [
       "0.3691434749457076"
      ]
     },
     "execution_count": 141,
     "metadata": {},
     "output_type": "execute_result"
    }
   ],
   "source": [
    "cov_matrix.loc[\"WMT\", \"AAPL\"] / (np.sqrt(cov_matrix.loc[\"WMT\", \"WMT\"]) * np.sqrt(cov_matrix.loc[\"AAPL\", \"AAPL\"]))"
   ]
  },
  {
   "cell_type": "code",
   "execution_count": 143,
   "metadata": {},
   "outputs": [
    {
     "data": {
      "text/plain": [
       "0.3691434749457076"
      ]
     },
     "execution_count": 143,
     "metadata": {},
     "output_type": "execute_result"
    }
   ],
   "source": [
    "corr_matrix.loc[\"WMT\", \"AAPL\"]"
   ]
  },
  {
   "cell_type": "code",
   "execution_count": null,
   "metadata": {},
   "outputs": [],
   "source": []
  },
  {
   "cell_type": "markdown",
   "metadata": {},
   "source": [
    "## Portfolio Risk (2-Asset-Case) "
   ]
  },
  {
   "cell_type": "code",
   "execution_count": 147,
   "metadata": {},
   "outputs": [
    {
     "data": {
      "text/plain": [
       "array([[0.        , 1.        ],\n",
       "       [0.01010101, 0.98989899],\n",
       "       [0.02020202, 0.97979798],\n",
       "       [0.03030303, 0.96969697],\n",
       "       [0.04040404, 0.95959596],\n",
       "       [0.05050505, 0.94949495],\n",
       "       [0.06060606, 0.93939394],\n",
       "       [0.07070707, 0.92929293],\n",
       "       [0.08080808, 0.91919192],\n",
       "       [0.09090909, 0.90909091],\n",
       "       [0.1010101 , 0.8989899 ],\n",
       "       [0.11111111, 0.88888889],\n",
       "       [0.12121212, 0.87878788],\n",
       "       [0.13131313, 0.86868687],\n",
       "       [0.14141414, 0.85858586],\n",
       "       [0.15151515, 0.84848485],\n",
       "       [0.16161616, 0.83838384],\n",
       "       [0.17171717, 0.82828283],\n",
       "       [0.18181818, 0.81818182],\n",
       "       [0.19191919, 0.80808081],\n",
       "       [0.2020202 , 0.7979798 ],\n",
       "       [0.21212121, 0.78787879],\n",
       "       [0.22222222, 0.77777778],\n",
       "       [0.23232323, 0.76767677],\n",
       "       [0.24242424, 0.75757576],\n",
       "       [0.25252525, 0.74747475],\n",
       "       [0.26262626, 0.73737374],\n",
       "       [0.27272727, 0.72727273],\n",
       "       [0.28282828, 0.71717172],\n",
       "       [0.29292929, 0.70707071],\n",
       "       [0.3030303 , 0.6969697 ],\n",
       "       [0.31313131, 0.68686869],\n",
       "       [0.32323232, 0.67676768],\n",
       "       [0.33333333, 0.66666667],\n",
       "       [0.34343434, 0.65656566],\n",
       "       [0.35353535, 0.64646465],\n",
       "       [0.36363636, 0.63636364],\n",
       "       [0.37373737, 0.62626263],\n",
       "       [0.38383838, 0.61616162],\n",
       "       [0.39393939, 0.60606061],\n",
       "       [0.4040404 , 0.5959596 ],\n",
       "       [0.41414141, 0.58585859],\n",
       "       [0.42424242, 0.57575758],\n",
       "       [0.43434343, 0.56565657],\n",
       "       [0.44444444, 0.55555556],\n",
       "       [0.45454545, 0.54545455],\n",
       "       [0.46464646, 0.53535354],\n",
       "       [0.47474747, 0.52525253],\n",
       "       [0.48484848, 0.51515152],\n",
       "       [0.49494949, 0.50505051],\n",
       "       [0.50505051, 0.49494949],\n",
       "       [0.51515152, 0.48484848],\n",
       "       [0.52525253, 0.47474747],\n",
       "       [0.53535354, 0.46464646],\n",
       "       [0.54545455, 0.45454545],\n",
       "       [0.55555556, 0.44444444],\n",
       "       [0.56565657, 0.43434343],\n",
       "       [0.57575758, 0.42424242],\n",
       "       [0.58585859, 0.41414141],\n",
       "       [0.5959596 , 0.4040404 ],\n",
       "       [0.60606061, 0.39393939],\n",
       "       [0.61616162, 0.38383838],\n",
       "       [0.62626263, 0.37373737],\n",
       "       [0.63636364, 0.36363636],\n",
       "       [0.64646465, 0.35353535],\n",
       "       [0.65656566, 0.34343434],\n",
       "       [0.66666667, 0.33333333],\n",
       "       [0.67676768, 0.32323232],\n",
       "       [0.68686869, 0.31313131],\n",
       "       [0.6969697 , 0.3030303 ],\n",
       "       [0.70707071, 0.29292929],\n",
       "       [0.71717172, 0.28282828],\n",
       "       [0.72727273, 0.27272727],\n",
       "       [0.73737374, 0.26262626],\n",
       "       [0.74747475, 0.25252525],\n",
       "       [0.75757576, 0.24242424],\n",
       "       [0.76767677, 0.23232323],\n",
       "       [0.77777778, 0.22222222],\n",
       "       [0.78787879, 0.21212121],\n",
       "       [0.7979798 , 0.2020202 ],\n",
       "       [0.80808081, 0.19191919],\n",
       "       [0.81818182, 0.18181818],\n",
       "       [0.82828283, 0.17171717],\n",
       "       [0.83838384, 0.16161616],\n",
       "       [0.84848485, 0.15151515],\n",
       "       [0.85858586, 0.14141414],\n",
       "       [0.86868687, 0.13131313],\n",
       "       [0.87878788, 0.12121212],\n",
       "       [0.88888889, 0.11111111],\n",
       "       [0.8989899 , 0.1010101 ],\n",
       "       [0.90909091, 0.09090909],\n",
       "       [0.91919192, 0.08080808],\n",
       "       [0.92929293, 0.07070707],\n",
       "       [0.93939394, 0.06060606],\n",
       "       [0.94949495, 0.05050505],\n",
       "       [0.95959596, 0.04040404],\n",
       "       [0.96969697, 0.03030303],\n",
       "       [0.97979798, 0.02020202],\n",
       "       [0.98989899, 0.01010101],\n",
       "       [1.        , 0.        ]])"
      ]
     },
     "execution_count": 147,
     "metadata": {},
     "output_type": "execute_result"
    }
   ],
   "source": [
    "weights"
   ]
  },
  {
   "cell_type": "code",
   "execution_count": 149,
   "metadata": {},
   "outputs": [
    {
     "data": {
      "text/plain": [
       "array([0.01010101, 0.98989899])"
      ]
     },
     "execution_count": 149,
     "metadata": {},
     "output_type": "execute_result"
    }
   ],
   "source": [
    "w2"
   ]
  },
  {
   "cell_type": "code",
   "execution_count": 151,
   "metadata": {},
   "outputs": [
    {
     "data": {
      "text/html": [
       "<div>\n",
       "<style scoped>\n",
       "    .dataframe tbody tr th:only-of-type {\n",
       "        vertical-align: middle;\n",
       "    }\n",
       "\n",
       "    .dataframe tbody tr th {\n",
       "        vertical-align: top;\n",
       "    }\n",
       "\n",
       "    .dataframe thead th {\n",
       "        text-align: right;\n",
       "    }\n",
       "</style>\n",
       "<table border=\"1\" class=\"dataframe\">\n",
       "  <thead>\n",
       "    <tr style=\"text-align: right;\">\n",
       "      <th></th>\n",
       "      <th>Risk</th>\n",
       "      <th>Return</th>\n",
       "    </tr>\n",
       "    <tr>\n",
       "      <th>Ticker</th>\n",
       "      <th></th>\n",
       "      <th></th>\n",
       "    </tr>\n",
       "  </thead>\n",
       "  <tbody>\n",
       "    <tr>\n",
       "      <th>WMT</th>\n",
       "      <td>0.22</td>\n",
       "      <td>0.15</td>\n",
       "    </tr>\n",
       "    <tr>\n",
       "      <th>AAPL</th>\n",
       "      <td>0.32</td>\n",
       "      <td>0.33</td>\n",
       "    </tr>\n",
       "  </tbody>\n",
       "</table>\n",
       "</div>"
      ],
      "text/plain": [
       "        Risk  Return\n",
       "Ticker              \n",
       "WMT     0.22    0.15\n",
       "AAPL    0.32    0.33"
      ]
     },
     "execution_count": 151,
     "metadata": {},
     "output_type": "execute_result"
    }
   ],
   "source": [
    "subset"
   ]
  },
  {
   "cell_type": "code",
   "execution_count": 153,
   "metadata": {},
   "outputs": [
    {
     "data": {
      "text/plain": [
       "0.31610455975671453"
      ]
     },
     "execution_count": 153,
     "metadata": {},
     "output_type": "execute_result"
    }
   ],
   "source": [
    "# assuming perfect correlation (==1)\n",
    "std2 = subset.Risk.dot(w2)\n",
    "std2"
   ]
  },
  {
   "cell_type": "markdown",
   "metadata": {},
   "source": [
    "__Formula (2-Asset-Case:)__"
   ]
  },
  {
   "attachments": {
    "image.png": {
     "image/png": "[encoded data removed]"
    }
   },
   "cell_type": "markdown",
   "metadata": {},
   "source": [
    "![image.png](attachment:image.png)"
   ]
  },
  {
   "cell_type": "code",
   "execution_count": 157,
   "metadata": {},
   "outputs": [
    {
     "data": {
      "text/html": [
       "<div>\n",
       "<style scoped>\n",
       "    .dataframe tbody tr th:only-of-type {\n",
       "        vertical-align: middle;\n",
       "    }\n",
       "\n",
       "    .dataframe tbody tr th {\n",
       "        vertical-align: top;\n",
       "    }\n",
       "\n",
       "    .dataframe thead th {\n",
       "        text-align: right;\n",
       "    }\n",
       "</style>\n",
       "<table border=\"1\" class=\"dataframe\">\n",
       "  <thead>\n",
       "    <tr style=\"text-align: right;\">\n",
       "      <th>Ticker</th>\n",
       "      <th>AAPL</th>\n",
       "      <th>BA</th>\n",
       "      <th>DIS</th>\n",
       "      <th>GE</th>\n",
       "      <th>JPM</th>\n",
       "      <th>MSFT</th>\n",
       "      <th>TSLA</th>\n",
       "      <th>WMT</th>\n",
       "      <th>WMT_neg</th>\n",
       "    </tr>\n",
       "    <tr>\n",
       "      <th>Ticker</th>\n",
       "      <th></th>\n",
       "      <th></th>\n",
       "      <th></th>\n",
       "      <th></th>\n",
       "      <th></th>\n",
       "      <th></th>\n",
       "      <th></th>\n",
       "      <th></th>\n",
       "      <th></th>\n",
       "    </tr>\n",
       "  </thead>\n",
       "  <tbody>\n",
       "    <tr>\n",
       "      <th>AAPL</th>\n",
       "      <td>0.00</td>\n",
       "      <td>0.00</td>\n",
       "      <td>0.00</td>\n",
       "      <td>0.00</td>\n",
       "      <td>0.00</td>\n",
       "      <td>0.00</td>\n",
       "      <td>0.00</td>\n",
       "      <td>0.00</td>\n",
       "      <td>-0.00</td>\n",
       "    </tr>\n",
       "    <tr>\n",
       "      <th>BA</th>\n",
       "      <td>0.00</td>\n",
       "      <td>0.00</td>\n",
       "      <td>0.00</td>\n",
       "      <td>0.00</td>\n",
       "      <td>0.00</td>\n",
       "      <td>0.00</td>\n",
       "      <td>0.00</td>\n",
       "      <td>0.00</td>\n",
       "      <td>-0.00</td>\n",
       "    </tr>\n",
       "    <tr>\n",
       "      <th>DIS</th>\n",
       "      <td>0.00</td>\n",
       "      <td>0.00</td>\n",
       "      <td>0.00</td>\n",
       "      <td>0.00</td>\n",
       "      <td>0.00</td>\n",
       "      <td>0.00</td>\n",
       "      <td>0.00</td>\n",
       "      <td>0.00</td>\n",
       "      <td>-0.00</td>\n",
       "    </tr>\n",
       "    <tr>\n",
       "      <th>GE</th>\n",
       "      <td>0.00</td>\n",
       "      <td>0.00</td>\n",
       "      <td>0.00</td>\n",
       "      <td>0.00</td>\n",
       "      <td>0.00</td>\n",
       "      <td>0.00</td>\n",
       "      <td>0.00</td>\n",
       "      <td>0.00</td>\n",
       "      <td>-0.00</td>\n",
       "    </tr>\n",
       "    <tr>\n",
       "      <th>JPM</th>\n",
       "      <td>0.00</td>\n",
       "      <td>0.00</td>\n",
       "      <td>0.00</td>\n",
       "      <td>0.00</td>\n",
       "      <td>0.00</td>\n",
       "      <td>0.00</td>\n",
       "      <td>0.00</td>\n",
       "      <td>0.00</td>\n",
       "      <td>-0.00</td>\n",
       "    </tr>\n",
       "    <tr>\n",
       "      <th>MSFT</th>\n",
       "      <td>0.00</td>\n",
       "      <td>0.00</td>\n",
       "      <td>0.00</td>\n",
       "      <td>0.00</td>\n",
       "      <td>0.00</td>\n",
       "      <td>0.00</td>\n",
       "      <td>0.00</td>\n",
       "      <td>0.00</td>\n",
       "      <td>-0.00</td>\n",
       "    </tr>\n",
       "    <tr>\n",
       "      <th>TSLA</th>\n",
       "      <td>0.00</td>\n",
       "      <td>0.00</td>\n",
       "      <td>0.00</td>\n",
       "      <td>0.00</td>\n",
       "      <td>0.00</td>\n",
       "      <td>0.00</td>\n",
       "      <td>0.00</td>\n",
       "      <td>0.00</td>\n",
       "      <td>-0.00</td>\n",
       "    </tr>\n",
       "    <tr>\n",
       "      <th>WMT</th>\n",
       "      <td>0.00</td>\n",
       "      <td>0.00</td>\n",
       "      <td>0.00</td>\n",
       "      <td>0.00</td>\n",
       "      <td>0.00</td>\n",
       "      <td>0.00</td>\n",
       "      <td>0.00</td>\n",
       "      <td>0.00</td>\n",
       "      <td>-0.00</td>\n",
       "    </tr>\n",
       "    <tr>\n",
       "      <th>WMT_neg</th>\n",
       "      <td>-0.00</td>\n",
       "      <td>-0.00</td>\n",
       "      <td>-0.00</td>\n",
       "      <td>-0.00</td>\n",
       "      <td>-0.00</td>\n",
       "      <td>-0.00</td>\n",
       "      <td>-0.00</td>\n",
       "      <td>-0.00</td>\n",
       "      <td>0.00</td>\n",
       "    </tr>\n",
       "  </tbody>\n",
       "</table>\n",
       "</div>"
      ],
      "text/plain": [
       "Ticker   AAPL    BA   DIS    GE   JPM  MSFT  TSLA   WMT  WMT_neg\n",
       "Ticker                                                          \n",
       "AAPL     0.00  0.00  0.00  0.00  0.00  0.00  0.00  0.00    -0.00\n",
       "BA       0.00  0.00  0.00  0.00  0.00  0.00  0.00  0.00    -0.00\n",
       "DIS      0.00  0.00  0.00  0.00  0.00  0.00  0.00  0.00    -0.00\n",
       "GE       0.00  0.00  0.00  0.00  0.00  0.00  0.00  0.00    -0.00\n",
       "JPM      0.00  0.00  0.00  0.00  0.00  0.00  0.00  0.00    -0.00\n",
       "MSFT     0.00  0.00  0.00  0.00  0.00  0.00  0.00  0.00    -0.00\n",
       "TSLA     0.00  0.00  0.00  0.00  0.00  0.00  0.00  0.00    -0.00\n",
       "WMT      0.00  0.00  0.00  0.00  0.00  0.00  0.00  0.00    -0.00\n",
       "WMT_neg -0.00 -0.00 -0.00 -0.00 -0.00 -0.00 -0.00 -0.00     0.00"
      ]
     },
     "execution_count": 157,
     "metadata": {},
     "output_type": "execute_result"
    }
   ],
   "source": [
    "cov_matrix # daily"
   ]
  },
  {
   "cell_type": "code",
   "execution_count": 159,
   "metadata": {},
   "outputs": [
    {
     "data": {
      "text/html": [
       "<div>\n",
       "<style scoped>\n",
       "    .dataframe tbody tr th:only-of-type {\n",
       "        vertical-align: middle;\n",
       "    }\n",
       "\n",
       "    .dataframe tbody tr th {\n",
       "        vertical-align: top;\n",
       "    }\n",
       "\n",
       "    .dataframe thead th {\n",
       "        text-align: right;\n",
       "    }\n",
       "</style>\n",
       "<table border=\"1\" class=\"dataframe\">\n",
       "  <thead>\n",
       "    <tr style=\"text-align: right;\">\n",
       "      <th>Ticker</th>\n",
       "      <th>AAPL</th>\n",
       "      <th>BA</th>\n",
       "      <th>DIS</th>\n",
       "      <th>GE</th>\n",
       "      <th>JPM</th>\n",
       "      <th>MSFT</th>\n",
       "      <th>TSLA</th>\n",
       "      <th>WMT</th>\n",
       "      <th>WMT_neg</th>\n",
       "    </tr>\n",
       "    <tr>\n",
       "      <th>Ticker</th>\n",
       "      <th></th>\n",
       "      <th></th>\n",
       "      <th></th>\n",
       "      <th></th>\n",
       "      <th></th>\n",
       "      <th></th>\n",
       "      <th></th>\n",
       "      <th></th>\n",
       "      <th></th>\n",
       "    </tr>\n",
       "  </thead>\n",
       "  <tbody>\n",
       "    <tr>\n",
       "      <th>AAPL</th>\n",
       "      <td>0.10</td>\n",
       "      <td>0.07</td>\n",
       "      <td>0.05</td>\n",
       "      <td>0.05</td>\n",
       "      <td>0.04</td>\n",
       "      <td>0.07</td>\n",
       "      <td>0.10</td>\n",
       "      <td>0.03</td>\n",
       "      <td>-0.03</td>\n",
       "    </tr>\n",
       "    <tr>\n",
       "      <th>BA</th>\n",
       "      <td>0.07</td>\n",
       "      <td>0.26</td>\n",
       "      <td>0.09</td>\n",
       "      <td>0.12</td>\n",
       "      <td>0.10</td>\n",
       "      <td>0.06</td>\n",
       "      <td>0.11</td>\n",
       "      <td>0.02</td>\n",
       "      <td>-0.02</td>\n",
       "    </tr>\n",
       "    <tr>\n",
       "      <th>DIS</th>\n",
       "      <td>0.05</td>\n",
       "      <td>0.09</td>\n",
       "      <td>0.12</td>\n",
       "      <td>0.07</td>\n",
       "      <td>0.06</td>\n",
       "      <td>0.05</td>\n",
       "      <td>0.07</td>\n",
       "      <td>0.02</td>\n",
       "      <td>-0.02</td>\n",
       "    </tr>\n",
       "    <tr>\n",
       "      <th>GE</th>\n",
       "      <td>0.05</td>\n",
       "      <td>0.12</td>\n",
       "      <td>0.07</td>\n",
       "      <td>0.16</td>\n",
       "      <td>0.08</td>\n",
       "      <td>0.04</td>\n",
       "      <td>0.06</td>\n",
       "      <td>0.02</td>\n",
       "      <td>-0.02</td>\n",
       "    </tr>\n",
       "    <tr>\n",
       "      <th>JPM</th>\n",
       "      <td>0.04</td>\n",
       "      <td>0.10</td>\n",
       "      <td>0.06</td>\n",
       "      <td>0.08</td>\n",
       "      <td>0.10</td>\n",
       "      <td>0.04</td>\n",
       "      <td>0.06</td>\n",
       "      <td>0.02</td>\n",
       "      <td>-0.02</td>\n",
       "    </tr>\n",
       "    <tr>\n",
       "      <th>MSFT</th>\n",
       "      <td>0.07</td>\n",
       "      <td>0.06</td>\n",
       "      <td>0.05</td>\n",
       "      <td>0.04</td>\n",
       "      <td>0.04</td>\n",
       "      <td>0.09</td>\n",
       "      <td>0.09</td>\n",
       "      <td>0.03</td>\n",
       "      <td>-0.03</td>\n",
       "    </tr>\n",
       "    <tr>\n",
       "      <th>TSLA</th>\n",
       "      <td>0.10</td>\n",
       "      <td>0.11</td>\n",
       "      <td>0.07</td>\n",
       "      <td>0.06</td>\n",
       "      <td>0.06</td>\n",
       "      <td>0.09</td>\n",
       "      <td>0.43</td>\n",
       "      <td>0.02</td>\n",
       "      <td>-0.02</td>\n",
       "    </tr>\n",
       "    <tr>\n",
       "      <th>WMT</th>\n",
       "      <td>0.03</td>\n",
       "      <td>0.02</td>\n",
       "      <td>0.02</td>\n",
       "      <td>0.02</td>\n",
       "      <td>0.02</td>\n",
       "      <td>0.03</td>\n",
       "      <td>0.02</td>\n",
       "      <td>0.05</td>\n",
       "      <td>-0.05</td>\n",
       "    </tr>\n",
       "    <tr>\n",
       "      <th>WMT_neg</th>\n",
       "      <td>-0.03</td>\n",
       "      <td>-0.02</td>\n",
       "      <td>-0.02</td>\n",
       "      <td>-0.02</td>\n",
       "      <td>-0.02</td>\n",
       "      <td>-0.03</td>\n",
       "      <td>-0.02</td>\n",
       "      <td>-0.05</td>\n",
       "      <td>0.05</td>\n",
       "    </tr>\n",
       "  </tbody>\n",
       "</table>\n",
       "</div>"
      ],
      "text/plain": [
       "Ticker   AAPL    BA   DIS    GE   JPM  MSFT  TSLA   WMT  WMT_neg\n",
       "Ticker                                                          \n",
       "AAPL     0.10  0.07  0.05  0.05  0.04  0.07  0.10  0.03    -0.03\n",
       "BA       0.07  0.26  0.09  0.12  0.10  0.06  0.11  0.02    -0.02\n",
       "DIS      0.05  0.09  0.12  0.07  0.06  0.05  0.07  0.02    -0.02\n",
       "GE       0.05  0.12  0.07  0.16  0.08  0.04  0.06  0.02    -0.02\n",
       "JPM      0.04  0.10  0.06  0.08  0.10  0.04  0.06  0.02    -0.02\n",
       "MSFT     0.07  0.06  0.05  0.04  0.04  0.09  0.09  0.03    -0.03\n",
       "TSLA     0.10  0.11  0.07  0.06  0.06  0.09  0.43  0.02    -0.02\n",
       "WMT      0.03  0.02  0.02  0.02  0.02  0.03  0.02  0.05    -0.05\n",
       "WMT_neg -0.03 -0.02 -0.02 -0.02 -0.02 -0.03 -0.02 -0.05     0.05"
      ]
     },
     "execution_count": 159,
     "metadata": {},
     "output_type": "execute_result"
    }
   ],
   "source": [
    "cov_matrix = cov_matrix * 252 # annual\n",
    "cov_matrix"
   ]
  },
  {
   "cell_type": "markdown",
   "metadata": {},
   "source": [
    "__More general Formula (Linear Algebra):__"
   ]
  },
  {
   "attachments": {
    "image.png": {
     "image/png": "[encoded data removed]"
    }
   },
   "cell_type": "markdown",
   "metadata": {},
   "source": [
    "![image.png](attachment:image.png)"
   ]
  },
  {
   "cell_type": "code",
   "execution_count": null,
   "metadata": {},
   "outputs": [],
   "source": []
  },
  {
   "cell_type": "markdown",
   "metadata": {},
   "source": [
    "## Correlation and the Portfolio Diversification Effect"
   ]
  },
  {
   "cell_type": "code",
   "execution_count": 174,
   "metadata": {},
   "outputs": [
    {
     "data": {
      "text/html": [
       "<div>\n",
       "<style scoped>\n",
       "    .dataframe tbody tr th:only-of-type {\n",
       "        vertical-align: middle;\n",
       "    }\n",
       "\n",
       "    .dataframe tbody tr th {\n",
       "        vertical-align: top;\n",
       "    }\n",
       "\n",
       "    .dataframe thead th {\n",
       "        text-align: right;\n",
       "    }\n",
       "</style>\n",
       "<table border=\"1\" class=\"dataframe\">\n",
       "  <thead>\n",
       "    <tr style=\"text-align: right;\">\n",
       "      <th>Ticker</th>\n",
       "      <th>AAPL</th>\n",
       "      <th>BA</th>\n",
       "      <th>DIS</th>\n",
       "      <th>GE</th>\n",
       "      <th>JPM</th>\n",
       "      <th>MSFT</th>\n",
       "      <th>TSLA</th>\n",
       "      <th>WMT</th>\n",
       "      <th>WMT_neg</th>\n",
       "    </tr>\n",
       "    <tr>\n",
       "      <th>Ticker</th>\n",
       "      <th></th>\n",
       "      <th></th>\n",
       "      <th></th>\n",
       "      <th></th>\n",
       "      <th></th>\n",
       "      <th></th>\n",
       "      <th></th>\n",
       "      <th></th>\n",
       "      <th></th>\n",
       "    </tr>\n",
       "  </thead>\n",
       "  <tbody>\n",
       "    <tr>\n",
       "      <th>AAPL</th>\n",
       "      <td>1.00</td>\n",
       "      <td>0.41</td>\n",
       "      <td>0.44</td>\n",
       "      <td>0.37</td>\n",
       "      <td>0.42</td>\n",
       "      <td>0.75</td>\n",
       "      <td>0.49</td>\n",
       "      <td>0.37</td>\n",
       "      <td>-0.37</td>\n",
       "    </tr>\n",
       "    <tr>\n",
       "      <th>BA</th>\n",
       "      <td>0.41</td>\n",
       "      <td>1.00</td>\n",
       "      <td>0.51</td>\n",
       "      <td>0.62</td>\n",
       "      <td>0.59</td>\n",
       "      <td>0.37</td>\n",
       "      <td>0.32</td>\n",
       "      <td>0.16</td>\n",
       "      <td>-0.16</td>\n",
       "    </tr>\n",
       "    <tr>\n",
       "      <th>DIS</th>\n",
       "      <td>0.44</td>\n",
       "      <td>0.51</td>\n",
       "      <td>1.00</td>\n",
       "      <td>0.48</td>\n",
       "      <td>0.57</td>\n",
       "      <td>0.48</td>\n",
       "      <td>0.32</td>\n",
       "      <td>0.24</td>\n",
       "      <td>-0.24</td>\n",
       "    </tr>\n",
       "    <tr>\n",
       "      <th>GE</th>\n",
       "      <td>0.37</td>\n",
       "      <td>0.62</td>\n",
       "      <td>0.48</td>\n",
       "      <td>1.00</td>\n",
       "      <td>0.63</td>\n",
       "      <td>0.37</td>\n",
       "      <td>0.23</td>\n",
       "      <td>0.17</td>\n",
       "      <td>-0.17</td>\n",
       "    </tr>\n",
       "    <tr>\n",
       "      <th>JPM</th>\n",
       "      <td>0.42</td>\n",
       "      <td>0.59</td>\n",
       "      <td>0.57</td>\n",
       "      <td>0.63</td>\n",
       "      <td>1.00</td>\n",
       "      <td>0.43</td>\n",
       "      <td>0.27</td>\n",
       "      <td>0.25</td>\n",
       "      <td>-0.25</td>\n",
       "    </tr>\n",
       "    <tr>\n",
       "      <th>MSFT</th>\n",
       "      <td>0.75</td>\n",
       "      <td>0.37</td>\n",
       "      <td>0.48</td>\n",
       "      <td>0.37</td>\n",
       "      <td>0.43</td>\n",
       "      <td>1.00</td>\n",
       "      <td>0.45</td>\n",
       "      <td>0.38</td>\n",
       "      <td>-0.38</td>\n",
       "    </tr>\n",
       "    <tr>\n",
       "      <th>TSLA</th>\n",
       "      <td>0.49</td>\n",
       "      <td>0.32</td>\n",
       "      <td>0.32</td>\n",
       "      <td>0.23</td>\n",
       "      <td>0.27</td>\n",
       "      <td>0.45</td>\n",
       "      <td>1.00</td>\n",
       "      <td>0.15</td>\n",
       "      <td>-0.15</td>\n",
       "    </tr>\n",
       "    <tr>\n",
       "      <th>WMT</th>\n",
       "      <td>0.37</td>\n",
       "      <td>0.16</td>\n",
       "      <td>0.24</td>\n",
       "      <td>0.17</td>\n",
       "      <td>0.25</td>\n",
       "      <td>0.38</td>\n",
       "      <td>0.15</td>\n",
       "      <td>1.00</td>\n",
       "      <td>-1.00</td>\n",
       "    </tr>\n",
       "    <tr>\n",
       "      <th>WMT_neg</th>\n",
       "      <td>-0.37</td>\n",
       "      <td>-0.16</td>\n",
       "      <td>-0.24</td>\n",
       "      <td>-0.17</td>\n",
       "      <td>-0.25</td>\n",
       "      <td>-0.38</td>\n",
       "      <td>-0.15</td>\n",
       "      <td>-1.00</td>\n",
       "      <td>1.00</td>\n",
       "    </tr>\n",
       "  </tbody>\n",
       "</table>\n",
       "</div>"
      ],
      "text/plain": [
       "Ticker   AAPL    BA   DIS    GE   JPM  MSFT  TSLA   WMT  WMT_neg\n",
       "Ticker                                                          \n",
       "AAPL     1.00  0.41  0.44  0.37  0.42  0.75  0.49  0.37    -0.37\n",
       "BA       0.41  1.00  0.51  0.62  0.59  0.37  0.32  0.16    -0.16\n",
       "DIS      0.44  0.51  1.00  0.48  0.57  0.48  0.32  0.24    -0.24\n",
       "GE       0.37  0.62  0.48  1.00  0.63  0.37  0.23  0.17    -0.17\n",
       "JPM      0.42  0.59  0.57  0.63  1.00  0.43  0.27  0.25    -0.25\n",
       "MSFT     0.75  0.37  0.48  0.37  0.43  1.00  0.45  0.38    -0.38\n",
       "TSLA     0.49  0.32  0.32  0.23  0.27  0.45  1.00  0.15    -0.15\n",
       "WMT      0.37  0.16  0.24  0.17  0.25  0.38  0.15  1.00    -1.00\n",
       "WMT_neg -0.37 -0.16 -0.24 -0.17 -0.25 -0.38 -0.15 -1.00     1.00"
      ]
     },
     "execution_count": 174,
     "metadata": {},
     "output_type": "execute_result"
    }
   ],
   "source": [
    "corr_matrix"
   ]
  },
  {
   "cell_type": "markdown",
   "metadata": {},
   "source": [
    "-> moderate positve correlation <br>\n",
    "-> there must be a __portfolio diversification effect__ (no straight line)"
   ]
  },
  {
   "cell_type": "code",
   "execution_count": 177,
   "metadata": {},
   "outputs": [
    {
     "data": {
      "text/plain": [
       "array([0.32850035, 0.32666048, 0.3248206 , 0.32298072, 0.32114085,\n",
       "       0.31930097, 0.3174611 , 0.31562122, 0.31378134, 0.31194147,\n",
       "       0.31010159, 0.30826172, 0.30642184, 0.30458197, 0.30274209,\n",
       "       0.30090221, 0.29906234, 0.29722246, 0.29538259, 0.29354271,\n",
       "       0.29170283, 0.28986296, 0.28802308, 0.28618321, 0.28434333,\n",
       "       0.28250345, 0.28066358, 0.2788237 , 0.27698383, 0.27514395,\n",
       "       0.27330407, 0.2714642 , 0.26962432, 0.26778445, 0.26594457,\n",
       "       0.26410469, 0.26226482, 0.26042494, 0.25858507, 0.25674519,\n",
       "       0.25490531, 0.25306544, 0.25122556, 0.24938569, 0.24754581,\n",
       "       0.24570594, 0.24386606, 0.24202618, 0.24018631, 0.23834643,\n",
       "       0.23650656, 0.23466668, 0.2328268 , 0.23098693, 0.22914705,\n",
       "       0.22730718, 0.2254673 , 0.22362742, 0.22178755, 0.21994767,\n",
       "       0.2181078 , 0.21626792, 0.21442804, 0.21258817, 0.21074829,\n",
       "       0.20890842, 0.20706854, 0.20522866, 0.20338879, 0.20154891,\n",
       "       0.19970904, 0.19786916, 0.19602929, 0.19418941, 0.19234953,\n",
       "       0.19050966, 0.18866978, 0.18682991, 0.18499003, 0.18315015,\n",
       "       0.18131028, 0.1794704 , 0.17763053, 0.17579065, 0.17395077,\n",
       "       0.1721109 , 0.17027102, 0.16843115, 0.16659127, 0.16475139,\n",
       "       0.16291152, 0.16107164, 0.15923177, 0.15739189, 0.15555201,\n",
       "       0.15371214, 0.15187226, 0.15003239, 0.14819251, 0.14635263])"
      ]
     },
     "execution_count": 177,
     "metadata": {},
     "output_type": "execute_result"
    }
   ],
   "source": [
    "port_ret"
   ]
  },
  {
   "cell_type": "code",
   "execution_count": 183,
   "metadata": {},
   "outputs": [
    {
     "ename": "ValueError",
     "evalue": "shapes (100,2) and (9,9) not aligned: 2 (dim 1) != 9 (dim 0)",
     "output_type": "error",
     "traceback": [
      "\u001b[0;31m---------------------------------------------------------------------------\u001b[0m",
      "\u001b[0;31mValueError\u001b[0m                                Traceback (most recent call last)",
      "\u001b[0;32m/var/folders/bl/tb4yc6js67lbf9670p_lh1km0000gn/T/ipykernel_6387/3907554921.py\u001b[0m in \u001b[0;36m<module>\u001b[0;34m\u001b[0m\n\u001b[0;32m----> 1\u001b[0;31m \u001b[0mport_risk\u001b[0m \u001b[0;34m=\u001b[0m \u001b[0mnp\u001b[0m\u001b[0;34m.\u001b[0m\u001b[0msqrt\u001b[0m\u001b[0;34m(\u001b[0m\u001b[0;34m(\u001b[0m\u001b[0mweights\u001b[0m\u001b[0;34m.\u001b[0m\u001b[0mdot\u001b[0m\u001b[0;34m(\u001b[0m\u001b[0mcov_matrix\u001b[0m\u001b[0;34m)\u001b[0m \u001b[0;34m*\u001b[0m \u001b[0mweights\u001b[0m\u001b[0;34m)\u001b[0m\u001b[0;34m.\u001b[0m\u001b[0msum\u001b[0m\u001b[0;34m(\u001b[0m\u001b[0maxis\u001b[0m \u001b[0;34m=\u001b[0m \u001b[0;36m1\u001b[0m\u001b[0;34m)\u001b[0m\u001b[0;34m)\u001b[0m\u001b[0;34m\u001b[0m\u001b[0;34m\u001b[0m\u001b[0m\n\u001b[0m\u001b[1;32m      2\u001b[0m \u001b[0mport_risk\u001b[0m\u001b[0;34m\u001b[0m\u001b[0;34m\u001b[0m\u001b[0m\n",
      "\u001b[0;31mValueError\u001b[0m: shapes (100,2) and (9,9) not aligned: 2 (dim 1) != 9 (dim 0)"
     ]
    }
   ],
   "source": [
    "port_risk = np.sqrt((weights.dot(cov_matrix) * weights).sum(axis = 1))\n",
    "port_risk"
   ]
  },
  {
   "cell_type": "code",
   "execution_count": 185,
   "metadata": {},
   "outputs": [
    {
     "ename": "NameError",
     "evalue": "name 'port_risk' is not defined",
     "output_type": "error",
     "traceback": [
      "\u001b[0;31m---------------------------------------------------------------------------\u001b[0m",
      "\u001b[0;31mNameError\u001b[0m                                 Traceback (most recent call last)",
      "\u001b[0;32m/var/folders/bl/tb4yc6js67lbf9670p_lh1km0000gn/T/ipykernel_6387/187305432.py\u001b[0m in \u001b[0;36m<module>\u001b[0;34m\u001b[0m\n\u001b[1;32m      1\u001b[0m \u001b[0mplt\u001b[0m\u001b[0;34m.\u001b[0m\u001b[0mfigure\u001b[0m\u001b[0;34m(\u001b[0m\u001b[0mfigsize\u001b[0m \u001b[0;34m=\u001b[0m \u001b[0;34m(\u001b[0m\u001b[0;36m15\u001b[0m\u001b[0;34m,\u001b[0m \u001b[0;36m9\u001b[0m\u001b[0;34m)\u001b[0m\u001b[0;34m)\u001b[0m\u001b[0;34m\u001b[0m\u001b[0;34m\u001b[0m\u001b[0m\n\u001b[0;32m----> 2\u001b[0;31m \u001b[0mplt\u001b[0m\u001b[0;34m.\u001b[0m\u001b[0mscatter\u001b[0m\u001b[0;34m(\u001b[0m\u001b[0mport_risk\u001b[0m\u001b[0;34m,\u001b[0m \u001b[0mport_ret\u001b[0m\u001b[0;34m,\u001b[0m \u001b[0ms\u001b[0m \u001b[0;34m=\u001b[0m \u001b[0;36m10\u001b[0m\u001b[0;34m)\u001b[0m\u001b[0;34m\u001b[0m\u001b[0;34m\u001b[0m\u001b[0m\n\u001b[0m\u001b[1;32m      3\u001b[0m \u001b[0mplt\u001b[0m\u001b[0;34m.\u001b[0m\u001b[0mscatter\u001b[0m\u001b[0;34m(\u001b[0m\u001b[0msubset\u001b[0m\u001b[0;34m.\u001b[0m\u001b[0mloc\u001b[0m\u001b[0;34m[\u001b[0m\u001b[0;34m:\u001b[0m\u001b[0;34m,\u001b[0m \u001b[0;34m\"Risk\"\u001b[0m\u001b[0;34m]\u001b[0m\u001b[0;34m,\u001b[0m \u001b[0msubset\u001b[0m\u001b[0;34m.\u001b[0m\u001b[0mloc\u001b[0m\u001b[0;34m[\u001b[0m\u001b[0;34m:\u001b[0m\u001b[0;34m,\u001b[0m \u001b[0;34m\"Return\"\u001b[0m\u001b[0;34m]\u001b[0m\u001b[0;34m,\u001b[0m \u001b[0ms\u001b[0m\u001b[0;34m=\u001b[0m \u001b[0;36m20\u001b[0m\u001b[0;34m,\u001b[0m \u001b[0mcolor\u001b[0m \u001b[0;34m=\u001b[0m \u001b[0;34m\"black\"\u001b[0m\u001b[0;34m,\u001b[0m \u001b[0mmarker\u001b[0m \u001b[0;34m=\u001b[0m \u001b[0;34m\"D\"\u001b[0m\u001b[0;34m)\u001b[0m\u001b[0;34m\u001b[0m\u001b[0;34m\u001b[0m\u001b[0m\n\u001b[1;32m      4\u001b[0m \u001b[0;32mfor\u001b[0m \u001b[0mi\u001b[0m \u001b[0;32min\u001b[0m \u001b[0msubset\u001b[0m\u001b[0;34m.\u001b[0m\u001b[0mindex\u001b[0m\u001b[0;34m:\u001b[0m\u001b[0;34m\u001b[0m\u001b[0;34m\u001b[0m\u001b[0m\n\u001b[1;32m      5\u001b[0m     \u001b[0mplt\u001b[0m\u001b[0;34m.\u001b[0m\u001b[0mannotate\u001b[0m\u001b[0;34m(\u001b[0m\u001b[0mi\u001b[0m\u001b[0;34m,\u001b[0m \u001b[0mxy\u001b[0m\u001b[0;34m=\u001b[0m\u001b[0;34m(\u001b[0m\u001b[0msubset\u001b[0m\u001b[0;34m.\u001b[0m\u001b[0mloc\u001b[0m\u001b[0;34m[\u001b[0m\u001b[0mi\u001b[0m\u001b[0;34m,\u001b[0m \u001b[0;34m\"Risk\"\u001b[0m\u001b[0;34m]\u001b[0m\u001b[0;34m+\u001b[0m\u001b[0;36m0.00005\u001b[0m\u001b[0;34m,\u001b[0m \u001b[0msubset\u001b[0m\u001b[0;34m.\u001b[0m\u001b[0mloc\u001b[0m\u001b[0;34m[\u001b[0m\u001b[0mi\u001b[0m\u001b[0;34m,\u001b[0m \u001b[0;34m\"Return\"\u001b[0m\u001b[0;34m]\u001b[0m\u001b[0;34m+\u001b[0m\u001b[0;36m0.00005\u001b[0m\u001b[0;34m)\u001b[0m\u001b[0;34m,\u001b[0m \u001b[0msize\u001b[0m \u001b[0;34m=\u001b[0m \u001b[0;36m15\u001b[0m\u001b[0;34m)\u001b[0m\u001b[0;34m\u001b[0m\u001b[0;34m\u001b[0m\u001b[0m\n",
      "\u001b[0;31mNameError\u001b[0m: name 'port_risk' is not defined"
     ]
    },
    {
     "data": {
      "text/plain": [
       "<Figure size 1500x900 with 0 Axes>"
      ]
     },
     "metadata": {},
     "output_type": "display_data"
    }
   ],
   "source": [
    "plt.figure(figsize = (15, 9))\n",
    "plt.scatter(port_risk, port_ret, s = 10)\n",
    "plt.scatter(subset.loc[:, \"Risk\"], subset.loc[:, \"Return\"], s= 20, color = \"black\", marker = \"D\")\n",
    "for i in subset.index:\n",
    "    plt.annotate(i, xy=(subset.loc[i, \"Risk\"]+0.00005, subset.loc[i, \"Return\"]+0.00005), size = 15)\n",
    "plt.xlim(0, 0.4)\n",
    "plt.ylim(0, 0.4)\n",
    "plt.xlabel(\"ann. Risk (std)\", fontsize = 15)\n",
    "plt.ylabel(\"Returns\", fontsize = 15)\n",
    "plt.title(\"Risk/Return\", fontsize = 20)\n",
    "plt.show()"
   ]
  },
  {
   "cell_type": "markdown",
   "metadata": {},
   "source": [
    "__Now assuming various values for the Correlation Coefficient__ (everything else equal)"
   ]
  },
  {
   "cell_type": "code",
   "execution_count": 188,
   "metadata": {},
   "outputs": [],
   "source": [
    "corrs = [(-1, \"green\"), (-0.5, \"yellow\"), (0, \"grey\"), (0.5, \"blue\"), (1, \"red\")]"
   ]
  },
  {
   "cell_type": "code",
   "execution_count": 190,
   "metadata": {},
   "outputs": [
    {
     "data": {
      "text/plain": [
       "array([[0.        , 1.        ],\n",
       "       [0.01010101, 0.98989899],\n",
       "       [0.02020202, 0.97979798],\n",
       "       [0.03030303, 0.96969697],\n",
       "       [0.04040404, 0.95959596],\n",
       "       [0.05050505, 0.94949495],\n",
       "       [0.06060606, 0.93939394],\n",
       "       [0.07070707, 0.92929293],\n",
       "       [0.08080808, 0.91919192],\n",
       "       [0.09090909, 0.90909091],\n",
       "       [0.1010101 , 0.8989899 ],\n",
       "       [0.11111111, 0.88888889],\n",
       "       [0.12121212, 0.87878788],\n",
       "       [0.13131313, 0.86868687],\n",
       "       [0.14141414, 0.85858586],\n",
       "       [0.15151515, 0.84848485],\n",
       "       [0.16161616, 0.83838384],\n",
       "       [0.17171717, 0.82828283],\n",
       "       [0.18181818, 0.81818182],\n",
       "       [0.19191919, 0.80808081],\n",
       "       [0.2020202 , 0.7979798 ],\n",
       "       [0.21212121, 0.78787879],\n",
       "       [0.22222222, 0.77777778],\n",
       "       [0.23232323, 0.76767677],\n",
       "       [0.24242424, 0.75757576],\n",
       "       [0.25252525, 0.74747475],\n",
       "       [0.26262626, 0.73737374],\n",
       "       [0.27272727, 0.72727273],\n",
       "       [0.28282828, 0.71717172],\n",
       "       [0.29292929, 0.70707071],\n",
       "       [0.3030303 , 0.6969697 ],\n",
       "       [0.31313131, 0.68686869],\n",
       "       [0.32323232, 0.67676768],\n",
       "       [0.33333333, 0.66666667],\n",
       "       [0.34343434, 0.65656566],\n",
       "       [0.35353535, 0.64646465],\n",
       "       [0.36363636, 0.63636364],\n",
       "       [0.37373737, 0.62626263],\n",
       "       [0.38383838, 0.61616162],\n",
       "       [0.39393939, 0.60606061],\n",
       "       [0.4040404 , 0.5959596 ],\n",
       "       [0.41414141, 0.58585859],\n",
       "       [0.42424242, 0.57575758],\n",
       "       [0.43434343, 0.56565657],\n",
       "       [0.44444444, 0.55555556],\n",
       "       [0.45454545, 0.54545455],\n",
       "       [0.46464646, 0.53535354],\n",
       "       [0.47474747, 0.52525253],\n",
       "       [0.48484848, 0.51515152],\n",
       "       [0.49494949, 0.50505051],\n",
       "       [0.50505051, 0.49494949],\n",
       "       [0.51515152, 0.48484848],\n",
       "       [0.52525253, 0.47474747],\n",
       "       [0.53535354, 0.46464646],\n",
       "       [0.54545455, 0.45454545],\n",
       "       [0.55555556, 0.44444444],\n",
       "       [0.56565657, 0.43434343],\n",
       "       [0.57575758, 0.42424242],\n",
       "       [0.58585859, 0.41414141],\n",
       "       [0.5959596 , 0.4040404 ],\n",
       "       [0.60606061, 0.39393939],\n",
       "       [0.61616162, 0.38383838],\n",
       "       [0.62626263, 0.37373737],\n",
       "       [0.63636364, 0.36363636],\n",
       "       [0.64646465, 0.35353535],\n",
       "       [0.65656566, 0.34343434],\n",
       "       [0.66666667, 0.33333333],\n",
       "       [0.67676768, 0.32323232],\n",
       "       [0.68686869, 0.31313131],\n",
       "       [0.6969697 , 0.3030303 ],\n",
       "       [0.70707071, 0.29292929],\n",
       "       [0.71717172, 0.28282828],\n",
       "       [0.72727273, 0.27272727],\n",
       "       [0.73737374, 0.26262626],\n",
       "       [0.74747475, 0.25252525],\n",
       "       [0.75757576, 0.24242424],\n",
       "       [0.76767677, 0.23232323],\n",
       "       [0.77777778, 0.22222222],\n",
       "       [0.78787879, 0.21212121],\n",
       "       [0.7979798 , 0.2020202 ],\n",
       "       [0.80808081, 0.19191919],\n",
       "       [0.81818182, 0.18181818],\n",
       "       [0.82828283, 0.17171717],\n",
       "       [0.83838384, 0.16161616],\n",
       "       [0.84848485, 0.15151515],\n",
       "       [0.85858586, 0.14141414],\n",
       "       [0.86868687, 0.13131313],\n",
       "       [0.87878788, 0.12121212],\n",
       "       [0.88888889, 0.11111111],\n",
       "       [0.8989899 , 0.1010101 ],\n",
       "       [0.90909091, 0.09090909],\n",
       "       [0.91919192, 0.08080808],\n",
       "       [0.92929293, 0.07070707],\n",
       "       [0.93939394, 0.06060606],\n",
       "       [0.94949495, 0.05050505],\n",
       "       [0.95959596, 0.04040404],\n",
       "       [0.96969697, 0.03030303],\n",
       "       [0.97979798, 0.02020202],\n",
       "       [0.98989899, 0.01010101],\n",
       "       [1.        , 0.        ]])"
      ]
     },
     "execution_count": 190,
     "metadata": {},
     "output_type": "execute_result"
    }
   ],
   "source": [
    "weights"
   ]
  },
  {
   "cell_type": "code",
   "execution_count": 192,
   "metadata": {},
   "outputs": [
    {
     "data": {
      "text/html": [
       "<div>\n",
       "<style scoped>\n",
       "    .dataframe tbody tr th:only-of-type {\n",
       "        vertical-align: middle;\n",
       "    }\n",
       "\n",
       "    .dataframe tbody tr th {\n",
       "        vertical-align: top;\n",
       "    }\n",
       "\n",
       "    .dataframe thead th {\n",
       "        text-align: right;\n",
       "    }\n",
       "</style>\n",
       "<table border=\"1\" class=\"dataframe\">\n",
       "  <thead>\n",
       "    <tr style=\"text-align: right;\">\n",
       "      <th></th>\n",
       "      <th>Risk</th>\n",
       "      <th>Return</th>\n",
       "    </tr>\n",
       "    <tr>\n",
       "      <th>Ticker</th>\n",
       "      <th></th>\n",
       "      <th></th>\n",
       "    </tr>\n",
       "  </thead>\n",
       "  <tbody>\n",
       "    <tr>\n",
       "      <th>WMT</th>\n",
       "      <td>0.22</td>\n",
       "      <td>0.15</td>\n",
       "    </tr>\n",
       "    <tr>\n",
       "      <th>AAPL</th>\n",
       "      <td>0.32</td>\n",
       "      <td>0.33</td>\n",
       "    </tr>\n",
       "  </tbody>\n",
       "</table>\n",
       "</div>"
      ],
      "text/plain": [
       "        Risk  Return\n",
       "Ticker              \n",
       "WMT     0.22    0.15\n",
       "AAPL    0.32    0.33"
      ]
     },
     "execution_count": 192,
     "metadata": {},
     "output_type": "execute_result"
    }
   ],
   "source": [
    "subset"
   ]
  },
  {
   "cell_type": "code",
   "execution_count": 194,
   "metadata": {},
   "outputs": [
    {
     "data": {
      "text/html": [
       "<div>\n",
       "<style scoped>\n",
       "    .dataframe tbody tr th:only-of-type {\n",
       "        vertical-align: middle;\n",
       "    }\n",
       "\n",
       "    .dataframe tbody tr th {\n",
       "        vertical-align: top;\n",
       "    }\n",
       "\n",
       "    .dataframe thead th {\n",
       "        text-align: right;\n",
       "    }\n",
       "</style>\n",
       "<table border=\"1\" class=\"dataframe\">\n",
       "  <thead>\n",
       "    <tr style=\"text-align: right;\">\n",
       "      <th>Ticker</th>\n",
       "      <th>AAPL</th>\n",
       "      <th>BA</th>\n",
       "      <th>DIS</th>\n",
       "      <th>GE</th>\n",
       "      <th>JPM</th>\n",
       "      <th>MSFT</th>\n",
       "      <th>TSLA</th>\n",
       "      <th>WMT</th>\n",
       "      <th>WMT_neg</th>\n",
       "    </tr>\n",
       "    <tr>\n",
       "      <th>Ticker</th>\n",
       "      <th></th>\n",
       "      <th></th>\n",
       "      <th></th>\n",
       "      <th></th>\n",
       "      <th></th>\n",
       "      <th></th>\n",
       "      <th></th>\n",
       "      <th></th>\n",
       "      <th></th>\n",
       "    </tr>\n",
       "  </thead>\n",
       "  <tbody>\n",
       "    <tr>\n",
       "      <th>AAPL</th>\n",
       "      <td>0.10</td>\n",
       "      <td>0.07</td>\n",
       "      <td>0.05</td>\n",
       "      <td>0.05</td>\n",
       "      <td>0.04</td>\n",
       "      <td>0.07</td>\n",
       "      <td>0.10</td>\n",
       "      <td>0.03</td>\n",
       "      <td>-0.03</td>\n",
       "    </tr>\n",
       "    <tr>\n",
       "      <th>BA</th>\n",
       "      <td>0.07</td>\n",
       "      <td>0.26</td>\n",
       "      <td>0.09</td>\n",
       "      <td>0.12</td>\n",
       "      <td>0.10</td>\n",
       "      <td>0.06</td>\n",
       "      <td>0.11</td>\n",
       "      <td>0.02</td>\n",
       "      <td>-0.02</td>\n",
       "    </tr>\n",
       "    <tr>\n",
       "      <th>DIS</th>\n",
       "      <td>0.05</td>\n",
       "      <td>0.09</td>\n",
       "      <td>0.12</td>\n",
       "      <td>0.07</td>\n",
       "      <td>0.06</td>\n",
       "      <td>0.05</td>\n",
       "      <td>0.07</td>\n",
       "      <td>0.02</td>\n",
       "      <td>-0.02</td>\n",
       "    </tr>\n",
       "    <tr>\n",
       "      <th>GE</th>\n",
       "      <td>0.05</td>\n",
       "      <td>0.12</td>\n",
       "      <td>0.07</td>\n",
       "      <td>0.16</td>\n",
       "      <td>0.08</td>\n",
       "      <td>0.04</td>\n",
       "      <td>0.06</td>\n",
       "      <td>0.02</td>\n",
       "      <td>-0.02</td>\n",
       "    </tr>\n",
       "    <tr>\n",
       "      <th>JPM</th>\n",
       "      <td>0.04</td>\n",
       "      <td>0.10</td>\n",
       "      <td>0.06</td>\n",
       "      <td>0.08</td>\n",
       "      <td>0.10</td>\n",
       "      <td>0.04</td>\n",
       "      <td>0.06</td>\n",
       "      <td>0.02</td>\n",
       "      <td>-0.02</td>\n",
       "    </tr>\n",
       "    <tr>\n",
       "      <th>MSFT</th>\n",
       "      <td>0.07</td>\n",
       "      <td>0.06</td>\n",
       "      <td>0.05</td>\n",
       "      <td>0.04</td>\n",
       "      <td>0.04</td>\n",
       "      <td>0.09</td>\n",
       "      <td>0.09</td>\n",
       "      <td>0.03</td>\n",
       "      <td>-0.03</td>\n",
       "    </tr>\n",
       "    <tr>\n",
       "      <th>TSLA</th>\n",
       "      <td>0.10</td>\n",
       "      <td>0.11</td>\n",
       "      <td>0.07</td>\n",
       "      <td>0.06</td>\n",
       "      <td>0.06</td>\n",
       "      <td>0.09</td>\n",
       "      <td>0.43</td>\n",
       "      <td>0.02</td>\n",
       "      <td>-0.02</td>\n",
       "    </tr>\n",
       "    <tr>\n",
       "      <th>WMT</th>\n",
       "      <td>0.03</td>\n",
       "      <td>0.02</td>\n",
       "      <td>0.02</td>\n",
       "      <td>0.02</td>\n",
       "      <td>0.02</td>\n",
       "      <td>0.03</td>\n",
       "      <td>0.02</td>\n",
       "      <td>0.05</td>\n",
       "      <td>-0.05</td>\n",
       "    </tr>\n",
       "    <tr>\n",
       "      <th>WMT_neg</th>\n",
       "      <td>-0.03</td>\n",
       "      <td>-0.02</td>\n",
       "      <td>-0.02</td>\n",
       "      <td>-0.02</td>\n",
       "      <td>-0.02</td>\n",
       "      <td>-0.03</td>\n",
       "      <td>-0.02</td>\n",
       "      <td>-0.05</td>\n",
       "      <td>0.05</td>\n",
       "    </tr>\n",
       "  </tbody>\n",
       "</table>\n",
       "</div>"
      ],
      "text/plain": [
       "Ticker   AAPL    BA   DIS    GE   JPM  MSFT  TSLA   WMT  WMT_neg\n",
       "Ticker                                                          \n",
       "AAPL     0.10  0.07  0.05  0.05  0.04  0.07  0.10  0.03    -0.03\n",
       "BA       0.07  0.26  0.09  0.12  0.10  0.06  0.11  0.02    -0.02\n",
       "DIS      0.05  0.09  0.12  0.07  0.06  0.05  0.07  0.02    -0.02\n",
       "GE       0.05  0.12  0.07  0.16  0.08  0.04  0.06  0.02    -0.02\n",
       "JPM      0.04  0.10  0.06  0.08  0.10  0.04  0.06  0.02    -0.02\n",
       "MSFT     0.07  0.06  0.05  0.04  0.04  0.09  0.09  0.03    -0.03\n",
       "TSLA     0.10  0.11  0.07  0.06  0.06  0.09  0.43  0.02    -0.02\n",
       "WMT      0.03  0.02  0.02  0.02  0.02  0.03  0.02  0.05    -0.05\n",
       "WMT_neg -0.03 -0.02 -0.02 -0.02 -0.02 -0.03 -0.02 -0.05     0.05"
      ]
     },
     "execution_count": 194,
     "metadata": {},
     "output_type": "execute_result"
    }
   ],
   "source": [
    "cov_matrix"
   ]
  },
  {
   "cell_type": "code",
   "execution_count": 196,
   "metadata": {},
   "outputs": [
    {
     "data": {
      "text/plain": [
       "array([0.32850035, 0.32666048, 0.3248206 , 0.32298072, 0.32114085,\n",
       "       0.31930097, 0.3174611 , 0.31562122, 0.31378134, 0.31194147,\n",
       "       0.31010159, 0.30826172, 0.30642184, 0.30458197, 0.30274209,\n",
       "       0.30090221, 0.29906234, 0.29722246, 0.29538259, 0.29354271,\n",
       "       0.29170283, 0.28986296, 0.28802308, 0.28618321, 0.28434333,\n",
       "       0.28250345, 0.28066358, 0.2788237 , 0.27698383, 0.27514395,\n",
       "       0.27330407, 0.2714642 , 0.26962432, 0.26778445, 0.26594457,\n",
       "       0.26410469, 0.26226482, 0.26042494, 0.25858507, 0.25674519,\n",
       "       0.25490531, 0.25306544, 0.25122556, 0.24938569, 0.24754581,\n",
       "       0.24570594, 0.24386606, 0.24202618, 0.24018631, 0.23834643,\n",
       "       0.23650656, 0.23466668, 0.2328268 , 0.23098693, 0.22914705,\n",
       "       0.22730718, 0.2254673 , 0.22362742, 0.22178755, 0.21994767,\n",
       "       0.2181078 , 0.21626792, 0.21442804, 0.21258817, 0.21074829,\n",
       "       0.20890842, 0.20706854, 0.20522866, 0.20338879, 0.20154891,\n",
       "       0.19970904, 0.19786916, 0.19602929, 0.19418941, 0.19234953,\n",
       "       0.19050966, 0.18866978, 0.18682991, 0.18499003, 0.18315015,\n",
       "       0.18131028, 0.1794704 , 0.17763053, 0.17579065, 0.17395077,\n",
       "       0.1721109 , 0.17027102, 0.16843115, 0.16659127, 0.16475139,\n",
       "       0.16291152, 0.16107164, 0.15923177, 0.15739189, 0.15555201,\n",
       "       0.15371214, 0.15187226, 0.15003239, 0.14819251, 0.14635263])"
      ]
     },
     "execution_count": 196,
     "metadata": {},
     "output_type": "execute_result"
    }
   ],
   "source": [
    "port_ret"
   ]
  },
  {
   "cell_type": "code",
   "execution_count": 198,
   "metadata": {},
   "outputs": [
    {
     "ename": "ValueError",
     "evalue": "shapes (100,2) and (9,9) not aligned: 2 (dim 1) != 9 (dim 0)",
     "output_type": "error",
     "traceback": [
      "\u001b[0;31m---------------------------------------------------------------------------\u001b[0m",
      "\u001b[0;31mValueError\u001b[0m                                Traceback (most recent call last)",
      "\u001b[0;32m/var/folders/bl/tb4yc6js67lbf9670p_lh1km0000gn/T/ipykernel_6387/2017383795.py\u001b[0m in \u001b[0;36m<module>\u001b[0;34m\u001b[0m\n\u001b[1;32m      6\u001b[0m     \u001b[0mcov_matrix\u001b[0m\u001b[0;34m.\u001b[0m\u001b[0miloc\u001b[0m\u001b[0;34m[\u001b[0m\u001b[0;36m0\u001b[0m\u001b[0;34m,\u001b[0m\u001b[0;36m1\u001b[0m\u001b[0;34m]\u001b[0m \u001b[0;34m=\u001b[0m \u001b[0mcov\u001b[0m \u001b[0;31m#updates values of the matrix since there are diff correlations involved\u001b[0m\u001b[0;34m\u001b[0m\u001b[0;34m\u001b[0m\u001b[0m\n\u001b[1;32m      7\u001b[0m     \u001b[0mcov_matrix\u001b[0m\u001b[0;34m.\u001b[0m\u001b[0miloc\u001b[0m\u001b[0;34m[\u001b[0m\u001b[0;36m1\u001b[0m\u001b[0;34m,\u001b[0m\u001b[0;36m0\u001b[0m\u001b[0;34m]\u001b[0m \u001b[0;34m=\u001b[0m \u001b[0mcov\u001b[0m\u001b[0;34m\u001b[0m\u001b[0;34m\u001b[0m\u001b[0m\n\u001b[0;32m----> 8\u001b[0;31m     \u001b[0mport_risk\u001b[0m \u001b[0;34m=\u001b[0m \u001b[0mnp\u001b[0m\u001b[0;34m.\u001b[0m\u001b[0msqrt\u001b[0m\u001b[0;34m(\u001b[0m\u001b[0;34m(\u001b[0m\u001b[0mweights\u001b[0m\u001b[0;34m.\u001b[0m\u001b[0mdot\u001b[0m\u001b[0;34m(\u001b[0m\u001b[0mcov_matrix\u001b[0m\u001b[0;34m)\u001b[0m \u001b[0;34m*\u001b[0m \u001b[0mweights\u001b[0m\u001b[0;34m)\u001b[0m\u001b[0;34m.\u001b[0m\u001b[0msum\u001b[0m\u001b[0;34m(\u001b[0m\u001b[0maxis\u001b[0m \u001b[0;34m=\u001b[0m \u001b[0;36m1\u001b[0m\u001b[0;34m)\u001b[0m\u001b[0;34m)\u001b[0m\u001b[0;34m\u001b[0m\u001b[0;34m\u001b[0m\u001b[0m\n\u001b[0m\u001b[1;32m      9\u001b[0m \u001b[0;34m\u001b[0m\u001b[0m\n\u001b[1;32m     10\u001b[0m     \u001b[0mplt\u001b[0m\u001b[0;34m.\u001b[0m\u001b[0mscatter\u001b[0m\u001b[0;34m(\u001b[0m\u001b[0mport_risk\u001b[0m\u001b[0;34m,\u001b[0m \u001b[0mport_ret\u001b[0m\u001b[0;34m,\u001b[0m \u001b[0ms\u001b[0m \u001b[0;34m=\u001b[0m \u001b[0;36m10\u001b[0m\u001b[0;34m,\u001b[0m \u001b[0mcolor\u001b[0m \u001b[0;34m=\u001b[0m \u001b[0mcorr\u001b[0m\u001b[0;34m[\u001b[0m\u001b[0;36m1\u001b[0m\u001b[0;34m]\u001b[0m\u001b[0;34m,\u001b[0m  \u001b[0mlabel\u001b[0m \u001b[0;34m=\u001b[0m \u001b[0;34m\"Corr == {}\"\u001b[0m\u001b[0;34m.\u001b[0m\u001b[0mformat\u001b[0m\u001b[0;34m(\u001b[0m\u001b[0mcorr\u001b[0m\u001b[0;34m[\u001b[0m\u001b[0;36m0\u001b[0m\u001b[0;34m]\u001b[0m\u001b[0;34m)\u001b[0m\u001b[0;34m)\u001b[0m\u001b[0;34m\u001b[0m\u001b[0;34m\u001b[0m\u001b[0m\n",
      "\u001b[0;31mValueError\u001b[0m: shapes (100,2) and (9,9) not aligned: 2 (dim 1) != 9 (dim 0)"
     ]
    },
    {
     "data": {
      "text/plain": [
       "<Figure size 1500x900 with 0 Axes>"
      ]
     },
     "metadata": {},
     "output_type": "display_data"
    }
   ],
   "source": [
    "corrs = [(-1, \"green\"), (-0.5, \"yellow\"), (0, \"grey\"), (0.5, \"blue\"), (1, \"red\")]\n",
    "\n",
    "plt.figure(figsize = (15, 9))\n",
    "for corr in corrs:\n",
    "    cov = corr[0] * np.sqrt(cov_matrix.iloc[0,0]) * np.sqrt(cov_matrix.iloc[1,1]) #cov of itself is variance, hence it's sqrt of variance to retireve standard deviation (sd WMT * SD AAPL * Correlation = cov)\n",
    "    cov_matrix.iloc[0,1] = cov #updates values of the matrix since there are diff correlations involved\n",
    "    cov_matrix.iloc[1,0] = cov\n",
    "    port_risk = np.sqrt((weights.dot(cov_matrix) * weights).sum(axis = 1))\n",
    "    \n",
    "    plt.scatter(port_risk, port_ret, s = 10, color = corr[1],  label = \"Corr == {}\".format(corr[0]))\n",
    "plt.scatter(subset.loc[:, \"Risk\"], subset.loc[:, \"Return\"], s= 20, color = \"black\", marker = \"D\")\n",
    "for i in subset.index:\n",
    "    plt.annotate(i, xy=(subset.loc[i, \"Risk\"]+0.00005, subset.loc[i, \"Return\"]+0.00005), size = 15)\n",
    "plt.xlim(0, 0.4)\n",
    "plt.ylim(0, 0.4)\n",
    "plt.xlabel(\"ann. Risk (std)\", fontsize = 15)\n",
    "plt.ylabel(\"Returns\", fontsize = 15)\n",
    "plt.title(\"Risk/Return\", fontsize = 20)\n",
    "plt.legend(fontsize = 15)\n",
    "plt.show()"
   ]
  },
  {
   "cell_type": "markdown",
   "metadata": {},
   "source": [
    "-> Portfolio Diversification Effect: more Return for the same Risk / less Risk for the same Return (__\"the only free lunch in the market\"__)"
   ]
  },
  {
   "cell_type": "code",
   "execution_count": null,
   "metadata": {},
   "outputs": [],
   "source": []
  },
  {
   "cell_type": "markdown",
   "metadata": {},
   "source": [
    "## Multiple Asset Case"
   ]
  },
  {
   "cell_type": "code",
   "execution_count": 203,
   "metadata": {},
   "outputs": [],
   "source": [
    "import pandas as pd\n",
    "import numpy as np\n",
    "import matplotlib.pyplot as plt"
   ]
  },
  {
   "cell_type": "code",
   "execution_count": 205,
   "metadata": {},
   "outputs": [
    {
     "data": {
      "text/html": [
       "<div>\n",
       "<style scoped>\n",
       "    .dataframe tbody tr th:only-of-type {\n",
       "        vertical-align: middle;\n",
       "    }\n",
       "\n",
       "    .dataframe tbody tr th {\n",
       "        vertical-align: top;\n",
       "    }\n",
       "\n",
       "    .dataframe thead th {\n",
       "        text-align: right;\n",
       "    }\n",
       "</style>\n",
       "<table border=\"1\" class=\"dataframe\">\n",
       "  <thead>\n",
       "    <tr style=\"text-align: right;\">\n",
       "      <th></th>\n",
       "      <th>AAPL</th>\n",
       "      <th>BA</th>\n",
       "      <th>DIS</th>\n",
       "      <th>GE</th>\n",
       "      <th>JPM</th>\n",
       "      <th>MSFT</th>\n",
       "      <th>TSLA</th>\n",
       "      <th>WMT</th>\n",
       "    </tr>\n",
       "    <tr>\n",
       "      <th>Date</th>\n",
       "      <th></th>\n",
       "      <th></th>\n",
       "      <th></th>\n",
       "      <th></th>\n",
       "      <th></th>\n",
       "      <th></th>\n",
       "      <th></th>\n",
       "      <th></th>\n",
       "    </tr>\n",
       "  </thead>\n",
       "  <tbody>\n",
       "    <tr>\n",
       "      <th>2017-07-03</th>\n",
       "      <td>35.88</td>\n",
       "      <td>198.59</td>\n",
       "      <td>107.46</td>\n",
       "      <td>211.15</td>\n",
       "      <td>92.75</td>\n",
       "      <td>68.17</td>\n",
       "      <td>23.51</td>\n",
       "      <td>75.36</td>\n",
       "    </tr>\n",
       "    <tr>\n",
       "      <th>2017-07-05</th>\n",
       "      <td>36.02</td>\n",
       "      <td>201.81</td>\n",
       "      <td>105.63</td>\n",
       "      <td>210.38</td>\n",
       "      <td>93.68</td>\n",
       "      <td>69.08</td>\n",
       "      <td>21.81</td>\n",
       "      <td>75.32</td>\n",
       "    </tr>\n",
       "    <tr>\n",
       "      <th>2017-07-06</th>\n",
       "      <td>35.68</td>\n",
       "      <td>201.48</td>\n",
       "      <td>103.35</td>\n",
       "      <td>202.38</td>\n",
       "      <td>93.38</td>\n",
       "      <td>68.57</td>\n",
       "      <td>20.59</td>\n",
       "      <td>75.47</td>\n",
       "    </tr>\n",
       "    <tr>\n",
       "      <th>2017-07-07</th>\n",
       "      <td>36.04</td>\n",
       "      <td>202.37</td>\n",
       "      <td>103.32</td>\n",
       "      <td>201.15</td>\n",
       "      <td>93.85</td>\n",
       "      <td>69.46</td>\n",
       "      <td>20.88</td>\n",
       "      <td>75.33</td>\n",
       "    </tr>\n",
       "    <tr>\n",
       "      <th>2017-07-10</th>\n",
       "      <td>36.26</td>\n",
       "      <td>203.96</td>\n",
       "      <td>103.59</td>\n",
       "      <td>200.31</td>\n",
       "      <td>93.19</td>\n",
       "      <td>69.98</td>\n",
       "      <td>21.07</td>\n",
       "      <td>73.23</td>\n",
       "    </tr>\n",
       "    <tr>\n",
       "      <th>...</th>\n",
       "      <td>...</td>\n",
       "      <td>...</td>\n",
       "      <td>...</td>\n",
       "      <td>...</td>\n",
       "      <td>...</td>\n",
       "      <td>...</td>\n",
       "      <td>...</td>\n",
       "      <td>...</td>\n",
       "    </tr>\n",
       "    <tr>\n",
       "      <th>2022-06-24</th>\n",
       "      <td>141.66</td>\n",
       "      <td>141.53</td>\n",
       "      <td>97.78</td>\n",
       "      <td>67.08</td>\n",
       "      <td>117.32</td>\n",
       "      <td>267.70</td>\n",
       "      <td>245.71</td>\n",
       "      <td>123.72</td>\n",
       "    </tr>\n",
       "    <tr>\n",
       "      <th>2022-06-27</th>\n",
       "      <td>141.66</td>\n",
       "      <td>138.72</td>\n",
       "      <td>96.61</td>\n",
       "      <td>66.71</td>\n",
       "      <td>116.38</td>\n",
       "      <td>264.89</td>\n",
       "      <td>244.92</td>\n",
       "      <td>124.12</td>\n",
       "    </tr>\n",
       "    <tr>\n",
       "      <th>2022-06-28</th>\n",
       "      <td>137.44</td>\n",
       "      <td>138.70</td>\n",
       "      <td>95.92</td>\n",
       "      <td>65.88</td>\n",
       "      <td>115.82</td>\n",
       "      <td>256.48</td>\n",
       "      <td>232.66</td>\n",
       "      <td>122.37</td>\n",
       "    </tr>\n",
       "    <tr>\n",
       "      <th>2022-06-29</th>\n",
       "      <td>139.23</td>\n",
       "      <td>138.45</td>\n",
       "      <td>95.65</td>\n",
       "      <td>63.69</td>\n",
       "      <td>115.30</td>\n",
       "      <td>260.26</td>\n",
       "      <td>228.49</td>\n",
       "      <td>121.92</td>\n",
       "    </tr>\n",
       "    <tr>\n",
       "      <th>2022-06-30</th>\n",
       "      <td>136.72</td>\n",
       "      <td>136.72</td>\n",
       "      <td>94.40</td>\n",
       "      <td>63.67</td>\n",
       "      <td>112.61</td>\n",
       "      <td>256.83</td>\n",
       "      <td>224.47</td>\n",
       "      <td>121.58</td>\n",
       "    </tr>\n",
       "  </tbody>\n",
       "</table>\n",
       "<p>1258 rows × 8 columns</p>\n",
       "</div>"
      ],
      "text/plain": [
       "             AAPL     BA    DIS     GE    JPM   MSFT   TSLA    WMT\n",
       "Date                                                              \n",
       "2017-07-03  35.88 198.59 107.46 211.15  92.75  68.17  23.51  75.36\n",
       "2017-07-05  36.02 201.81 105.63 210.38  93.68  69.08  21.81  75.32\n",
       "2017-07-06  35.68 201.48 103.35 202.38  93.38  68.57  20.59  75.47\n",
       "2017-07-07  36.04 202.37 103.32 201.15  93.85  69.46  20.88  75.33\n",
       "2017-07-10  36.26 203.96 103.59 200.31  93.19  69.98  21.07  73.23\n",
       "...           ...    ...    ...    ...    ...    ...    ...    ...\n",
       "2022-06-24 141.66 141.53  97.78  67.08 117.32 267.70 245.71 123.72\n",
       "2022-06-27 141.66 138.72  96.61  66.71 116.38 264.89 244.92 124.12\n",
       "2022-06-28 137.44 138.70  95.92  65.88 115.82 256.48 232.66 122.37\n",
       "2022-06-29 139.23 138.45  95.65  63.69 115.30 260.26 228.49 121.92\n",
       "2022-06-30 136.72 136.72  94.40  63.67 112.61 256.83 224.47 121.58\n",
       "\n",
       "[1258 rows x 8 columns]"
      ]
     },
     "execution_count": 205,
     "metadata": {},
     "output_type": "execute_result"
    }
   ],
   "source": [
    "df = pd.read_csv(\"stocks.csv\", parse_dates = [\"Date\"], index_col = \"Date\")\n",
    "df"
   ]
  },
  {
   "cell_type": "code",
   "execution_count": 207,
   "metadata": {},
   "outputs": [],
   "source": [
    "assets = [\"WMT\", \"AAPL\", \"BA\"] # 3-Asset-Case\n",
    "#assets = df.columns"
   ]
  },
  {
   "cell_type": "code",
   "execution_count": 209,
   "metadata": {},
   "outputs": [
    {
     "data": {
      "text/html": [
       "<div>\n",
       "<style scoped>\n",
       "    .dataframe tbody tr th:only-of-type {\n",
       "        vertical-align: middle;\n",
       "    }\n",
       "\n",
       "    .dataframe tbody tr th {\n",
       "        vertical-align: top;\n",
       "    }\n",
       "\n",
       "    .dataframe thead th {\n",
       "        text-align: right;\n",
       "    }\n",
       "</style>\n",
       "<table border=\"1\" class=\"dataframe\">\n",
       "  <thead>\n",
       "    <tr style=\"text-align: right;\">\n",
       "      <th></th>\n",
       "      <th>WMT</th>\n",
       "      <th>AAPL</th>\n",
       "      <th>BA</th>\n",
       "    </tr>\n",
       "    <tr>\n",
       "      <th>Date</th>\n",
       "      <th></th>\n",
       "      <th></th>\n",
       "      <th></th>\n",
       "    </tr>\n",
       "  </thead>\n",
       "  <tbody>\n",
       "    <tr>\n",
       "      <th>2017-07-03</th>\n",
       "      <td>75.36</td>\n",
       "      <td>35.88</td>\n",
       "      <td>198.59</td>\n",
       "    </tr>\n",
       "    <tr>\n",
       "      <th>2017-07-05</th>\n",
       "      <td>75.32</td>\n",
       "      <td>36.02</td>\n",
       "      <td>201.81</td>\n",
       "    </tr>\n",
       "    <tr>\n",
       "      <th>2017-07-06</th>\n",
       "      <td>75.47</td>\n",
       "      <td>35.68</td>\n",
       "      <td>201.48</td>\n",
       "    </tr>\n",
       "    <tr>\n",
       "      <th>2017-07-07</th>\n",
       "      <td>75.33</td>\n",
       "      <td>36.04</td>\n",
       "      <td>202.37</td>\n",
       "    </tr>\n",
       "    <tr>\n",
       "      <th>2017-07-10</th>\n",
       "      <td>73.23</td>\n",
       "      <td>36.26</td>\n",
       "      <td>203.96</td>\n",
       "    </tr>\n",
       "    <tr>\n",
       "      <th>...</th>\n",
       "      <td>...</td>\n",
       "      <td>...</td>\n",
       "      <td>...</td>\n",
       "    </tr>\n",
       "    <tr>\n",
       "      <th>2022-06-24</th>\n",
       "      <td>123.72</td>\n",
       "      <td>141.66</td>\n",
       "      <td>141.53</td>\n",
       "    </tr>\n",
       "    <tr>\n",
       "      <th>2022-06-27</th>\n",
       "      <td>124.12</td>\n",
       "      <td>141.66</td>\n",
       "      <td>138.72</td>\n",
       "    </tr>\n",
       "    <tr>\n",
       "      <th>2022-06-28</th>\n",
       "      <td>122.37</td>\n",
       "      <td>137.44</td>\n",
       "      <td>138.70</td>\n",
       "    </tr>\n",
       "    <tr>\n",
       "      <th>2022-06-29</th>\n",
       "      <td>121.92</td>\n",
       "      <td>139.23</td>\n",
       "      <td>138.45</td>\n",
       "    </tr>\n",
       "    <tr>\n",
       "      <th>2022-06-30</th>\n",
       "      <td>121.58</td>\n",
       "      <td>136.72</td>\n",
       "      <td>136.72</td>\n",
       "    </tr>\n",
       "  </tbody>\n",
       "</table>\n",
       "<p>1258 rows × 3 columns</p>\n",
       "</div>"
      ],
      "text/plain": [
       "              WMT   AAPL     BA\n",
       "Date                           \n",
       "2017-07-03  75.36  35.88 198.59\n",
       "2017-07-05  75.32  36.02 201.81\n",
       "2017-07-06  75.47  35.68 201.48\n",
       "2017-07-07  75.33  36.04 202.37\n",
       "2017-07-10  73.23  36.26 203.96\n",
       "...           ...    ...    ...\n",
       "2022-06-24 123.72 141.66 141.53\n",
       "2022-06-27 124.12 141.66 138.72\n",
       "2022-06-28 122.37 137.44 138.70\n",
       "2022-06-29 121.92 139.23 138.45\n",
       "2022-06-30 121.58 136.72 136.72\n",
       "\n",
       "[1258 rows x 3 columns]"
      ]
     },
     "execution_count": 209,
     "metadata": {},
     "output_type": "execute_result"
    }
   ],
   "source": [
    "subset = df[assets].copy()\n",
    "subset"
   ]
  },
  {
   "cell_type": "code",
   "execution_count": 211,
   "metadata": {},
   "outputs": [
    {
     "data": {
      "text/html": [
       "<div>\n",
       "<style scoped>\n",
       "    .dataframe tbody tr th:only-of-type {\n",
       "        vertical-align: middle;\n",
       "    }\n",
       "\n",
       "    .dataframe tbody tr th {\n",
       "        vertical-align: top;\n",
       "    }\n",
       "\n",
       "    .dataframe thead th {\n",
       "        text-align: right;\n",
       "    }\n",
       "</style>\n",
       "<table border=\"1\" class=\"dataframe\">\n",
       "  <thead>\n",
       "    <tr style=\"text-align: right;\">\n",
       "      <th></th>\n",
       "      <th>WMT</th>\n",
       "      <th>AAPL</th>\n",
       "      <th>BA</th>\n",
       "    </tr>\n",
       "    <tr>\n",
       "      <th>Date</th>\n",
       "      <th></th>\n",
       "      <th></th>\n",
       "      <th></th>\n",
       "    </tr>\n",
       "  </thead>\n",
       "  <tbody>\n",
       "    <tr>\n",
       "      <th>2017-07-03</th>\n",
       "      <td>NaN</td>\n",
       "      <td>NaN</td>\n",
       "      <td>NaN</td>\n",
       "    </tr>\n",
       "    <tr>\n",
       "      <th>2017-07-05</th>\n",
       "      <td>-0.00</td>\n",
       "      <td>0.00</td>\n",
       "      <td>0.02</td>\n",
       "    </tr>\n",
       "    <tr>\n",
       "      <th>2017-07-06</th>\n",
       "      <td>0.00</td>\n",
       "      <td>-0.01</td>\n",
       "      <td>-0.00</td>\n",
       "    </tr>\n",
       "    <tr>\n",
       "      <th>2017-07-07</th>\n",
       "      <td>-0.00</td>\n",
       "      <td>0.01</td>\n",
       "      <td>0.00</td>\n",
       "    </tr>\n",
       "    <tr>\n",
       "      <th>2017-07-10</th>\n",
       "      <td>-0.03</td>\n",
       "      <td>0.01</td>\n",
       "      <td>0.01</td>\n",
       "    </tr>\n",
       "    <tr>\n",
       "      <th>...</th>\n",
       "      <td>...</td>\n",
       "      <td>...</td>\n",
       "      <td>...</td>\n",
       "    </tr>\n",
       "    <tr>\n",
       "      <th>2022-06-24</th>\n",
       "      <td>0.00</td>\n",
       "      <td>0.02</td>\n",
       "      <td>0.06</td>\n",
       "    </tr>\n",
       "    <tr>\n",
       "      <th>2022-06-27</th>\n",
       "      <td>0.00</td>\n",
       "      <td>0.00</td>\n",
       "      <td>-0.02</td>\n",
       "    </tr>\n",
       "    <tr>\n",
       "      <th>2022-06-28</th>\n",
       "      <td>-0.01</td>\n",
       "      <td>-0.03</td>\n",
       "      <td>-0.00</td>\n",
       "    </tr>\n",
       "    <tr>\n",
       "      <th>2022-06-29</th>\n",
       "      <td>-0.00</td>\n",
       "      <td>0.01</td>\n",
       "      <td>-0.00</td>\n",
       "    </tr>\n",
       "    <tr>\n",
       "      <th>2022-06-30</th>\n",
       "      <td>-0.00</td>\n",
       "      <td>-0.02</td>\n",
       "      <td>-0.01</td>\n",
       "    </tr>\n",
       "  </tbody>\n",
       "</table>\n",
       "<p>1258 rows × 3 columns</p>\n",
       "</div>"
      ],
      "text/plain": [
       "             WMT  AAPL    BA\n",
       "Date                        \n",
       "2017-07-03   NaN   NaN   NaN\n",
       "2017-07-05 -0.00  0.00  0.02\n",
       "2017-07-06  0.00 -0.01 -0.00\n",
       "2017-07-07 -0.00  0.01  0.00\n",
       "2017-07-10 -0.03  0.01  0.01\n",
       "...          ...   ...   ...\n",
       "2022-06-24  0.00  0.02  0.06\n",
       "2022-06-27  0.00  0.00 -0.02\n",
       "2022-06-28 -0.01 -0.03 -0.00\n",
       "2022-06-29 -0.00  0.01 -0.00\n",
       "2022-06-30 -0.00 -0.02 -0.01\n",
       "\n",
       "[1258 rows x 3 columns]"
      ]
     },
     "execution_count": 211,
     "metadata": {},
     "output_type": "execute_result"
    }
   ],
   "source": [
    "returns = subset.pct_change()\n",
    "returns"
   ]
  },
  {
   "cell_type": "code",
   "execution_count": 213,
   "metadata": {},
   "outputs": [],
   "source": [
    "def ann_risk_return(returns_df): # assumes simple returns as input\n",
    "    summary = pd.DataFrame(index = returns_df.columns)\n",
    "    summary[\"ann. Risk\"] = returns_df.std() * np.sqrt(252)\n",
    "    log_returns = np.log(returns_df + 1)\n",
    "    summary[\"CAGR\"] = np.exp(log_returns.mean() * 252) - 1\n",
    "    return summary"
   ]
  },
  {
   "cell_type": "code",
   "execution_count": 215,
   "metadata": {},
   "outputs": [
    {
     "data": {
      "text/html": [
       "<div>\n",
       "<style scoped>\n",
       "    .dataframe tbody tr th:only-of-type {\n",
       "        vertical-align: middle;\n",
       "    }\n",
       "\n",
       "    .dataframe tbody tr th {\n",
       "        vertical-align: top;\n",
       "    }\n",
       "\n",
       "    .dataframe thead th {\n",
       "        text-align: right;\n",
       "    }\n",
       "</style>\n",
       "<table border=\"1\" class=\"dataframe\">\n",
       "  <thead>\n",
       "    <tr style=\"text-align: right;\">\n",
       "      <th></th>\n",
       "      <th>ann. Risk</th>\n",
       "      <th>CAGR</th>\n",
       "    </tr>\n",
       "  </thead>\n",
       "  <tbody>\n",
       "    <tr>\n",
       "      <th>WMT</th>\n",
       "      <td>0.23</td>\n",
       "      <td>0.10</td>\n",
       "    </tr>\n",
       "    <tr>\n",
       "      <th>AAPL</th>\n",
       "      <td>0.32</td>\n",
       "      <td>0.31</td>\n",
       "    </tr>\n",
       "    <tr>\n",
       "      <th>BA</th>\n",
       "      <td>0.50</td>\n",
       "      <td>-0.07</td>\n",
       "    </tr>\n",
       "  </tbody>\n",
       "</table>\n",
       "</div>"
      ],
      "text/plain": [
       "      ann. Risk  CAGR\n",
       "WMT        0.23  0.10\n",
       "AAPL       0.32  0.31\n",
       "BA         0.50 -0.07"
      ]
     },
     "execution_count": 215,
     "metadata": {},
     "output_type": "execute_result"
    }
   ],
   "source": [
    "summary = ann_risk_return(returns)\n",
    "summary"
   ]
  },
  {
   "cell_type": "code",
   "execution_count": 217,
   "metadata": {},
   "outputs": [
    {
     "data": {
      "text/html": [
       "<div>\n",
       "<style scoped>\n",
       "    .dataframe tbody tr th:only-of-type {\n",
       "        vertical-align: middle;\n",
       "    }\n",
       "\n",
       "    .dataframe tbody tr th {\n",
       "        vertical-align: top;\n",
       "    }\n",
       "\n",
       "    .dataframe thead th {\n",
       "        text-align: right;\n",
       "    }\n",
       "</style>\n",
       "<table border=\"1\" class=\"dataframe\">\n",
       "  <thead>\n",
       "    <tr style=\"text-align: right;\">\n",
       "      <th></th>\n",
       "      <th>WMT</th>\n",
       "      <th>AAPL</th>\n",
       "      <th>BA</th>\n",
       "    </tr>\n",
       "  </thead>\n",
       "  <tbody>\n",
       "    <tr>\n",
       "      <th>WMT</th>\n",
       "      <td>0.05</td>\n",
       "      <td>0.03</td>\n",
       "      <td>0.02</td>\n",
       "    </tr>\n",
       "    <tr>\n",
       "      <th>AAPL</th>\n",
       "      <td>0.03</td>\n",
       "      <td>0.10</td>\n",
       "      <td>0.07</td>\n",
       "    </tr>\n",
       "    <tr>\n",
       "      <th>BA</th>\n",
       "      <td>0.02</td>\n",
       "      <td>0.07</td>\n",
       "      <td>0.25</td>\n",
       "    </tr>\n",
       "  </tbody>\n",
       "</table>\n",
       "</div>"
      ],
      "text/plain": [
       "      WMT  AAPL   BA\n",
       "WMT  0.05  0.03 0.02\n",
       "AAPL 0.03  0.10 0.07\n",
       "BA   0.02  0.07 0.25"
      ]
     },
     "execution_count": 217,
     "metadata": {},
     "output_type": "execute_result"
    }
   ],
   "source": [
    "cov_matrix = returns.cov() * 252\n",
    "cov_matrix"
   ]
  },
  {
   "cell_type": "code",
   "execution_count": 219,
   "metadata": {},
   "outputs": [
    {
     "data": {
      "text/plain": [
       "3"
      ]
     },
     "execution_count": 219,
     "metadata": {},
     "output_type": "execute_result"
    }
   ],
   "source": [
    "noa = len(returns.columns) # number of assets\n",
    "noa"
   ]
  },
  {
   "cell_type": "code",
   "execution_count": 221,
   "metadata": {},
   "outputs": [
    {
     "data": {
      "text/plain": [
       "1000000"
      ]
     },
     "execution_count": 221,
     "metadata": {},
     "output_type": "execute_result"
    }
   ],
   "source": [
    "nop = 1000000 # number of random portfolios\n",
    "nop"
   ]
  },
  {
   "cell_type": "code",
   "execution_count": 223,
   "metadata": {},
   "outputs": [],
   "source": [
    "np.random.seed(123)\n",
    "matrix = np.random.random(noa * nop).reshape(nop, noa)"
   ]
  },
  {
   "cell_type": "code",
   "execution_count": 225,
   "metadata": {},
   "outputs": [
    {
     "data": {
      "text/plain": [
       "array([[0.69646919, 0.28613933, 0.22685145],\n",
       "       [0.55131477, 0.71946897, 0.42310646],\n",
       "       [0.9807642 , 0.68482974, 0.4809319 ],\n",
       "       ...,\n",
       "       [0.9440244 , 0.08957476, 0.31937574],\n",
       "       [0.84773167, 0.30084755, 0.01719894],\n",
       "       [0.05623912, 0.31624475, 0.08490701]])"
      ]
     },
     "execution_count": 225,
     "metadata": {},
     "output_type": "execute_result"
    }
   ],
   "source": [
    "matrix"
   ]
  },
  {
   "cell_type": "code",
   "execution_count": 227,
   "metadata": {},
   "outputs": [
    {
     "data": {
      "text/plain": [
       "array([[1.20945997],\n",
       "       [1.6938902 ],\n",
       "       [2.14652584],\n",
       "       ...,\n",
       "       [1.3529749 ],\n",
       "       [1.16577816],\n",
       "       [0.45739088]])"
      ]
     },
     "execution_count": 227,
     "metadata": {},
     "output_type": "execute_result"
    }
   ],
   "source": [
    "matrix.sum(axis = 1, keepdims= True)"
   ]
  },
  {
   "cell_type": "code",
   "execution_count": 229,
   "metadata": {},
   "outputs": [
    {
     "data": {
      "text/plain": [
       "array([[0.57585137, 0.23658438, 0.18756425],\n",
       "       [0.32547255, 0.42474357, 0.24978388],\n",
       "       [0.45690771, 0.31904099, 0.2240513 ],\n",
       "       ...,\n",
       "       [0.69773977, 0.06620578, 0.23605445],\n",
       "       [0.72718095, 0.25806587, 0.01475318],\n",
       "       [0.12295637, 0.69141027, 0.18563336]])"
      ]
     },
     "execution_count": 229,
     "metadata": {},
     "output_type": "execute_result"
    }
   ],
   "source": [
    "weights = matrix / matrix.sum(axis = 1, keepdims= True)\n",
    "weights"
   ]
  },
  {
   "cell_type": "code",
   "execution_count": 231,
   "metadata": {},
   "outputs": [
    {
     "data": {
      "text/html": [
       "<div>\n",
       "<style scoped>\n",
       "    .dataframe tbody tr th:only-of-type {\n",
       "        vertical-align: middle;\n",
       "    }\n",
       "\n",
       "    .dataframe tbody tr th {\n",
       "        vertical-align: top;\n",
       "    }\n",
       "\n",
       "    .dataframe thead th {\n",
       "        text-align: right;\n",
       "    }\n",
       "</style>\n",
       "<table border=\"1\" class=\"dataframe\">\n",
       "  <thead>\n",
       "    <tr style=\"text-align: right;\">\n",
       "      <th></th>\n",
       "      <th>ann. Risk</th>\n",
       "      <th>CAGR</th>\n",
       "    </tr>\n",
       "  </thead>\n",
       "  <tbody>\n",
       "    <tr>\n",
       "      <th>WMT</th>\n",
       "      <td>0.23</td>\n",
       "      <td>0.10</td>\n",
       "    </tr>\n",
       "    <tr>\n",
       "      <th>AAPL</th>\n",
       "      <td>0.32</td>\n",
       "      <td>0.31</td>\n",
       "    </tr>\n",
       "    <tr>\n",
       "      <th>BA</th>\n",
       "      <td>0.50</td>\n",
       "      <td>-0.07</td>\n",
       "    </tr>\n",
       "  </tbody>\n",
       "</table>\n",
       "</div>"
      ],
      "text/plain": [
       "      ann. Risk  CAGR\n",
       "WMT        0.23  0.10\n",
       "AAPL       0.32  0.31\n",
       "BA         0.50 -0.07"
      ]
     },
     "execution_count": 231,
     "metadata": {},
     "output_type": "execute_result"
    }
   ],
   "source": [
    "summary"
   ]
  },
  {
   "cell_type": "markdown",
   "metadata": {},
   "source": [
    "__one portfolio__"
   ]
  },
  {
   "cell_type": "code",
   "execution_count": 234,
   "metadata": {},
   "outputs": [
    {
     "data": {
      "text/plain": [
       "array([0.57585137, 0.23658438, 0.18756425])"
      ]
     },
     "execution_count": 234,
     "metadata": {},
     "output_type": "execute_result"
    }
   ],
   "source": [
    "w1 = weights[0]\n",
    "w1"
   ]
  },
  {
   "attachments": {
    "image-3.png": {
     "image/png": "[encoded data removed]"
    }
   },
   "cell_type": "markdown",
   "metadata": {},
   "source": [
    "![image-3.png](attachment:image-3.png)"
   ]
  },
  {
   "cell_type": "code",
   "execution_count": 237,
   "metadata": {},
   "outputs": [
    {
     "data": {
      "text/plain": [
       "0.1172068955439275"
      ]
     },
     "execution_count": 237,
     "metadata": {},
     "output_type": "execute_result"
    }
   ],
   "source": [
    "# Linear Algebra\n",
    "ret1 = summary.CAGR.dot(w1)\n",
    "ret1"
   ]
  },
  {
   "attachments": {
    "image.png": {
     "image/png": "[encoded data removed]"
    }
   },
   "cell_type": "markdown",
   "metadata": {},
   "source": [
    "![image.png](attachment:image.png)"
   ]
  },
  {
   "cell_type": "code",
   "execution_count": 240,
   "metadata": {},
   "outputs": [
    {
     "data": {
      "text/plain": [
       "0.2222749977646481"
      ]
     },
     "execution_count": 240,
     "metadata": {},
     "output_type": "execute_result"
    }
   ],
   "source": [
    "# Linear Algebra\n",
    "risk1 =  np.sqrt((w1.dot(cov_matrix).dot(w1)))  # first one is to find the intermediate vector\n",
    "risk1"
   ]
  },
  {
   "cell_type": "code",
   "execution_count": 242,
   "metadata": {},
   "outputs": [
    {
     "data": {
      "text/html": [
       "<div>\n",
       "<style scoped>\n",
       "    .dataframe tbody tr th:only-of-type {\n",
       "        vertical-align: middle;\n",
       "    }\n",
       "\n",
       "    .dataframe tbody tr th {\n",
       "        vertical-align: top;\n",
       "    }\n",
       "\n",
       "    .dataframe thead th {\n",
       "        text-align: right;\n",
       "    }\n",
       "</style>\n",
       "<table border=\"1\" class=\"dataframe\">\n",
       "  <thead>\n",
       "    <tr style=\"text-align: right;\">\n",
       "      <th></th>\n",
       "      <th>WMT</th>\n",
       "      <th>AAPL</th>\n",
       "      <th>BA</th>\n",
       "    </tr>\n",
       "  </thead>\n",
       "  <tbody>\n",
       "    <tr>\n",
       "      <th>WMT</th>\n",
       "      <td>0.05</td>\n",
       "      <td>0.03</td>\n",
       "      <td>0.02</td>\n",
       "    </tr>\n",
       "    <tr>\n",
       "      <th>AAPL</th>\n",
       "      <td>0.03</td>\n",
       "      <td>0.10</td>\n",
       "      <td>0.07</td>\n",
       "    </tr>\n",
       "    <tr>\n",
       "      <th>BA</th>\n",
       "      <td>0.02</td>\n",
       "      <td>0.07</td>\n",
       "      <td>0.25</td>\n",
       "    </tr>\n",
       "  </tbody>\n",
       "</table>\n",
       "</div>"
      ],
      "text/plain": [
       "      WMT  AAPL   BA\n",
       "WMT  0.05  0.03 0.02\n",
       "AAPL 0.03  0.10 0.07\n",
       "BA   0.02  0.07 0.25"
      ]
     },
     "execution_count": 242,
     "metadata": {},
     "output_type": "execute_result"
    }
   ],
   "source": [
    "cov_matrix"
   ]
  },
  {
   "cell_type": "markdown",
   "metadata": {},
   "source": [
    "__multiple portfolios__"
   ]
  },
  {
   "cell_type": "code",
   "execution_count": 245,
   "metadata": {},
   "outputs": [
    {
     "data": {
      "text/plain": [
       "array([0.1172069 , 0.14540715, 0.12797223, ..., 0.07356282, 0.15150538,\n",
       "       0.21168772])"
      ]
     },
     "execution_count": 245,
     "metadata": {},
     "output_type": "execute_result"
    }
   ],
   "source": [
    "port_ret = summary.CAGR.dot(weights.T)\n",
    "port_ret"
   ]
  },
  {
   "cell_type": "code",
   "execution_count": 246,
   "metadata": {},
   "outputs": [
    {
     "data": {
      "text/plain": [
       "array([0.222275  , 0.2534906 , 0.23493943, ..., 0.22574807, 0.2144176 ,\n",
       "       0.28481687])"
      ]
     },
     "execution_count": 246,
     "metadata": {},
     "output_type": "execute_result"
    }
   ],
   "source": [
    "port_risk = np.sqrt((weights.dot(cov_matrix) * weights).sum(axis = 1))\n",
    "port_risk"
   ]
  },
  {
   "cell_type": "code",
   "execution_count": 248,
   "metadata": {},
   "outputs": [
    {
     "data": {
      "image/png": "[encoded data removed]",
      "text/plain": [
       "<Figure size 1500x900 with 1 Axes>"
      ]
     },
     "metadata": {},
     "output_type": "display_data"
    }
   ],
   "source": [
    "plt.figure(figsize = (15, 9))\n",
    "plt.scatter(port_risk, port_ret, s= 5, color = \"red\")\n",
    "plt.scatter(summary.loc[:, \"ann. Risk\"], summary.loc[:, \"CAGR\"], s= 20, color = \"black\", marker = \"D\")\n",
    "for i in summary.index:\n",
    "    plt.annotate(i, xy=(summary.loc[i, \"ann. Risk\"]+0.0005, summary.loc[i, \"CAGR\"]+0.0005), size = 15)\n",
    "plt.xlabel(\"ann. Risk (std)\", fontsize = 15)\n",
    "plt.ylabel(\"Returns\", fontsize = 15)\n",
    "plt.title(\"Risk/Return\", fontsize = 20)\n",
    "plt.show()"
   ]
  },
  {
   "cell_type": "code",
   "execution_count": null,
   "metadata": {},
   "outputs": [],
   "source": []
  },
  {
   "cell_type": "markdown",
   "metadata": {},
   "source": [
    "## Forward-looking Optimization"
   ]
  },
  {
   "cell_type": "markdown",
   "metadata": {},
   "source": [
    "__Challenge__: We need to __forecast__ inputs like __Covariance Matrix__ and __Returns__"
   ]
  },
  {
   "cell_type": "markdown",
   "metadata": {},
   "source": [
    "__Simple Solution__: Use __past__ Covariance Matrix and Returns"
   ]
  },
  {
   "cell_type": "markdown",
   "metadata": {},
   "source": [
    "__Problem__: Past performance is __not a (good) indicator__ for future performance (in particular Returns)"
   ]
  },
  {
   "cell_type": "markdown",
   "metadata": {},
   "source": [
    "__Solution__:<br>\n",
    "- using past Coveriance Matrix or variants of it (e.g. shrinkage) is widely accepted <br>\n",
    "- using past Returns is not accepted (see pitfalls)\n",
    "    "
   ]
  },
  {
   "cell_type": "markdown",
   "metadata": {},
   "source": [
    "__Optimization Tools__:"
   ]
  },
  {
   "cell_type": "markdown",
   "metadata": {},
   "source": [
    "We can, again, use __scipy optimizer__ (numerical/iterative optimization) or..."
   ]
  },
  {
   "cell_type": "markdown",
   "metadata": {},
   "source": [
    "__Unbounded Optimization with Linear Algebra (formula based)__"
   ]
  },
  {
   "cell_type": "code",
   "execution_count": 260,
   "metadata": {},
   "outputs": [],
   "source": [
    "import pandas as pd\n",
    "import numpy as np\n",
    "import matplotlib.pyplot as plt\n",
    "pd.options.display.float_format = '{:.6f}'.format"
   ]
  },
  {
   "cell_type": "code",
   "execution_count": 262,
   "metadata": {},
   "outputs": [
    {
     "data": {
      "text/html": [
       "<div>\n",
       "<style scoped>\n",
       "    .dataframe tbody tr th:only-of-type {\n",
       "        vertical-align: middle;\n",
       "    }\n",
       "\n",
       "    .dataframe tbody tr th {\n",
       "        vertical-align: top;\n",
       "    }\n",
       "\n",
       "    .dataframe thead th {\n",
       "        text-align: right;\n",
       "    }\n",
       "</style>\n",
       "<table border=\"1\" class=\"dataframe\">\n",
       "  <thead>\n",
       "    <tr style=\"text-align: right;\">\n",
       "      <th></th>\n",
       "      <th>AAPL</th>\n",
       "      <th>BA</th>\n",
       "      <th>DIS</th>\n",
       "      <th>GE</th>\n",
       "      <th>JPM</th>\n",
       "      <th>MSFT</th>\n",
       "      <th>TSLA</th>\n",
       "      <th>WMT</th>\n",
       "    </tr>\n",
       "    <tr>\n",
       "      <th>Date</th>\n",
       "      <th></th>\n",
       "      <th></th>\n",
       "      <th></th>\n",
       "      <th></th>\n",
       "      <th></th>\n",
       "      <th></th>\n",
       "      <th></th>\n",
       "      <th></th>\n",
       "    </tr>\n",
       "  </thead>\n",
       "  <tbody>\n",
       "    <tr>\n",
       "      <th>2017-07-03</th>\n",
       "      <td>35.875000</td>\n",
       "      <td>198.589996</td>\n",
       "      <td>107.459999</td>\n",
       "      <td>211.153839</td>\n",
       "      <td>92.750000</td>\n",
       "      <td>68.169998</td>\n",
       "      <td>23.507999</td>\n",
       "      <td>75.360001</td>\n",
       "    </tr>\n",
       "    <tr>\n",
       "      <th>2017-07-05</th>\n",
       "      <td>36.022499</td>\n",
       "      <td>201.809998</td>\n",
       "      <td>105.629997</td>\n",
       "      <td>210.384613</td>\n",
       "      <td>93.680000</td>\n",
       "      <td>69.080002</td>\n",
       "      <td>21.806000</td>\n",
       "      <td>75.320000</td>\n",
       "    </tr>\n",
       "    <tr>\n",
       "      <th>2017-07-06</th>\n",
       "      <td>35.682499</td>\n",
       "      <td>201.479996</td>\n",
       "      <td>103.349998</td>\n",
       "      <td>202.384613</td>\n",
       "      <td>93.379997</td>\n",
       "      <td>68.570000</td>\n",
       "      <td>20.588667</td>\n",
       "      <td>75.470001</td>\n",
       "    </tr>\n",
       "    <tr>\n",
       "      <th>2017-07-07</th>\n",
       "      <td>36.044998</td>\n",
       "      <td>202.369995</td>\n",
       "      <td>103.320000</td>\n",
       "      <td>201.153839</td>\n",
       "      <td>93.849998</td>\n",
       "      <td>69.459999</td>\n",
       "      <td>20.881332</td>\n",
       "      <td>75.330002</td>\n",
       "    </tr>\n",
       "    <tr>\n",
       "      <th>2017-07-10</th>\n",
       "      <td>36.264999</td>\n",
       "      <td>203.960007</td>\n",
       "      <td>103.589996</td>\n",
       "      <td>200.307693</td>\n",
       "      <td>93.190002</td>\n",
       "      <td>69.980003</td>\n",
       "      <td>21.070000</td>\n",
       "      <td>73.230003</td>\n",
       "    </tr>\n",
       "    <tr>\n",
       "      <th>...</th>\n",
       "      <td>...</td>\n",
       "      <td>...</td>\n",
       "      <td>...</td>\n",
       "      <td>...</td>\n",
       "      <td>...</td>\n",
       "      <td>...</td>\n",
       "      <td>...</td>\n",
       "      <td>...</td>\n",
       "    </tr>\n",
       "    <tr>\n",
       "      <th>2022-06-24</th>\n",
       "      <td>141.660004</td>\n",
       "      <td>141.529999</td>\n",
       "      <td>97.779999</td>\n",
       "      <td>67.080002</td>\n",
       "      <td>117.320000</td>\n",
       "      <td>267.700012</td>\n",
       "      <td>245.706665</td>\n",
       "      <td>123.720001</td>\n",
       "    </tr>\n",
       "    <tr>\n",
       "      <th>2022-06-27</th>\n",
       "      <td>141.660004</td>\n",
       "      <td>138.720001</td>\n",
       "      <td>96.610001</td>\n",
       "      <td>66.709999</td>\n",
       "      <td>116.379997</td>\n",
       "      <td>264.890015</td>\n",
       "      <td>244.919998</td>\n",
       "      <td>124.120003</td>\n",
       "    </tr>\n",
       "    <tr>\n",
       "      <th>2022-06-28</th>\n",
       "      <td>137.440002</td>\n",
       "      <td>138.699997</td>\n",
       "      <td>95.919998</td>\n",
       "      <td>65.879997</td>\n",
       "      <td>115.820000</td>\n",
       "      <td>256.480011</td>\n",
       "      <td>232.663330</td>\n",
       "      <td>122.370003</td>\n",
       "    </tr>\n",
       "    <tr>\n",
       "      <th>2022-06-29</th>\n",
       "      <td>139.229996</td>\n",
       "      <td>138.449997</td>\n",
       "      <td>95.650002</td>\n",
       "      <td>63.689999</td>\n",
       "      <td>115.300003</td>\n",
       "      <td>260.260010</td>\n",
       "      <td>228.490005</td>\n",
       "      <td>121.919998</td>\n",
       "    </tr>\n",
       "    <tr>\n",
       "      <th>2022-06-30</th>\n",
       "      <td>136.720001</td>\n",
       "      <td>136.720001</td>\n",
       "      <td>94.400002</td>\n",
       "      <td>63.669998</td>\n",
       "      <td>112.610001</td>\n",
       "      <td>256.829987</td>\n",
       "      <td>224.473328</td>\n",
       "      <td>121.580002</td>\n",
       "    </tr>\n",
       "  </tbody>\n",
       "</table>\n",
       "<p>1258 rows × 8 columns</p>\n",
       "</div>"
      ],
      "text/plain": [
       "                 AAPL         BA        DIS         GE        JPM       MSFT  \\\n",
       "Date                                                                           \n",
       "2017-07-03  35.875000 198.589996 107.459999 211.153839  92.750000  68.169998   \n",
       "2017-07-05  36.022499 201.809998 105.629997 210.384613  93.680000  69.080002   \n",
       "2017-07-06  35.682499 201.479996 103.349998 202.384613  93.379997  68.570000   \n",
       "2017-07-07  36.044998 202.369995 103.320000 201.153839  93.849998  69.459999   \n",
       "2017-07-10  36.264999 203.960007 103.589996 200.307693  93.190002  69.980003   \n",
       "...               ...        ...        ...        ...        ...        ...   \n",
       "2022-06-24 141.660004 141.529999  97.779999  67.080002 117.320000 267.700012   \n",
       "2022-06-27 141.660004 138.720001  96.610001  66.709999 116.379997 264.890015   \n",
       "2022-06-28 137.440002 138.699997  95.919998  65.879997 115.820000 256.480011   \n",
       "2022-06-29 139.229996 138.449997  95.650002  63.689999 115.300003 260.260010   \n",
       "2022-06-30 136.720001 136.720001  94.400002  63.669998 112.610001 256.829987   \n",
       "\n",
       "                 TSLA        WMT  \n",
       "Date                              \n",
       "2017-07-03  23.507999  75.360001  \n",
       "2017-07-05  21.806000  75.320000  \n",
       "2017-07-06  20.588667  75.470001  \n",
       "2017-07-07  20.881332  75.330002  \n",
       "2017-07-10  21.070000  73.230003  \n",
       "...               ...        ...  \n",
       "2022-06-24 245.706665 123.720001  \n",
       "2022-06-27 244.919998 124.120003  \n",
       "2022-06-28 232.663330 122.370003  \n",
       "2022-06-29 228.490005 121.919998  \n",
       "2022-06-30 224.473328 121.580002  \n",
       "\n",
       "[1258 rows x 8 columns]"
      ]
     },
     "execution_count": 262,
     "metadata": {},
     "output_type": "execute_result"
    }
   ],
   "source": [
    "df = pd.read_csv(\"stocks.csv\", parse_dates = [\"Date\"], index_col = \"Date\")\n",
    "df"
   ]
  },
  {
   "cell_type": "code",
   "execution_count": 264,
   "metadata": {},
   "outputs": [],
   "source": [
    "assets = [\"WMT\", \"AAPL\", \"MSFT\"] # 3-Asset-Case\n",
    "#assets = df.columns"
   ]
  },
  {
   "cell_type": "code",
   "execution_count": 266,
   "metadata": {},
   "outputs": [
    {
     "data": {
      "text/html": [
       "<div>\n",
       "<style scoped>\n",
       "    .dataframe tbody tr th:only-of-type {\n",
       "        vertical-align: middle;\n",
       "    }\n",
       "\n",
       "    .dataframe tbody tr th {\n",
       "        vertical-align: top;\n",
       "    }\n",
       "\n",
       "    .dataframe thead th {\n",
       "        text-align: right;\n",
       "    }\n",
       "</style>\n",
       "<table border=\"1\" class=\"dataframe\">\n",
       "  <thead>\n",
       "    <tr style=\"text-align: right;\">\n",
       "      <th></th>\n",
       "      <th>WMT</th>\n",
       "      <th>AAPL</th>\n",
       "      <th>MSFT</th>\n",
       "    </tr>\n",
       "    <tr>\n",
       "      <th>Date</th>\n",
       "      <th></th>\n",
       "      <th></th>\n",
       "      <th></th>\n",
       "    </tr>\n",
       "  </thead>\n",
       "  <tbody>\n",
       "    <tr>\n",
       "      <th>2017-07-03</th>\n",
       "      <td>75.360001</td>\n",
       "      <td>35.875000</td>\n",
       "      <td>68.169998</td>\n",
       "    </tr>\n",
       "    <tr>\n",
       "      <th>2017-07-05</th>\n",
       "      <td>75.320000</td>\n",
       "      <td>36.022499</td>\n",
       "      <td>69.080002</td>\n",
       "    </tr>\n",
       "    <tr>\n",
       "      <th>2017-07-06</th>\n",
       "      <td>75.470001</td>\n",
       "      <td>35.682499</td>\n",
       "      <td>68.570000</td>\n",
       "    </tr>\n",
       "    <tr>\n",
       "      <th>2017-07-07</th>\n",
       "      <td>75.330002</td>\n",
       "      <td>36.044998</td>\n",
       "      <td>69.459999</td>\n",
       "    </tr>\n",
       "    <tr>\n",
       "      <th>2017-07-10</th>\n",
       "      <td>73.230003</td>\n",
       "      <td>36.264999</td>\n",
       "      <td>69.980003</td>\n",
       "    </tr>\n",
       "    <tr>\n",
       "      <th>...</th>\n",
       "      <td>...</td>\n",
       "      <td>...</td>\n",
       "      <td>...</td>\n",
       "    </tr>\n",
       "    <tr>\n",
       "      <th>2022-06-24</th>\n",
       "      <td>123.720001</td>\n",
       "      <td>141.660004</td>\n",
       "      <td>267.700012</td>\n",
       "    </tr>\n",
       "    <tr>\n",
       "      <th>2022-06-27</th>\n",
       "      <td>124.120003</td>\n",
       "      <td>141.660004</td>\n",
       "      <td>264.890015</td>\n",
       "    </tr>\n",
       "    <tr>\n",
       "      <th>2022-06-28</th>\n",
       "      <td>122.370003</td>\n",
       "      <td>137.440002</td>\n",
       "      <td>256.480011</td>\n",
       "    </tr>\n",
       "    <tr>\n",
       "      <th>2022-06-29</th>\n",
       "      <td>121.919998</td>\n",
       "      <td>139.229996</td>\n",
       "      <td>260.260010</td>\n",
       "    </tr>\n",
       "    <tr>\n",
       "      <th>2022-06-30</th>\n",
       "      <td>121.580002</td>\n",
       "      <td>136.720001</td>\n",
       "      <td>256.829987</td>\n",
       "    </tr>\n",
       "  </tbody>\n",
       "</table>\n",
       "<p>1258 rows × 3 columns</p>\n",
       "</div>"
      ],
      "text/plain": [
       "                  WMT       AAPL       MSFT\n",
       "Date                                       \n",
       "2017-07-03  75.360001  35.875000  68.169998\n",
       "2017-07-05  75.320000  36.022499  69.080002\n",
       "2017-07-06  75.470001  35.682499  68.570000\n",
       "2017-07-07  75.330002  36.044998  69.459999\n",
       "2017-07-10  73.230003  36.264999  69.980003\n",
       "...               ...        ...        ...\n",
       "2022-06-24 123.720001 141.660004 267.700012\n",
       "2022-06-27 124.120003 141.660004 264.890015\n",
       "2022-06-28 122.370003 137.440002 256.480011\n",
       "2022-06-29 121.919998 139.229996 260.260010\n",
       "2022-06-30 121.580002 136.720001 256.829987\n",
       "\n",
       "[1258 rows x 3 columns]"
      ]
     },
     "execution_count": 266,
     "metadata": {},
     "output_type": "execute_result"
    }
   ],
   "source": [
    "subset = df[assets].copy()\n",
    "subset"
   ]
  },
  {
   "cell_type": "code",
   "execution_count": 268,
   "metadata": {},
   "outputs": [
    {
     "data": {
      "text/html": [
       "<div>\n",
       "<style scoped>\n",
       "    .dataframe tbody tr th:only-of-type {\n",
       "        vertical-align: middle;\n",
       "    }\n",
       "\n",
       "    .dataframe tbody tr th {\n",
       "        vertical-align: top;\n",
       "    }\n",
       "\n",
       "    .dataframe thead th {\n",
       "        text-align: right;\n",
       "    }\n",
       "</style>\n",
       "<table border=\"1\" class=\"dataframe\">\n",
       "  <thead>\n",
       "    <tr style=\"text-align: right;\">\n",
       "      <th></th>\n",
       "      <th>WMT</th>\n",
       "      <th>AAPL</th>\n",
       "      <th>MSFT</th>\n",
       "    </tr>\n",
       "    <tr>\n",
       "      <th>Date</th>\n",
       "      <th></th>\n",
       "      <th></th>\n",
       "      <th></th>\n",
       "    </tr>\n",
       "  </thead>\n",
       "  <tbody>\n",
       "    <tr>\n",
       "      <th>2017-07-03</th>\n",
       "      <td>NaN</td>\n",
       "      <td>NaN</td>\n",
       "      <td>NaN</td>\n",
       "    </tr>\n",
       "    <tr>\n",
       "      <th>2017-07-05</th>\n",
       "      <td>-0.000531</td>\n",
       "      <td>0.004111</td>\n",
       "      <td>0.013349</td>\n",
       "    </tr>\n",
       "    <tr>\n",
       "      <th>2017-07-06</th>\n",
       "      <td>0.001992</td>\n",
       "      <td>-0.009439</td>\n",
       "      <td>-0.007383</td>\n",
       "    </tr>\n",
       "    <tr>\n",
       "      <th>2017-07-07</th>\n",
       "      <td>-0.001855</td>\n",
       "      <td>0.010159</td>\n",
       "      <td>0.012979</td>\n",
       "    </tr>\n",
       "    <tr>\n",
       "      <th>2017-07-10</th>\n",
       "      <td>-0.027877</td>\n",
       "      <td>0.006104</td>\n",
       "      <td>0.007486</td>\n",
       "    </tr>\n",
       "    <tr>\n",
       "      <th>...</th>\n",
       "      <td>...</td>\n",
       "      <td>...</td>\n",
       "      <td>...</td>\n",
       "    </tr>\n",
       "    <tr>\n",
       "      <th>2022-06-24</th>\n",
       "      <td>0.000809</td>\n",
       "      <td>0.024517</td>\n",
       "      <td>0.034150</td>\n",
       "    </tr>\n",
       "    <tr>\n",
       "      <th>2022-06-27</th>\n",
       "      <td>0.003233</td>\n",
       "      <td>0.000000</td>\n",
       "      <td>-0.010497</td>\n",
       "    </tr>\n",
       "    <tr>\n",
       "      <th>2022-06-28</th>\n",
       "      <td>-0.014099</td>\n",
       "      <td>-0.029790</td>\n",
       "      <td>-0.031749</td>\n",
       "    </tr>\n",
       "    <tr>\n",
       "      <th>2022-06-29</th>\n",
       "      <td>-0.003677</td>\n",
       "      <td>0.013024</td>\n",
       "      <td>0.014738</td>\n",
       "    </tr>\n",
       "    <tr>\n",
       "      <th>2022-06-30</th>\n",
       "      <td>-0.002789</td>\n",
       "      <td>-0.018028</td>\n",
       "      <td>-0.013179</td>\n",
       "    </tr>\n",
       "  </tbody>\n",
       "</table>\n",
       "<p>1258 rows × 3 columns</p>\n",
       "</div>"
      ],
      "text/plain": [
       "                 WMT      AAPL      MSFT\n",
       "Date                                    \n",
       "2017-07-03       NaN       NaN       NaN\n",
       "2017-07-05 -0.000531  0.004111  0.013349\n",
       "2017-07-06  0.001992 -0.009439 -0.007383\n",
       "2017-07-07 -0.001855  0.010159  0.012979\n",
       "2017-07-10 -0.027877  0.006104  0.007486\n",
       "...              ...       ...       ...\n",
       "2022-06-24  0.000809  0.024517  0.034150\n",
       "2022-06-27  0.003233  0.000000 -0.010497\n",
       "2022-06-28 -0.014099 -0.029790 -0.031749\n",
       "2022-06-29 -0.003677  0.013024  0.014738\n",
       "2022-06-30 -0.002789 -0.018028 -0.013179\n",
       "\n",
       "[1258 rows x 3 columns]"
      ]
     },
     "execution_count": 268,
     "metadata": {},
     "output_type": "execute_result"
    }
   ],
   "source": [
    "returns = subset.pct_change()\n",
    "returns"
   ]
  },
  {
   "cell_type": "code",
   "execution_count": 270,
   "metadata": {},
   "outputs": [],
   "source": [
    "def ann_risk_return(returns_df): # assumes simple returns as input\n",
    "    summary = pd.DataFrame(index = returns_df.columns)\n",
    "    summary[\"ann. Risk\"] = returns_df.std() * np.sqrt(252)\n",
    "    log_returns = np.log(returns_df + 1)\n",
    "    summary[\"CAGR\"] = np.exp(log_returns.mean() * 252) - 1\n",
    "    return summary"
   ]
  },
  {
   "cell_type": "code",
   "execution_count": 272,
   "metadata": {},
   "outputs": [
    {
     "data": {
      "text/html": [
       "<div>\n",
       "<style scoped>\n",
       "    .dataframe tbody tr th:only-of-type {\n",
       "        vertical-align: middle;\n",
       "    }\n",
       "\n",
       "    .dataframe tbody tr th {\n",
       "        vertical-align: top;\n",
       "    }\n",
       "\n",
       "    .dataframe thead th {\n",
       "        text-align: right;\n",
       "    }\n",
       "</style>\n",
       "<table border=\"1\" class=\"dataframe\">\n",
       "  <thead>\n",
       "    <tr style=\"text-align: right;\">\n",
       "      <th></th>\n",
       "      <th>ann. Risk</th>\n",
       "      <th>CAGR</th>\n",
       "    </tr>\n",
       "  </thead>\n",
       "  <tbody>\n",
       "    <tr>\n",
       "      <th>WMT</th>\n",
       "      <td>0.231063</td>\n",
       "      <td>0.100635</td>\n",
       "    </tr>\n",
       "    <tr>\n",
       "      <th>AAPL</th>\n",
       "      <td>0.320728</td>\n",
       "      <td>0.307632</td>\n",
       "    </tr>\n",
       "    <tr>\n",
       "      <th>MSFT</th>\n",
       "      <td>0.294188</td>\n",
       "      <td>0.304624</td>\n",
       "    </tr>\n",
       "  </tbody>\n",
       "</table>\n",
       "</div>"
      ],
      "text/plain": [
       "      ann. Risk     CAGR\n",
       "WMT    0.231063 0.100635\n",
       "AAPL   0.320728 0.307632\n",
       "MSFT   0.294188 0.304624"
      ]
     },
     "execution_count": 272,
     "metadata": {},
     "output_type": "execute_result"
    }
   ],
   "source": [
    "summary = ann_risk_return(returns)\n",
    "summary"
   ]
  },
  {
   "cell_type": "code",
   "execution_count": 274,
   "metadata": {},
   "outputs": [
    {
     "data": {
      "text/html": [
       "<div>\n",
       "<style scoped>\n",
       "    .dataframe tbody tr th:only-of-type {\n",
       "        vertical-align: middle;\n",
       "    }\n",
       "\n",
       "    .dataframe tbody tr th {\n",
       "        vertical-align: top;\n",
       "    }\n",
       "\n",
       "    .dataframe thead th {\n",
       "        text-align: right;\n",
       "    }\n",
       "</style>\n",
       "<table border=\"1\" class=\"dataframe\">\n",
       "  <thead>\n",
       "    <tr style=\"text-align: right;\">\n",
       "      <th></th>\n",
       "      <th>WMT</th>\n",
       "      <th>AAPL</th>\n",
       "      <th>MSFT</th>\n",
       "    </tr>\n",
       "  </thead>\n",
       "  <tbody>\n",
       "    <tr>\n",
       "      <th>WMT</th>\n",
       "      <td>0.053390</td>\n",
       "      <td>0.026421</td>\n",
       "      <td>0.026760</td>\n",
       "    </tr>\n",
       "    <tr>\n",
       "      <th>AAPL</th>\n",
       "      <td>0.026421</td>\n",
       "      <td>0.102866</td>\n",
       "      <td>0.071477</td>\n",
       "    </tr>\n",
       "    <tr>\n",
       "      <th>MSFT</th>\n",
       "      <td>0.026760</td>\n",
       "      <td>0.071477</td>\n",
       "      <td>0.086547</td>\n",
       "    </tr>\n",
       "  </tbody>\n",
       "</table>\n",
       "</div>"
      ],
      "text/plain": [
       "          WMT     AAPL     MSFT\n",
       "WMT  0.053390 0.026421 0.026760\n",
       "AAPL 0.026421 0.102866 0.071477\n",
       "MSFT 0.026760 0.071477 0.086547"
      ]
     },
     "execution_count": 274,
     "metadata": {},
     "output_type": "execute_result"
    }
   ],
   "source": [
    "cov_matrix = returns.cov() * 252\n",
    "cov_matrix"
   ]
  },
  {
   "attachments": {
    "image.png": {
     "image/png": "[encoded data removed]"
    }
   },
   "cell_type": "markdown",
   "metadata": {},
   "source": [
    "![image.png](attachment:image.png)"
   ]
  },
  {
   "cell_type": "markdown",
   "metadata": {},
   "source": [
    "__Creating the inverse Covariance Matrix__ (beyond scope)"
   ]
  },
  {
   "cell_type": "code",
   "execution_count": 278,
   "metadata": {},
   "outputs": [
    {
     "data": {
      "text/html": [
       "<div>\n",
       "<style scoped>\n",
       "    .dataframe tbody tr th:only-of-type {\n",
       "        vertical-align: middle;\n",
       "    }\n",
       "\n",
       "    .dataframe tbody tr th {\n",
       "        vertical-align: top;\n",
       "    }\n",
       "\n",
       "    .dataframe thead th {\n",
       "        text-align: right;\n",
       "    }\n",
       "</style>\n",
       "<table border=\"1\" class=\"dataframe\">\n",
       "  <thead>\n",
       "    <tr style=\"text-align: right;\">\n",
       "      <th></th>\n",
       "      <th>WMT</th>\n",
       "      <th>AAPL</th>\n",
       "      <th>MSFT</th>\n",
       "    </tr>\n",
       "  </thead>\n",
       "  <tbody>\n",
       "    <tr>\n",
       "      <th>WMT</th>\n",
       "      <td>22.376420</td>\n",
       "      <td>-2.205580</td>\n",
       "      <td>-5.097280</td>\n",
       "    </tr>\n",
       "    <tr>\n",
       "      <th>AAPL</th>\n",
       "      <td>-2.205580</td>\n",
       "      <td>23.029922</td>\n",
       "      <td>-18.337874</td>\n",
       "    </tr>\n",
       "    <tr>\n",
       "      <th>MSFT</th>\n",
       "      <td>-5.097280</td>\n",
       "      <td>-18.337874</td>\n",
       "      <td>28.275354</td>\n",
       "    </tr>\n",
       "  </tbody>\n",
       "</table>\n",
       "</div>"
      ],
      "text/plain": [
       "           WMT       AAPL       MSFT\n",
       "WMT  22.376420  -2.205580  -5.097280\n",
       "AAPL -2.205580  23.029922 -18.337874\n",
       "MSFT -5.097280 -18.337874  28.275354"
      ]
     },
     "execution_count": 278,
     "metadata": {},
     "output_type": "execute_result"
    }
   ],
   "source": [
    "cov_matrix_inv = pd.DataFrame(np.linalg.pinv(cov_matrix.values), cov_matrix.columns, cov_matrix.index)\n",
    "cov_matrix_inv"
   ]
  },
  {
   "cell_type": "code",
   "execution_count": 280,
   "metadata": {},
   "outputs": [
    {
     "data": {
      "text/html": [
       "<div>\n",
       "<style scoped>\n",
       "    .dataframe tbody tr th:only-of-type {\n",
       "        vertical-align: middle;\n",
       "    }\n",
       "\n",
       "    .dataframe tbody tr th {\n",
       "        vertical-align: top;\n",
       "    }\n",
       "\n",
       "    .dataframe thead th {\n",
       "        text-align: right;\n",
       "    }\n",
       "</style>\n",
       "<table border=\"1\" class=\"dataframe\">\n",
       "  <thead>\n",
       "    <tr style=\"text-align: right;\">\n",
       "      <th></th>\n",
       "      <th>WMT</th>\n",
       "      <th>AAPL</th>\n",
       "      <th>MSFT</th>\n",
       "    </tr>\n",
       "  </thead>\n",
       "  <tbody>\n",
       "    <tr>\n",
       "      <th>WMT</th>\n",
       "      <td>1.000000</td>\n",
       "      <td>0.000000</td>\n",
       "      <td>0.000000</td>\n",
       "    </tr>\n",
       "    <tr>\n",
       "      <th>AAPL</th>\n",
       "      <td>0.000000</td>\n",
       "      <td>1.000000</td>\n",
       "      <td>-0.000000</td>\n",
       "    </tr>\n",
       "    <tr>\n",
       "      <th>MSFT</th>\n",
       "      <td>0.000000</td>\n",
       "      <td>-0.000000</td>\n",
       "      <td>1.000000</td>\n",
       "    </tr>\n",
       "  </tbody>\n",
       "</table>\n",
       "</div>"
      ],
      "text/plain": [
       "          WMT      AAPL      MSFT\n",
       "WMT  1.000000  0.000000  0.000000\n",
       "AAPL 0.000000  1.000000 -0.000000\n",
       "MSFT 0.000000 -0.000000  1.000000"
      ]
     },
     "execution_count": 280,
     "metadata": {},
     "output_type": "execute_result"
    }
   ],
   "source": [
    "# matrix multiplication between a matrix and its inverse matrix gives identity matrix \n",
    "cov_matrix.dot(cov_matrix_inv) "
   ]
  },
  {
   "cell_type": "code",
   "execution_count": 282,
   "metadata": {},
   "outputs": [
    {
     "data": {
      "text/plain": [
       "WMT    0.020595\n",
       "AAPL   1.276609\n",
       "MSFT   2.459086\n",
       "dtype: float64"
      ]
     },
     "execution_count": 282,
     "metadata": {},
     "output_type": "execute_result"
    }
   ],
   "source": [
    "w = cov_matrix_inv.dot(summary.CAGR) # see formula\n",
    "w"
   ]
  },
  {
   "cell_type": "code",
   "execution_count": 284,
   "metadata": {},
   "outputs": [
    {
     "data": {
      "text/plain": [
       "WMT    0.005483\n",
       "AAPL   0.339859\n",
       "MSFT   0.654658\n",
       "dtype: float64"
      ]
     },
     "execution_count": 284,
     "metadata": {},
     "output_type": "execute_result"
    }
   ],
   "source": [
    "optimal_weights = (w/w.sum()) # normalize to 1\n",
    "optimal_weights"
   ]
  },
  {
   "cell_type": "code",
   "execution_count": 286,
   "metadata": {},
   "outputs": [],
   "source": [
    "#summary"
   ]
  },
  {
   "cell_type": "code",
   "execution_count": 288,
   "metadata": {},
   "outputs": [],
   "source": [
    "# changing return inputs/assumptions\n",
    "#summary.CAGR = summary.CAGR + np.array([0.02, 0.02, -0.02])\n",
    "#summary"
   ]
  },
  {
   "cell_type": "code",
   "execution_count": null,
   "metadata": {},
   "outputs": [],
   "source": []
  },
  {
   "cell_type": "markdown",
   "metadata": {},
   "source": [
    "## Forward-looking Mean-Variance Optimization (MVO): Pitfalls"
   ]
  },
  {
   "cell_type": "markdown",
   "metadata": {},
   "source": [
    "__typcial problems:__"
   ]
  },
  {
   "cell_type": "markdown",
   "metadata": {},
   "source": [
    "- can lead to __short__ positions and positions __> 1__ (unbounded)\n",
    "- will certainly lead to __concentrated__ portfolios (unbounded)\n",
    "- highly dependent on & sensitive to __inputs/assumptions__ (return forecasts) -> GIGO\n",
    "- small changes in forecasts (returns) lead to __large changes in weights__ (rebalancing costs!)\n",
    "- __no guarantee__ that MVO-optimized Portfolio performs better than naive-diversified portfolio"
   ]
  },
  {
   "cell_type": "code",
   "execution_count": null,
   "metadata": {},
   "outputs": [],
   "source": []
  },
  {
   "cell_type": "markdown",
   "metadata": {},
   "source": [
    "__recap: bounded/contrained Optimization with Scipy__"
   ]
  },
  {
   "cell_type": "code",
   "execution_count": 622,
   "metadata": {},
   "outputs": [],
   "source": [
    "import scipy.optimize as sco "
   ]
  },
  {
   "cell_type": "code",
   "execution_count": 640,
   "metadata": {},
   "outputs": [
    {
     "data": {
      "text/html": [
       "<div>\n",
       "<style scoped>\n",
       "    .dataframe tbody tr th:only-of-type {\n",
       "        vertical-align: middle;\n",
       "    }\n",
       "\n",
       "    .dataframe tbody tr th {\n",
       "        vertical-align: top;\n",
       "    }\n",
       "\n",
       "    .dataframe thead th {\n",
       "        text-align: right;\n",
       "    }\n",
       "</style>\n",
       "<table border=\"1\" class=\"dataframe\">\n",
       "  <thead>\n",
       "    <tr style=\"text-align: right;\">\n",
       "      <th></th>\n",
       "      <th>WMT</th>\n",
       "      <th>AAPL</th>\n",
       "      <th>MSFT</th>\n",
       "    </tr>\n",
       "    <tr>\n",
       "      <th>Date</th>\n",
       "      <th></th>\n",
       "      <th></th>\n",
       "      <th></th>\n",
       "    </tr>\n",
       "  </thead>\n",
       "  <tbody>\n",
       "    <tr>\n",
       "      <th>2017-07-03</th>\n",
       "      <td>NaN</td>\n",
       "      <td>NaN</td>\n",
       "      <td>NaN</td>\n",
       "    </tr>\n",
       "    <tr>\n",
       "      <th>2017-07-05</th>\n",
       "      <td>-0.000531</td>\n",
       "      <td>0.004111</td>\n",
       "      <td>0.013349</td>\n",
       "    </tr>\n",
       "    <tr>\n",
       "      <th>2017-07-06</th>\n",
       "      <td>0.001992</td>\n",
       "      <td>-0.009439</td>\n",
       "      <td>-0.007383</td>\n",
       "    </tr>\n",
       "    <tr>\n",
       "      <th>2017-07-07</th>\n",
       "      <td>-0.001855</td>\n",
       "      <td>0.010159</td>\n",
       "      <td>0.012979</td>\n",
       "    </tr>\n",
       "    <tr>\n",
       "      <th>2017-07-10</th>\n",
       "      <td>-0.027877</td>\n",
       "      <td>0.006104</td>\n",
       "      <td>0.007486</td>\n",
       "    </tr>\n",
       "    <tr>\n",
       "      <th>...</th>\n",
       "      <td>...</td>\n",
       "      <td>...</td>\n",
       "      <td>...</td>\n",
       "    </tr>\n",
       "    <tr>\n",
       "      <th>2022-06-24</th>\n",
       "      <td>0.000809</td>\n",
       "      <td>0.024517</td>\n",
       "      <td>0.034150</td>\n",
       "    </tr>\n",
       "    <tr>\n",
       "      <th>2022-06-27</th>\n",
       "      <td>0.003233</td>\n",
       "      <td>0.000000</td>\n",
       "      <td>-0.010497</td>\n",
       "    </tr>\n",
       "    <tr>\n",
       "      <th>2022-06-28</th>\n",
       "      <td>-0.014099</td>\n",
       "      <td>-0.029790</td>\n",
       "      <td>-0.031749</td>\n",
       "    </tr>\n",
       "    <tr>\n",
       "      <th>2022-06-29</th>\n",
       "      <td>-0.003677</td>\n",
       "      <td>0.013024</td>\n",
       "      <td>0.014738</td>\n",
       "    </tr>\n",
       "    <tr>\n",
       "      <th>2022-06-30</th>\n",
       "      <td>-0.002789</td>\n",
       "      <td>-0.018028</td>\n",
       "      <td>-0.013179</td>\n",
       "    </tr>\n",
       "  </tbody>\n",
       "</table>\n",
       "<p>1258 rows × 3 columns</p>\n",
       "</div>"
      ],
      "text/plain": [
       "                 WMT      AAPL      MSFT\n",
       "Date                                    \n",
       "2017-07-03       NaN       NaN       NaN\n",
       "2017-07-05 -0.000531  0.004111  0.013349\n",
       "2017-07-06  0.001992 -0.009439 -0.007383\n",
       "2017-07-07 -0.001855  0.010159  0.012979\n",
       "2017-07-10 -0.027877  0.006104  0.007486\n",
       "...              ...       ...       ...\n",
       "2022-06-24  0.000809  0.024517  0.034150\n",
       "2022-06-27  0.003233  0.000000 -0.010497\n",
       "2022-06-28 -0.014099 -0.029790 -0.031749\n",
       "2022-06-29 -0.003677  0.013024  0.014738\n",
       "2022-06-30 -0.002789 -0.018028 -0.013179\n",
       "\n",
       "[1258 rows x 3 columns]"
      ]
     },
     "execution_count": 640,
     "metadata": {},
     "output_type": "execute_result"
    }
   ],
   "source": [
    "returns"
   ]
  },
  {
   "cell_type": "code",
   "execution_count": 626,
   "metadata": {},
   "outputs": [
    {
     "data": {
      "text/html": [
       "<div>\n",
       "<style scoped>\n",
       "    .dataframe tbody tr th:only-of-type {\n",
       "        vertical-align: middle;\n",
       "    }\n",
       "\n",
       "    .dataframe tbody tr th {\n",
       "        vertical-align: top;\n",
       "    }\n",
       "\n",
       "    .dataframe thead th {\n",
       "        text-align: right;\n",
       "    }\n",
       "</style>\n",
       "<table border=\"1\" class=\"dataframe\">\n",
       "  <thead>\n",
       "    <tr style=\"text-align: right;\">\n",
       "      <th></th>\n",
       "      <th>WMT</th>\n",
       "      <th>AAPL</th>\n",
       "      <th>MSFT</th>\n",
       "    </tr>\n",
       "  </thead>\n",
       "  <tbody>\n",
       "    <tr>\n",
       "      <th>WMT</th>\n",
       "      <td>0.053390</td>\n",
       "      <td>0.026421</td>\n",
       "      <td>0.026760</td>\n",
       "    </tr>\n",
       "    <tr>\n",
       "      <th>AAPL</th>\n",
       "      <td>0.026421</td>\n",
       "      <td>0.102866</td>\n",
       "      <td>0.071477</td>\n",
       "    </tr>\n",
       "    <tr>\n",
       "      <th>MSFT</th>\n",
       "      <td>0.026760</td>\n",
       "      <td>0.071477</td>\n",
       "      <td>0.086547</td>\n",
       "    </tr>\n",
       "  </tbody>\n",
       "</table>\n",
       "</div>"
      ],
      "text/plain": [
       "          WMT     AAPL     MSFT\n",
       "WMT  0.053390 0.026421 0.026760\n",
       "AAPL 0.026421 0.102866 0.071477\n",
       "MSFT 0.026760 0.071477 0.086547"
      ]
     },
     "execution_count": 626,
     "metadata": {},
     "output_type": "execute_result"
    }
   ],
   "source": [
    "cov_matrix"
   ]
  },
  {
   "cell_type": "code",
   "execution_count": 628,
   "metadata": {},
   "outputs": [
    {
     "data": {
      "text/html": [
       "<div>\n",
       "<style scoped>\n",
       "    .dataframe tbody tr th:only-of-type {\n",
       "        vertical-align: middle;\n",
       "    }\n",
       "\n",
       "    .dataframe tbody tr th {\n",
       "        vertical-align: top;\n",
       "    }\n",
       "\n",
       "    .dataframe thead th {\n",
       "        text-align: right;\n",
       "    }\n",
       "</style>\n",
       "<table border=\"1\" class=\"dataframe\">\n",
       "  <thead>\n",
       "    <tr style=\"text-align: right;\">\n",
       "      <th></th>\n",
       "      <th>ann. Risk</th>\n",
       "      <th>CAGR</th>\n",
       "    </tr>\n",
       "  </thead>\n",
       "  <tbody>\n",
       "    <tr>\n",
       "      <th>WMT</th>\n",
       "      <td>0.231063</td>\n",
       "      <td>0.100635</td>\n",
       "    </tr>\n",
       "    <tr>\n",
       "      <th>AAPL</th>\n",
       "      <td>0.320728</td>\n",
       "      <td>0.307632</td>\n",
       "    </tr>\n",
       "    <tr>\n",
       "      <th>MSFT</th>\n",
       "      <td>0.294188</td>\n",
       "      <td>0.304624</td>\n",
       "    </tr>\n",
       "  </tbody>\n",
       "</table>\n",
       "</div>"
      ],
      "text/plain": [
       "      ann. Risk     CAGR\n",
       "WMT    0.231063 0.100635\n",
       "AAPL   0.320728 0.307632\n",
       "MSFT   0.294188 0.304624"
      ]
     },
     "execution_count": 628,
     "metadata": {},
     "output_type": "execute_result"
    }
   ],
   "source": [
    "summary"
   ]
  },
  {
   "cell_type": "code",
   "execution_count": 642,
   "metadata": {},
   "outputs": [],
   "source": [
    "def port_ret(weights):\n",
    "    cagr = summary.CAGR.dot(weights)\n",
    "    return cagr\n"
   ]
  },
  {
   "cell_type": "code",
   "execution_count": 644,
   "metadata": {},
   "outputs": [],
   "source": [
    "def port_vol(weights):\n",
    "    risk = np.sqrt(weights.dot(cov_matrix).dot(weights))\n",
    "    return risk"
   ]
  },
  {
   "cell_type": "code",
   "execution_count": 646,
   "metadata": {},
   "outputs": [],
   "source": [
    "def min_func_RaR(weights): \n",
    "     return -port_ret(weights) / port_vol(weights) "
   ]
  },
  {
   "cell_type": "code",
   "execution_count": 648,
   "metadata": {},
   "outputs": [
    {
     "data": {
      "text/plain": [
       "3"
      ]
     },
     "execution_count": 648,
     "metadata": {},
     "output_type": "execute_result"
    }
   ],
   "source": [
    "noa = len(summary)\n",
    "noa"
   ]
  },
  {
   "cell_type": "code",
   "execution_count": 650,
   "metadata": {},
   "outputs": [
    {
     "data": {
      "text/plain": [
       "array([0.33333333, 0.33333333, 0.33333333])"
      ]
     },
     "execution_count": 650,
     "metadata": {},
     "output_type": "execute_result"
    }
   ],
   "source": [
    "eweigths = np.full(noa, 1/noa)\n",
    "eweigths"
   ]
  },
  {
   "cell_type": "code",
   "execution_count": 654,
   "metadata": {},
   "outputs": [],
   "source": [
    "#constraint: weights must sum up to 1 -> sum of weights - 1 = 0\n",
    "cons = ({\"type\": \"eq\", \"fun\": lambda x: np.sum(x) - 1})"
   ]
  },
  {
   "cell_type": "code",
   "execution_count": 593,
   "metadata": {},
   "outputs": [
    {
     "data": {
      "text/plain": [
       "((0, 1), (0, 1), (0, 1))"
      ]
     },
     "execution_count": 593,
     "metadata": {},
     "output_type": "execute_result"
    }
   ],
   "source": [
    "#bounds: all weights shall be between 0 and 1 -> can be changed\n",
    "bnds =  tuple((0, 1) for x in range(noa))\n",
    "bnds"
   ]
  },
  {
   "cell_type": "code",
   "execution_count": 656,
   "metadata": {},
   "outputs": [],
   "source": [
    "opts = sco.minimize(min_func_RaR, eweigths, method = \"SLSQP\", bounds = bnds, constraints= cons)"
   ]
  },
  {
   "cell_type": "code",
   "execution_count": 658,
   "metadata": {},
   "outputs": [
    {
     "data": {
      "text/plain": [
       " message: Optimization terminated successfully\n",
       " success: True\n",
       "  status: 0\n",
       "     fun: -1.0695302077434536\n",
       "       x: [ 5.417e-03  3.397e-01  6.548e-01]\n",
       "     nit: 7\n",
       "     jac: [-7.814e-04 -1.163e-04  6.524e-05]\n",
       "    nfev: 29\n",
       "    njev: 7"
      ]
     },
     "execution_count": 658,
     "metadata": {},
     "output_type": "execute_result"
    }
   ],
   "source": [
    "opts"
   ]
  },
  {
   "cell_type": "code",
   "execution_count": 599,
   "metadata": {},
   "outputs": [
    {
     "data": {
      "text/plain": [
       "array([0.00541733, 0.3397464 , 0.65483627])"
      ]
     },
     "execution_count": 599,
     "metadata": {},
     "output_type": "execute_result"
    }
   ],
   "source": [
    "optimal_weights = opts[\"x\"]\n",
    "optimal_weights"
   ]
  },
  {
   "cell_type": "code",
   "execution_count": 660,
   "metadata": {},
   "outputs": [
    {
     "data": {
      "text/plain": [
       "MSFT   0.654658\n",
       "AAPL   0.339859\n",
       "WMT    0.005483\n",
       "dtype: float64"
      ]
     },
     "execution_count": 660,
     "metadata": {},
     "output_type": "execute_result"
    }
   ],
   "source": [
    "pd.Series(data = optimal_weights, index = summary.index).sort_values(ascending = False).head(20)"
   ]
  },
  {
   "cell_type": "code",
   "execution_count": 662,
   "metadata": {},
   "outputs": [
    {
     "data": {
      "text/plain": [
       "0.30452789518650875"
      ]
     },
     "execution_count": 662,
     "metadata": {},
     "output_type": "execute_result"
    }
   ],
   "source": [
    "cagr_opt = port_ret(optimal_weights)\n",
    "cagr_opt"
   ]
  },
  {
   "cell_type": "code",
   "execution_count": 664,
   "metadata": {},
   "outputs": [
    {
     "data": {
      "text/plain": [
       "0.2847305209797306"
      ]
     },
     "execution_count": 664,
     "metadata": {},
     "output_type": "execute_result"
    }
   ],
   "source": [
    "vol_opt = port_vol(optimal_weights)\n",
    "vol_opt"
   ]
  },
  {
   "cell_type": "code",
   "execution_count": 666,
   "metadata": {},
   "outputs": [
    {
     "data": {
      "text/plain": [
       "1.0695302145293635"
      ]
     },
     "execution_count": 666,
     "metadata": {},
     "output_type": "execute_result"
    }
   ],
   "source": [
    "RaR_opt = -min_func_RaR(optimal_weights)\n",
    "RaR_opt"
   ]
  },
  {
   "cell_type": "code",
   "execution_count": null,
   "metadata": {},
   "outputs": [],
   "source": []
  },
  {
   "cell_type": "markdown",
   "metadata": {},
   "source": [
    "## Introduction of a Risk-Free Asset"
   ]
  },
  {
   "cell_type": "markdown",
   "metadata": {},
   "source": [
    "__Risky Assets__: Stocks, Corporate Bonds, Commodities, Cryptocurrencies, etc. (__volatility & uncertain outcomes__) <br>\n",
    "__Risk-free Asset__: Short-Term Government Bond (USA, Germany): __known outcome__ (Coupon Rate / Yield)"
   ]
  },
  {
   "cell_type": "code",
   "execution_count": null,
   "metadata": {},
   "outputs": [],
   "source": [
    "# return of risk-free asset\n",
    "rf = 0.03"
   ]
  },
  {
   "cell_type": "code",
   "execution_count": null,
   "metadata": {},
   "outputs": [],
   "source": [
    "# risk / standard deviation of risk-free asset\n",
    "rfr = 0"
   ]
  },
  {
   "cell_type": "markdown",
   "metadata": {},
   "source": [
    "In addition: Zero Correlation with risky assets."
   ]
  },
  {
   "cell_type": "markdown",
   "metadata": {},
   "source": [
    "Better metric for risk-adjusted return: __Sharpe Ratio__"
   ]
  },
  {
   "attachments": {
    "image.png": {
     "image/png": "[encoded data removed]"
    }
   },
   "cell_type": "markdown",
   "metadata": {},
   "source": [
    "![image.png](attachment:image.png)"
   ]
  },
  {
   "attachments": {
    "image.png": {
     "image/png": "[encoded data removed]"
    }
   },
   "cell_type": "markdown",
   "metadata": {},
   "source": [
    "![image.png](attachment:image.png)"
   ]
  },
  {
   "cell_type": "code",
   "execution_count": null,
   "metadata": {},
   "outputs": [],
   "source": [
    "rf = 0.03# return of risk-free asset\n",
    "# risk / standard deviation of risk-free asset\n",
    "rfr = 0\n",
    "\n",
    "def port_ret(weights):\n",
    "    cagr = summary.CAGR.dot(weights)\n",
    "    return cagr\n",
    "def port_vol(weights):\n",
    "    risk = np.sqrt(weights.dot(cov_matrix).dot(weights))\n",
    "    return risk\n",
    "def min_func_RaR(weights): \n",
    "     return -port_ret(weights) / port_vol(weights) \n",
    "    \n",
    "import pandas as pd\n",
    "import numpy as np\n",
    "import matplotlib.pyplot as plt\n",
    "pd.options.display.float_format = '{:.6f}'.format\n",
    "df = pd.read_csv(\"stocks.csv\", parse_dates = [\"Date\"], index_col = \"Date\")\n",
    "assets = df.columns\n",
    "subset = df[assets].copy()\n",
    "returns = subset.pct_change()\n",
    "def ann_risk_return(returns_df): # assumes simple returns as input\n",
    "    summary = pd.DataFrame(index = returns_df.columns)\n",
    "    summary[\"ann. Risk\"] = returns_df.std() * np.sqrt(252)\n",
    "    log_returns = np.log(returns_df + 1)\n",
    "    summary[\"CAGR\"] = np.exp(log_returns.mean() * 252) - 1\n",
    "    return summary\n",
    "summary = ann_risk_return(returns)\n",
    "summary[\"Sharpe\"] = (summary.CAGR - rf) / summary[\"ann. Risk\"]\n",
    "cov_matrix = returns.cov() * 252\n",
    "noa = len(returns.columns) # number of assets\n",
    "nop = 1000000 # number of random portfolios\n",
    "np.random.seed(123)\n",
    "matrix = np.random.random(noa * nop).reshape(nop, noa)\n",
    "weights = matrix / matrix.sum(axis = 1, keepdims= True)\n",
    "weights\n",
    "\n",
    "port_ret = summary.CAGR.dot(weights.T)\n",
    "port_ret\n",
    "\n",
    "port_risk = np.sqrt((weights.dot(cov_matrix) * weights).sum(axis = 1))\n",
    "port_risk\n",
    "\n",
    "sharpe_ratio = (port_ret - rf) / port_risk\n",
    "sharpe_ratio\n",
    "\n",
    "sharpe_ratio.min()\n",
    "sharpe_ratio.max()\n",
    "\n",
    "summary.loc[\"Rf\"] = [rfr, rf, np.nan]\n",
    "\n",
    "summary\n",
    "\n",
    "plt.figure(figsize = (15, 9))\n",
    "plt.scatter(port_risk, port_ret, s= 5, c = sharpe_ratio, cmap = \"coolwarm\", vmin = 0.5, vmax = 1)\n",
    "plt.colorbar()\n",
    "plt.scatter(summary.loc[:, \"ann. Risk\"], summary.loc[:, \"CAGR\"], s= 20, c = \"black\", marker = \"D\")\n",
    "for i in summary.index:\n",
    "    plt.annotate(i, xy=(summary.loc[i, \"ann. Risk\"]+0.0005, summary.loc[i, \"CAGR\"]+0.0005), size = 15)\n",
    "plt.xlim(0, 0.65)\n",
    "plt.ylim(-0.25, 0.65)\n",
    "plt.xlabel(\"ann. Risk (std)\", fontsize = 15)\n",
    "plt.ylabel(\"CAGR\", fontsize = 15)\n",
    "plt.title(\"Sharpe Ratio\", fontsize = 20)\n",
    "plt.show()"
   ]
  },
  {
   "cell_type": "code",
   "execution_count": null,
   "metadata": {},
   "outputs": [],
   "source": [
    "df = pd.read_csv(\"stocks.csv\", parse_dates = [\"Date\"], index_col = \"Date\")\n",
    "df"
   ]
  },
  {
   "cell_type": "code",
   "execution_count": null,
   "metadata": {},
   "outputs": [],
   "source": [
    "#assets = [\"WMT\", \"AAPL\", \"MSFT\"] # 3-Asset-Case\n",
    "assets = df.columns"
   ]
  },
  {
   "cell_type": "code",
   "execution_count": null,
   "metadata": {},
   "outputs": [],
   "source": [
    "subset = df[assets].copy()\n",
    "subset"
   ]
  },
  {
   "cell_type": "code",
   "execution_count": null,
   "metadata": {},
   "outputs": [],
   "source": [
    "returns = subset.pct_change()\n",
    "returns"
   ]
  },
  {
   "cell_type": "code",
   "execution_count": null,
   "metadata": {},
   "outputs": [],
   "source": [
    "def ann_risk_return(returns_df): # assumes simple returns as input\n",
    "    summary = pd.DataFrame(index = returns_df.columns)\n",
    "    summary[\"ann. Risk\"] = returns_df.std() * np.sqrt(252)\n",
    "    log_returns = np.log(returns_df + 1)\n",
    "    summary[\"CAGR\"] = np.exp(log_returns.mean() * 252) - 1\n",
    "    return summary"
   ]
  },
  {
   "cell_type": "code",
   "execution_count": null,
   "metadata": {},
   "outputs": [],
   "source": [
    "summary = ann_risk_return(returns)\n",
    "summary"
   ]
  },
  {
   "cell_type": "code",
   "execution_count": null,
   "metadata": {},
   "outputs": [],
   "source": [
    "summary[\"Sharpe\"] = (summary.CAGR - rf) / summary[\"ann. Risk\"]\n",
    "summary"
   ]
  },
  {
   "cell_type": "code",
   "execution_count": null,
   "metadata": {},
   "outputs": [],
   "source": [
    "cov_matrix = returns.cov() * 252\n",
    "cov_matrix"
   ]
  },
  {
   "cell_type": "code",
   "execution_count": null,
   "metadata": {},
   "outputs": [],
   "source": [
    "noa = len(returns.columns) # number of assets\n",
    "noa"
   ]
  },
  {
   "cell_type": "code",
   "execution_count": null,
   "metadata": {},
   "outputs": [],
   "source": [
    "nop = 1000000 # number of random portfolios\n",
    "nop"
   ]
  },
  {
   "cell_type": "code",
   "execution_count": null,
   "metadata": {},
   "outputs": [],
   "source": [
    "np.random.seed(123)\n",
    "matrix = np.random.random(noa * nop).reshape(nop, noa)"
   ]
  },
  {
   "cell_type": "code",
   "execution_count": null,
   "metadata": {},
   "outputs": [],
   "source": [
    "weights = matrix / matrix.sum(axis = 1, keepdims= True)\n",
    "weights"
   ]
  },
  {
   "cell_type": "code",
   "execution_count": null,
   "metadata": {},
   "outputs": [],
   "source": [
    "port_ret = summary.CAGR.dot(weights.T)\n",
    "port_ret"
   ]
  },
  {
   "cell_type": "code",
   "execution_count": null,
   "metadata": {},
   "outputs": [],
   "source": [
    "port_risk = np.sqrt((weights.dot(cov_matrix) * weights).sum(axis = 1))\n",
    "port_risk"
   ]
  },
  {
   "cell_type": "code",
   "execution_count": null,
   "metadata": {},
   "outputs": [],
   "source": [
    "sharpe_ratio = (port_ret - rf) / port_risk\n",
    "sharpe_ratio"
   ]
  },
  {
   "cell_type": "code",
   "execution_count": null,
   "metadata": {},
   "outputs": [],
   "source": [
    "sharpe_ratio.min()"
   ]
  },
  {
   "cell_type": "code",
   "execution_count": null,
   "metadata": {},
   "outputs": [],
   "source": [
    "sharpe_ratio.max()"
   ]
  },
  {
   "cell_type": "code",
   "execution_count": null,
   "metadata": {},
   "outputs": [],
   "source": [
    "summary.loc[\"Rf\"] = [rfr, rf, np.nan]"
   ]
  },
  {
   "cell_type": "code",
   "execution_count": null,
   "metadata": {},
   "outputs": [],
   "source": [
    "summary"
   ]
  },
  {
   "cell_type": "code",
   "execution_count": null,
   "metadata": {},
   "outputs": [],
   "source": [
    "plt.figure(figsize = (15, 9))\n",
    "plt.scatter(port_risk, port_ret, s= 5, c = sharpe_ratio, cmap = \"coolwarm\", vmin = 0.5, vmax = 1)\n",
    "plt.colorbar()\n",
    "plt.scatter(summary.loc[:, \"ann. Risk\"], summary.loc[:, \"CAGR\"], s= 20, c = \"black\", marker = \"D\")\n",
    "for i in summary.index:\n",
    "    plt.annotate(i, xy=(summary.loc[i, \"ann. Risk\"]+0.0005, summary.loc[i, \"CAGR\"]+0.0005), size = 15)\n",
    "plt.xlim(0, 0.65)\n",
    "plt.ylim(-0.25, 0.65)\n",
    "plt.xlabel(\"ann. Risk (std)\", fontsize = 15)\n",
    "plt.ylabel(\"CAGR\", fontsize = 15)\n",
    "plt.title(\"Sharpe Ratio\", fontsize = 20)\n",
    "plt.show()"
   ]
  },
  {
   "cell_type": "code",
   "execution_count": null,
   "metadata": {},
   "outputs": [],
   "source": []
  },
  {
   "cell_type": "markdown",
   "metadata": {},
   "source": [
    "## The Sharpe Ratio: Graphical Interpretation"
   ]
  },
  {
   "cell_type": "markdown",
   "metadata": {},
   "source": [
    "__Example: Sharpe Ratio MSFT__"
   ]
  },
  {
   "attachments": {
    "image.png": {
     "image/png": "[encoded data removed]"
    }
   },
   "cell_type": "markdown",
   "metadata": {},
   "source": [
    "![image.png](attachment:image.png)"
   ]
  },
  {
   "attachments": {
    "image.png": {
     "image/png": "[encoded data removed]"
    }
   },
   "cell_type": "markdown",
   "metadata": {},
   "source": [
    "![image.png](attachment:image.png)"
   ]
  },
  {
   "cell_type": "markdown",
   "metadata": {},
   "source": [
    "-> The __Sharpe Ratio__ of an Asset/Portfolio can be interpreted as the __Slope__ of the straight line connecting the __Asset/Portfolio with the Risk-free Asset__."
   ]
  },
  {
   "cell_type": "code",
   "execution_count": null,
   "metadata": {},
   "outputs": [],
   "source": []
  },
  {
   "cell_type": "markdown",
   "metadata": {},
   "source": [
    "## Portfolio Optimization with Risk-free Asset (Part 1)"
   ]
  },
  {
   "cell_type": "markdown",
   "metadata": {},
   "source": [
    "__Portfolio Optimization__: Finding the Portfolio with the __highest Sharpe Ratio__"
   ]
  },
  {
   "cell_type": "markdown",
   "metadata": {},
   "source": [
    "__Graphical Solution__: Drawing a Tangency line from Risk-Free Asset to Efficient Frontier -> __Tangency Portfolio__"
   ]
  },
  {
   "cell_type": "code",
   "execution_count": null,
   "metadata": {},
   "outputs": [],
   "source": [
    "import scipy.optimize as sco"
   ]
  },
  {
   "cell_type": "code",
   "execution_count": null,
   "metadata": {},
   "outputs": [],
   "source": [
    "summary.drop(index = \"Rf\", inplace = True)\n",
    "summary"
   ]
  },
  {
   "cell_type": "code",
   "execution_count": null,
   "metadata": {},
   "outputs": [],
   "source": [
    "def port_ret(weights):\n",
    "    cagr = summary.CAGR.dot(weights)\n",
    "    return cagr"
   ]
  },
  {
   "cell_type": "code",
   "execution_count": null,
   "metadata": {},
   "outputs": [],
   "source": [
    "def port_vol(weights):\n",
    "    risk = np.sqrt(weights.dot(cov_matrix).dot(weights))\n",
    "    return risk"
   ]
  },
  {
   "cell_type": "code",
   "execution_count": null,
   "metadata": {},
   "outputs": [],
   "source": [
    "def sharpe(weights): \n",
    "     return -(port_ret(weights)-rf) / port_vol(weights) "
   ]
  },
  {
   "cell_type": "code",
   "execution_count": null,
   "metadata": {},
   "outputs": [],
   "source": [
    "noa = len(summary)\n",
    "noa"
   ]
  },
  {
   "cell_type": "code",
   "execution_count": null,
   "metadata": {},
   "outputs": [],
   "source": [
    "eweigths = np.full(noa, 1/noa)\n",
    "eweigths"
   ]
  },
  {
   "cell_type": "code",
   "execution_count": null,
   "metadata": {},
   "outputs": [],
   "source": []
  },
  {
   "cell_type": "markdown",
   "metadata": {},
   "source": [
    "__Efficient Frontier__"
   ]
  },
  {
   "cell_type": "code",
   "execution_count": null,
   "metadata": {},
   "outputs": [],
   "source": [
    "# portfolio return == tcagr\n",
    "cons = ({\"type\": \"eq\", \"fun\": lambda x: port_ret(x)-tcagr},\n",
    "       {\"type\": \"eq\", \"fun\": lambda x: np.sum(x) -1})"
   ]
  },
  {
   "cell_type": "code",
   "execution_count": null,
   "metadata": {},
   "outputs": [],
   "source": [
    "tcagrs = np.linspace(summary.CAGR.min(), summary.CAGR.max(), 500)\n",
    "tcagrs"
   ]
  },
  {
   "cell_type": "code",
   "execution_count": null,
   "metadata": {},
   "outputs": [],
   "source": [
    "bnds =  tuple((0, 1) for x in range(noa))\n",
    "bnds"
   ]
  },
  {
   "cell_type": "code",
   "execution_count": null,
   "metadata": {},
   "outputs": [],
   "source": [
    "vols = []"
   ]
  },
  {
   "cell_type": "code",
   "execution_count": null,
   "metadata": {},
   "outputs": [],
   "source": [
    "#for each target return, find the portfolio with the lowest volatility\n",
    "for tcagr in tcagrs:\n",
    "    res = sco.minimize(port_vol, eweigths, method = \"SLSQP\", bounds= bnds, constraints= cons)\n",
    "    vols.append(res[\"fun\"])\n",
    "vols = np.array(vols)"
   ]
  },
  {
   "cell_type": "code",
   "execution_count": null,
   "metadata": {},
   "outputs": [],
   "source": [
    "plt.figure(figsize = (15, 8))\n",
    "plt.scatter(summary.loc[:, \"ann. Risk\"], summary.loc[:, \"CAGR\"],s= 50, marker = \"D\", c = \"black\")\n",
    "for i in summary.index:\n",
    "    plt.annotate(i, xy=(summary.loc[i, \"ann. Risk\"]+0.01, summary.loc[i, \"CAGR\"]+0.01), size = 15)\n",
    "plt.plot(vols, tcagrs)\n",
    "plt.xlabel(\"ann. Risk (std)\", fontsize = 15)\n",
    "plt.ylabel(\"CAGR\", fontsize = 15)\n",
    "plt.title(\"The Efficient Frontier\", fontsize = 20)\n",
    "plt.show()"
   ]
  },
  {
   "cell_type": "code",
   "execution_count": null,
   "metadata": {},
   "outputs": [],
   "source": []
  },
  {
   "cell_type": "markdown",
   "metadata": {},
   "source": [
    "## Portfolio Optimization with Risk-free Asset (Part 2)"
   ]
  },
  {
   "cell_type": "markdown",
   "metadata": {},
   "source": [
    "__Optimization (max Sharpe Ratio)__"
   ]
  },
  {
   "cell_type": "code",
   "execution_count": null,
   "metadata": {},
   "outputs": [],
   "source": [
    "#constraint: weights must sum up to 1 -> sum of weights - 1 = 0\n",
    "cons = ({\"type\": \"eq\", \"fun\": lambda x: np.sum(x) - 1})"
   ]
  },
  {
   "cell_type": "code",
   "execution_count": null,
   "metadata": {},
   "outputs": [],
   "source": [
    "opts = sco.minimize(sharpe, eweigths, method = \"SLSQP\", bounds = bnds, constraints= cons)"
   ]
  },
  {
   "cell_type": "code",
   "execution_count": null,
   "metadata": {},
   "outputs": [],
   "source": [
    "opts"
   ]
  },
  {
   "cell_type": "code",
   "execution_count": null,
   "metadata": {},
   "outputs": [],
   "source": [
    "optimal_weights = opts[\"x\"]\n",
    "optimal_weights"
   ]
  },
  {
   "cell_type": "code",
   "execution_count": null,
   "metadata": {},
   "outputs": [],
   "source": [
    "pd.Series(data = optimal_weights, index = summary.index).sort_values(ascending = False).head(20)"
   ]
  },
  {
   "cell_type": "code",
   "execution_count": null,
   "metadata": {},
   "outputs": [],
   "source": [
    "cagr_opt = port_ret(optimal_weights)\n",
    "cagr_opt"
   ]
  },
  {
   "cell_type": "code",
   "execution_count": null,
   "metadata": {},
   "outputs": [],
   "source": [
    "vol_opt = port_vol(optimal_weights)\n",
    "vol_opt"
   ]
  },
  {
   "cell_type": "code",
   "execution_count": null,
   "metadata": {},
   "outputs": [],
   "source": [
    "sharpe_opt = -sharpe(optimal_weights)\n",
    "sharpe_opt "
   ]
  },
  {
   "cell_type": "code",
   "execution_count": null,
   "metadata": {},
   "outputs": [],
   "source": [
    "plt.figure(figsize = (15, 8))\n",
    "plt.scatter(summary.loc[:, \"ann. Risk\"], summary.loc[:, \"CAGR\"],s= 50, marker = \"D\", c = \"black\")\n",
    "for i in summary.index:\n",
    "    plt.annotate(i, xy=(summary.loc[i, \"ann. Risk\"]+0.01, summary.loc[i, \"CAGR\"]+0.01), size = 15)\n",
    "plt.plot(vols, tcagrs)\n",
    "plt.scatter(rfr, rf, s= 50, marker = \"D\", c = \"red\")\n",
    "plt.annotate(\"Rf\", xy= (rfr+0.01, rf+0.01), size = 15)\n",
    "plt.scatter(vol_opt, cagr_opt, s= 50, marker = \"D\", c = \"green\")\n",
    "plt.annotate(\"MSRP\", xy= (vol_opt+0.0, cagr_opt+0.02), size = 15)\n",
    "plt.plot(np.array([0, 0.6]), rf+sharpe_opt*np.array([0, 0.6]), label = \"Capital Market Line (CML)\")\n",
    "plt.xlabel(\"ann. Risk (std)\", fontsize = 15)\n",
    "plt.ylabel(\"CAGR\", fontsize = 15)\n",
    "plt.title(\"The Max Sharpe Ratio Portfolio\", fontsize = 20)\n",
    "plt.legend(fontsize = 15)\n",
    "plt.show()"
   ]
  },
  {
   "cell_type": "markdown",
   "metadata": {},
   "source": [
    "__(Unbounded) Optimization with Linear Algebra__:"
   ]
  },
  {
   "cell_type": "code",
   "execution_count": null,
   "metadata": {},
   "outputs": [],
   "source": []
  },
  {
   "cell_type": "markdown",
   "metadata": {},
   "source": [
    "## Implications and the Two-Fund-Theorem"
   ]
  },
  {
   "attachments": {
    "image.png": {
     "image/png": "[encoded data removed]"
    }
   },
   "cell_type": "markdown",
   "metadata": {},
   "source": [
    "![image.png](attachment:image.png)"
   ]
  },
  {
   "cell_type": "code",
   "execution_count": null,
   "metadata": {},
   "outputs": [],
   "source": []
  }
 ],
 "metadata": {
  "kernelspec": {
   "display_name": "Python 3 (ipykernel)",
   "language": "python",
   "name": "python3"
  },
  "language_info": {
   "codemirror_mode": {
    "name": "ipython",
    "version": 3
   },
   "file_extension": ".py",
   "mimetype": "text/x-python",
   "name": "python",
   "nbconvert_exporter": "python",
   "pygments_lexer": "ipython3",
   "version": "3.10.14"
  }
 },
 "nbformat": 4,
 "nbformat_minor": 4
}
